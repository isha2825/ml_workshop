{
  "nbformat": 4,
  "nbformat_minor": 0,
  "metadata": {
    "colab": {
      "name": "cifar10_keras.ipynb",
      "provenance": [],
      "collapsed_sections": []
    },
    "kernelspec": {
      "name": "python3",
      "display_name": "Python 3"
    },
    "accelerator": "GPU"
  },
  "cells": [
    {
      "cell_type": "code",
      "metadata": {
        "id": "WddbuQPho3Nd",
        "colab_type": "code",
        "colab": {}
      },
      "source": [
        "from keras.datasets.cifar10 import load_data"
      ],
      "execution_count": null,
      "outputs": []
    },
    {
      "cell_type": "code",
      "metadata": {
        "id": "kqlryETGpI-8",
        "colab_type": "code",
        "colab": {}
      },
      "source": [
        "(x_train, y_train), (x_test, y_test)  = load_data()"
      ],
      "execution_count": null,
      "outputs": []
    },
    {
      "cell_type": "code",
      "metadata": {
        "id": "GGcgLvV3ukWd",
        "colab_type": "code",
        "colab": {}
      },
      "source": [
        ""
      ],
      "execution_count": null,
      "outputs": []
    },
    {
      "cell_type": "code",
      "metadata": {
        "id": "rIWE2lD4uo_w",
        "colab_type": "code",
        "colab": {}
      },
      "source": [
        ""
      ],
      "execution_count": null,
      "outputs": []
    },
    {
      "cell_type": "code",
      "metadata": {
        "id": "p8_d4H0iu9qQ",
        "colab_type": "code",
        "colab": {}
      },
      "source": [
        ""
      ],
      "execution_count": null,
      "outputs": []
    },
    {
      "cell_type": "code",
      "metadata": {
        "id": "mRQl_77ouziE",
        "colab_type": "code",
        "colab": {}
      },
      "source": [
        ""
      ],
      "execution_count": null,
      "outputs": []
    },
    {
      "cell_type": "code",
      "metadata": {
        "id": "cyXtb2eEpmkk",
        "colab_type": "code",
        "colab": {}
      },
      "source": [
        "import matplotlib.pyplot as plt"
      ],
      "execution_count": null,
      "outputs": []
    },
    {
      "cell_type": "code",
      "metadata": {
        "id": "YG_g3RIbp1QN",
        "colab_type": "code",
        "colab": {
          "base_uri": "https://localhost:8080/",
          "height": 34
        },
        "outputId": "bf804310-d6d3-4723-8f8b-87fbbfb45442"
      },
      "source": [
        "x_train.shape"
      ],
      "execution_count": null,
      "outputs": [
        {
          "output_type": "execute_result",
          "data": {
            "text/plain": [
              "(50000, 32, 32, 3)"
            ]
          },
          "metadata": {
            "tags": []
          },
          "execution_count": 29
        }
      ]
    },
    {
      "cell_type": "code",
      "metadata": {
        "id": "uzNxw_DsqSZA",
        "colab_type": "code",
        "colab": {
          "base_uri": "https://localhost:8080/",
          "height": 136
        },
        "outputId": "18411069-b054-43c1-cd48-353632c593a5"
      },
      "source": [
        "y_train"
      ],
      "execution_count": null,
      "outputs": [
        {
          "output_type": "execute_result",
          "data": {
            "text/plain": [
              "array([[6],\n",
              "       [9],\n",
              "       [9],\n",
              "       ...,\n",
              "       [9],\n",
              "       [1],\n",
              "       [1]], dtype=uint8)"
            ]
          },
          "metadata": {
            "tags": []
          },
          "execution_count": 30
        }
      ]
    },
    {
      "cell_type": "code",
      "metadata": {
        "id": "XVpRtF1_pySb",
        "colab_type": "code",
        "colab": {}
      },
      "source": [
        "from keras.layers import Conv2D,MaxPooling2D,Flatten,Dense,BatchNormalization\n",
        "from keras.models import Sequential"
      ],
      "execution_count": null,
      "outputs": []
    },
    {
      "cell_type": "code",
      "metadata": {
        "id": "QgTUU-_UrNrW",
        "colab_type": "code",
        "colab": {}
      },
      "source": [
        "model = Sequential()\n",
        "model.add(Conv2D(32,(2,2),activation=\"relu\",input_shape=(32,32,3)))\n",
        "model.add(BatchNormalization())\n",
        "model.add(MaxPooling2D(pool_size=(2,2)))\n",
        "\n",
        "model.add(Conv2D(128,(2,2),activation=\"relu\"))\n",
        "model.add(BatchNormalization())\n",
        "model.add(MaxPooling2D(pool_size=(2,2)))\n",
        "\n",
        "model.add(Conv2D(64,(2,2),activation=\"relu\"))\n",
        "model.add(BatchNormalization())\n",
        "\n",
        "model.add(Flatten())\n",
        "model.add(Dense(64,activation=\"relu\"))\n",
        "model.add(Dense(10,activation=\"softmax\"))"
      ],
      "execution_count": null,
      "outputs": []
    },
    {
      "cell_type": "code",
      "metadata": {
        "id": "J3CitWTEs9WW",
        "colab_type": "code",
        "colab": {}
      },
      "source": [
        "model.compile(loss=\"sparse_categorical_crossentropy\",optimizer=\"adam\",metrics=[\"accuracy\"])"
      ],
      "execution_count": null,
      "outputs": []
    },
    {
      "cell_type": "code",
      "metadata": {
        "id": "lS9p_w8GtMHw",
        "colab_type": "code",
        "colab": {
          "base_uri": "https://localhost:8080/",
          "height": 751
        },
        "outputId": "3e82f46b-464e-474f-93a9-2dd2784c7c00"
      },
      "source": [
        "model.fit(x_train,y_train,epochs=20,batch_size=5000)"
      ],
      "execution_count": null,
      "outputs": [
        {
          "output_type": "stream",
          "text": [
            "Epoch 1/20\n",
            " 2/10 [=====>........................] - ETA: 2s - loss: 2.6095 - accuracy: 0.1419WARNING:tensorflow:Callbacks method `on_train_batch_end` is slow compared to the batch time (batch time: 0.0118s vs `on_train_batch_end` time: 0.3294s). Check your callbacks.\n",
            "10/10 [==============================] - 3s 349ms/step - loss: 2.0034 - accuracy: 0.3125\n",
            "Epoch 2/20\n",
            "10/10 [==============================] - 3s 341ms/step - loss: 1.4392 - accuracy: 0.4906\n",
            "Epoch 3/20\n",
            "10/10 [==============================] - 3s 344ms/step - loss: 1.2372 - accuracy: 0.5646\n",
            "Epoch 4/20\n",
            "10/10 [==============================] - 3s 341ms/step - loss: 1.1028 - accuracy: 0.6120\n",
            "Epoch 5/20\n",
            "10/10 [==============================] - 3s 343ms/step - loss: 0.9972 - accuracy: 0.6507\n",
            "Epoch 6/20\n",
            "10/10 [==============================] - 3s 344ms/step - loss: 0.9088 - accuracy: 0.6833\n",
            "Epoch 7/20\n",
            "10/10 [==============================] - 3s 344ms/step - loss: 0.8352 - accuracy: 0.7122\n",
            "Epoch 8/20\n",
            "10/10 [==============================] - 3s 343ms/step - loss: 0.7698 - accuracy: 0.7371\n",
            "Epoch 9/20\n",
            "10/10 [==============================] - 3s 340ms/step - loss: 0.7163 - accuracy: 0.7554\n",
            "Epoch 10/20\n",
            "10/10 [==============================] - 3s 342ms/step - loss: 0.6640 - accuracy: 0.7743\n",
            "Epoch 11/20\n",
            "10/10 [==============================] - 3s 341ms/step - loss: 0.6166 - accuracy: 0.7931\n",
            "Epoch 12/20\n",
            "10/10 [==============================] - 3s 341ms/step - loss: 0.5759 - accuracy: 0.8089\n",
            "Epoch 13/20\n",
            "10/10 [==============================] - 3s 343ms/step - loss: 0.5384 - accuracy: 0.8223\n",
            "Epoch 14/20\n",
            "10/10 [==============================] - 3s 340ms/step - loss: 0.5003 - accuracy: 0.8370\n",
            "Epoch 15/20\n",
            "10/10 [==============================] - 3s 345ms/step - loss: 0.4644 - accuracy: 0.8519\n",
            "Epoch 16/20\n",
            "10/10 [==============================] - 3s 342ms/step - loss: 0.4299 - accuracy: 0.8666\n",
            "Epoch 17/20\n",
            "10/10 [==============================] - 3s 344ms/step - loss: 0.4041 - accuracy: 0.8744\n",
            "Epoch 18/20\n",
            "10/10 [==============================] - 3s 344ms/step - loss: 0.3749 - accuracy: 0.8863\n",
            "Epoch 19/20\n",
            "10/10 [==============================] - 3s 342ms/step - loss: 0.3458 - accuracy: 0.8984\n",
            "Epoch 20/20\n",
            "10/10 [==============================] - 3s 344ms/step - loss: 0.3192 - accuracy: 0.9097\n"
          ],
          "name": "stdout"
        },
        {
          "output_type": "execute_result",
          "data": {
            "text/plain": [
              "<tensorflow.python.keras.callbacks.History at 0x7f5a82ea5fd0>"
            ]
          },
          "metadata": {
            "tags": []
          },
          "execution_count": 48
        }
      ]
    },
    {
      "cell_type": "code",
      "metadata": {
        "id": "4kLuUhiNtYM0",
        "colab_type": "code",
        "colab": {
          "base_uri": "https://localhost:8080/",
          "height": 51
        },
        "outputId": "7443ff4c-65fe-4fa9-d291-a475805189c4"
      },
      "source": [
        "model.evaluate(x_test,y_test)"
      ],
      "execution_count": null,
      "outputs": [
        {
          "output_type": "stream",
          "text": [
            "313/313 [==============================] - 1s 4ms/step - loss: 1.1107 - accuracy: 0.6283\n"
          ],
          "name": "stdout"
        },
        {
          "output_type": "execute_result",
          "data": {
            "text/plain": [
              "[1.1107467412948608, 0.6283000111579895]"
            ]
          },
          "metadata": {
            "tags": []
          },
          "execution_count": 41
        }
      ]
    },
    {
      "cell_type": "code",
      "metadata": {
        "id": "grIWa6DLsYDd",
        "colab_type": "code",
        "colab": {
          "base_uri": "https://localhost:8080/",
          "height": 68
        },
        "outputId": "69e274b2-fa49-4344-8ac2-358305e2f6dd"
      },
      "source": [
        "model.predict(x_test)[0]"
      ],
      "execution_count": null,
      "outputs": [
        {
          "output_type": "execute_result",
          "data": {
            "text/plain": [
              "array([0.07387665, 0.00421421, 0.03517856, 0.30396578, 0.07631193,\n",
              "       0.17538817, 0.23665695, 0.01126927, 0.08163593, 0.00150257],\n",
              "      dtype=float32)"
            ]
          },
          "metadata": {
            "tags": []
          },
          "execution_count": 11
        }
      ]
    },
    {
      "cell_type": "code",
      "metadata": {
        "id": "UTnUtMP7rA99",
        "colab_type": "code",
        "colab": {}
      },
      "source": [
        "from PIL import Image\n",
        "import numpy as np"
      ],
      "execution_count": null,
      "outputs": []
    },
    {
      "cell_type": "code",
      "metadata": {
        "id": "pRMNhoWV_r77",
        "colab_type": "code",
        "colab": {}
      },
      "source": [
        ""
      ],
      "execution_count": null,
      "outputs": []
    },
    {
      "cell_type": "code",
      "metadata": {
        "id": "wfhXmKYgAMRM",
        "colab_type": "code",
        "colab": {}
      },
      "source": [
        ""
      ],
      "execution_count": null,
      "outputs": []
    },
    {
      "cell_type": "code",
      "metadata": {
        "id": "OCcSNHNF1jJl",
        "colab_type": "code",
        "colab": {}
      },
      "source": [
        "im = np.array(Image.open('/content/dog (1).jpg'))"
      ],
      "execution_count": null,
      "outputs": []
    },
    {
      "cell_type": "code",
      "metadata": {
        "id": "jc3ySIVk1n0L",
        "colab_type": "code",
        "colab": {
          "base_uri": "https://localhost:8080/",
          "height": 34
        },
        "outputId": "48ee807d-1f34-4565-85c0-cc6c114cbf42"
      },
      "source": [
        "np.argmax(model.predict(im.reshape(1,32,32,3)))"
      ],
      "execution_count": null,
      "outputs": [
        {
          "output_type": "execute_result",
          "data": {
            "text/plain": [
              "5"
            ]
          },
          "metadata": {
            "tags": []
          },
          "execution_count": 25
        }
      ]
    },
    {
      "cell_type": "code",
      "metadata": {
        "id": "X_dViBWP10BH",
        "colab_type": "code",
        "colab": {
          "base_uri": "https://localhost:8080/",
          "height": 68
        },
        "outputId": "6c528bf1-af8e-45d0-f953-02c34fef350d"
      },
      "source": [
        "model.predict(im.reshape(1,32,32,3))"
      ],
      "execution_count": null,
      "outputs": [
        {
          "output_type": "execute_result",
          "data": {
            "text/plain": [
              "array([[0.07685161, 0.00602691, 0.00722714, 0.22981155, 0.21476962,\n",
              "        0.23423499, 0.02331303, 0.0856337 , 0.11099745, 0.01113406]],\n",
              "      dtype=float32)"
            ]
          },
          "metadata": {
            "tags": []
          },
          "execution_count": 27
        }
      ]
    },
    {
      "cell_type": "code",
      "metadata": {
        "id": "BeUGA5UN1laf",
        "colab_type": "code",
        "colab": {}
      },
      "source": [
        "model.save()"
      ],
      "execution_count": null,
      "outputs": []
    },
    {
      "cell_type": "code",
      "metadata": {
        "id": "Uk0ZIQudpaZj",
        "colab_type": "code",
        "colab": {}
      },
      "source": [
        ""
      ],
      "execution_count": null,
      "outputs": []
    }
  ]
}