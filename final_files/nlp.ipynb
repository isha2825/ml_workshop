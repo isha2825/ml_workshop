{
  "nbformat": 4,
  "nbformat_minor": 0,
  "metadata": {
    "colab": {
      "name": "nlp.ipynb",
      "provenance": []
    },
    "kernelspec": {
      "name": "python3",
      "display_name": "Python 3"
    },
    "accelerator": "GPU"
  },
  "cells": [
    {
      "cell_type": "code",
      "metadata": {
        "id": "G0Xj5aoTHlSr",
        "colab_type": "code",
        "colab": {}
      },
      "source": [
        "import nltk\n",
        "import pandas as pd\n",
        "import re\n",
        "import numpy as np"
      ],
      "execution_count": null,
      "outputs": []
    },
    {
      "cell_type": "code",
      "metadata": {
        "id": "GF1FwaAp6WW3",
        "colab_type": "code",
        "colab": {
          "base_uri": "https://localhost:8080/",
          "height": 310
        },
        "outputId": "deea6f37-64fb-4843-b55b-cd6a07e43cfd"
      },
      "source": [
        "df = pd.read_csv(\"/content/spam_ham_dataset.csv\")\n",
        "!wget https://www.kaggle.com/venky73/spam-mails-dataset/download"
      ],
      "execution_count": null,
      "outputs": [
        {
          "output_type": "stream",
          "text": [
            "--2020-09-11 14:26:46--  https://www.kaggle.com/venky73/spam-mails-dataset/download\n",
            "Resolving www.kaggle.com (www.kaggle.com)... 35.244.233.98\n",
            "Connecting to www.kaggle.com (www.kaggle.com)|35.244.233.98|:443... connected.\n",
            "HTTP request sent, awaiting response... 302 Found\n",
            "Location: /account/login?returnUrl=%2Fvenky73%2Fspam-mails-dataset&message=Welcome to Kaggle! Join our community of over 5 million data scientists. Find datasets and code as well as free access to compute on our platform.&titleType=dataset-downloads&showDatasetDownloadSkip=False [following]\n",
            "--2020-09-11 14:26:47--  https://www.kaggle.com/account/login?returnUrl=%2Fvenky73%2Fspam-mails-dataset&message=Welcome%20to%20Kaggle!%20Join%20our%20community%20of%20over%205%20million%20data%20scientists.%20Find%20datasets%20and%20code%20as%20well%20as%20free%20access%20to%20compute%20on%20our%20platform.&titleType=dataset-downloads&showDatasetDownloadSkip=False\n",
            "Reusing existing connection to www.kaggle.com:443.\n",
            "HTTP request sent, awaiting response... 200 OK\n",
            "Length: unspecified [text/html]\n",
            "Saving to: ‘download.1’\n",
            "\n",
            "download.1              [ <=>                ]   7.55K  --.-KB/s    in 0.03s   \n",
            "\n",
            "2020-09-11 14:26:48 (301 KB/s) - ‘download.1’ saved [7733]\n",
            "\n"
          ],
          "name": "stdout"
        }
      ]
    },
    {
      "cell_type": "code",
      "metadata": {
        "id": "vNjJgZmQ62PT",
        "colab_type": "code",
        "colab": {}
      },
      "source": [
        "df = df.drop([\"Unnamed: 0\",\"label\"],axis=1)"
      ],
      "execution_count": null,
      "outputs": []
    },
    {
      "cell_type": "code",
      "metadata": {
        "id": "PWixmynL68VZ",
        "colab_type": "code",
        "colab": {
          "base_uri": "https://localhost:8080/",
          "height": 424
        },
        "outputId": "29fbcd01-5f74-4f94-fdd0-371169bee540"
      },
      "source": [
        "df"
      ],
      "execution_count": null,
      "outputs": [
        {
          "output_type": "execute_result",
          "data": {
            "text/html": [
              "<div>\n",
              "<style scoped>\n",
              "    .dataframe tbody tr th:only-of-type {\n",
              "        vertical-align: middle;\n",
              "    }\n",
              "\n",
              "    .dataframe tbody tr th {\n",
              "        vertical-align: top;\n",
              "    }\n",
              "\n",
              "    .dataframe thead th {\n",
              "        text-align: right;\n",
              "    }\n",
              "</style>\n",
              "<table border=\"1\" class=\"dataframe\">\n",
              "  <thead>\n",
              "    <tr style=\"text-align: right;\">\n",
              "      <th></th>\n",
              "      <th>text</th>\n",
              "      <th>label_num</th>\n",
              "    </tr>\n",
              "  </thead>\n",
              "  <tbody>\n",
              "    <tr>\n",
              "      <th>0</th>\n",
              "      <td>Subject: enron methanol ; meter # : 988291\\r\\n...</td>\n",
              "      <td>0</td>\n",
              "    </tr>\n",
              "    <tr>\n",
              "      <th>1</th>\n",
              "      <td>Subject: hpl nom for january 9 , 2001\\r\\n( see...</td>\n",
              "      <td>0</td>\n",
              "    </tr>\n",
              "    <tr>\n",
              "      <th>2</th>\n",
              "      <td>Subject: neon retreat\\r\\nho ho ho , we ' re ar...</td>\n",
              "      <td>0</td>\n",
              "    </tr>\n",
              "    <tr>\n",
              "      <th>3</th>\n",
              "      <td>Subject: photoshop , windows , office . cheap ...</td>\n",
              "      <td>1</td>\n",
              "    </tr>\n",
              "    <tr>\n",
              "      <th>4</th>\n",
              "      <td>Subject: re : indian springs\\r\\nthis deal is t...</td>\n",
              "      <td>0</td>\n",
              "    </tr>\n",
              "    <tr>\n",
              "      <th>...</th>\n",
              "      <td>...</td>\n",
              "      <td>...</td>\n",
              "    </tr>\n",
              "    <tr>\n",
              "      <th>5166</th>\n",
              "      <td>Subject: put the 10 on the ft\\r\\nthe transport...</td>\n",
              "      <td>0</td>\n",
              "    </tr>\n",
              "    <tr>\n",
              "      <th>5167</th>\n",
              "      <td>Subject: 3 / 4 / 2000 and following noms\\r\\nhp...</td>\n",
              "      <td>0</td>\n",
              "    </tr>\n",
              "    <tr>\n",
              "      <th>5168</th>\n",
              "      <td>Subject: calpine daily gas nomination\\r\\n&gt;\\r\\n...</td>\n",
              "      <td>0</td>\n",
              "    </tr>\n",
              "    <tr>\n",
              "      <th>5169</th>\n",
              "      <td>Subject: industrial worksheets for august 2000...</td>\n",
              "      <td>0</td>\n",
              "    </tr>\n",
              "    <tr>\n",
              "      <th>5170</th>\n",
              "      <td>Subject: important online banking alert\\r\\ndea...</td>\n",
              "      <td>1</td>\n",
              "    </tr>\n",
              "  </tbody>\n",
              "</table>\n",
              "<p>5171 rows × 2 columns</p>\n",
              "</div>"
            ],
            "text/plain": [
              "                                                   text  label_num\n",
              "0     Subject: enron methanol ; meter # : 988291\\r\\n...          0\n",
              "1     Subject: hpl nom for january 9 , 2001\\r\\n( see...          0\n",
              "2     Subject: neon retreat\\r\\nho ho ho , we ' re ar...          0\n",
              "3     Subject: photoshop , windows , office . cheap ...          1\n",
              "4     Subject: re : indian springs\\r\\nthis deal is t...          0\n",
              "...                                                 ...        ...\n",
              "5166  Subject: put the 10 on the ft\\r\\nthe transport...          0\n",
              "5167  Subject: 3 / 4 / 2000 and following noms\\r\\nhp...          0\n",
              "5168  Subject: calpine daily gas nomination\\r\\n>\\r\\n...          0\n",
              "5169  Subject: industrial worksheets for august 2000...          0\n",
              "5170  Subject: important online banking alert\\r\\ndea...          1\n",
              "\n",
              "[5171 rows x 2 columns]"
            ]
          },
          "metadata": {
            "tags": []
          },
          "execution_count": 7
        }
      ]
    },
    {
      "cell_type": "code",
      "metadata": {
        "id": "-CcOdFCZ609S",
        "colab_type": "code",
        "colab": {
          "base_uri": "https://localhost:8080/",
          "height": 53
        },
        "outputId": "f3f04d80-5d1b-49d2-8108-52910751f2c6"
      },
      "source": [
        "from nltk.corpus import stopwords\n",
        "nltk.download('stopwords')\n",
        "from nltk.stem import LancasterStemmer"
      ],
      "execution_count": null,
      "outputs": [
        {
          "output_type": "stream",
          "text": [
            "[nltk_data] Downloading package stopwords to /root/nltk_data...\n",
            "[nltk_data]   Unzipping corpora/stopwords.zip.\n"
          ],
          "name": "stdout"
        }
      ]
    },
    {
      "cell_type": "code",
      "metadata": {
        "id": "mc21cr4ViJeN",
        "colab_type": "code",
        "colab": {}
      },
      "source": [
        "from nltk.stem import WordNetLemmatizer"
      ],
      "execution_count": null,
      "outputs": []
    },
    {
      "cell_type": "code",
      "metadata": {
        "id": "Xz0gt2t9hTjX",
        "colab_type": "code",
        "colab": {}
      },
      "source": [
        "ls = LancasterStemmer()"
      ],
      "execution_count": null,
      "outputs": []
    },
    {
      "cell_type": "code",
      "metadata": {
        "id": "Msj8Tb08dLDp",
        "colab_type": "code",
        "colab": {}
      },
      "source": [
        "seng = stopwords.words('english')"
      ],
      "execution_count": null,
      "outputs": []
    },
    {
      "cell_type": "code",
      "metadata": {
        "id": "OnD4CE8NfFbg",
        "colab_type": "code",
        "colab": {
          "base_uri": "https://localhost:8080/",
          "height": 35
        },
        "outputId": "2264be44-8927-40b9-817f-2110ed23bbef"
      },
      "source": [
        "type(df[\"text\"].values)"
      ],
      "execution_count": null,
      "outputs": [
        {
          "output_type": "execute_result",
          "data": {
            "text/plain": [
              "numpy.ndarray"
            ]
          },
          "metadata": {
            "tags": []
          },
          "execution_count": 12
        }
      ]
    },
    {
      "cell_type": "code",
      "metadata": {
        "id": "Y7AnbVxSU9Si",
        "colab_type": "code",
        "colab": {}
      },
      "source": [
        "corpus = []\n",
        "def func(x):\n",
        "  t = re.sub('[^a-zA-z]',' ',x)\n",
        "  t = t.lower()\n",
        "  t = t.split() # word_tokenizer\n",
        "  t = [ls.stem(x) for x in t if not x in seng] #string.punctuations\n",
        "  t = \" \".join(t)\n",
        "  corpus.append(t)\n",
        "  return t"
      ],
      "execution_count": null,
      "outputs": []
    },
    {
      "cell_type": "code",
      "metadata": {
        "id": "ocTjMGN3cQbT",
        "colab_type": "code",
        "colab": {}
      },
      "source": [
        "df[\"text\"] = df[\"text\"].apply(func)"
      ],
      "execution_count": null,
      "outputs": []
    },
    {
      "cell_type": "code",
      "metadata": {
        "id": "GAQ6a4ETdjMv",
        "colab_type": "code",
        "colab": {}
      },
      "source": [
        ""
      ],
      "execution_count": null,
      "outputs": []
    },
    {
      "cell_type": "code",
      "metadata": {
        "id": "r8GcI2erhlCS",
        "colab_type": "code",
        "colab": {
          "base_uri": "https://localhost:8080/",
          "height": 72
        },
        "outputId": "4aba7553-b5bf-4cdf-cfa2-c708e85adc45"
      },
      "source": [
        "import matplotlib.pyplot as plt\n",
        "nltk.download('punkt')"
      ],
      "execution_count": null,
      "outputs": [
        {
          "output_type": "stream",
          "text": [
            "[nltk_data] Downloading package punkt to /root/nltk_data...\n",
            "[nltk_data]   Unzipping tokenizers/punkt.zip.\n"
          ],
          "name": "stdout"
        },
        {
          "output_type": "execute_result",
          "data": {
            "text/plain": [
              "True"
            ]
          },
          "metadata": {
            "tags": []
          },
          "execution_count": 15
        }
      ]
    },
    {
      "cell_type": "code",
      "metadata": {
        "id": "fd7JMTskj5zz",
        "colab_type": "code",
        "colab": {
          "base_uri": "https://localhost:8080/",
          "height": 182
        },
        "outputId": "8084e811-bec0-42c2-fdbb-8d70d8264cee"
      },
      "source": [
        "df.text.values"
      ],
      "execution_count": null,
      "outputs": [
        {
          "output_type": "execute_result",
          "data": {
            "text/plain": [
              "array(['subject enron methanol met follow not gav monday prelimin flow dat provid dar pleas overrid pop dai volum pres zero reflect dai act obtain gas control chang nee asap econom purpos',\n",
              "       'subject hpl nom janu see attach fil hplnol xls hplnol xls',\n",
              "       'subject neon ret ho ho ho around wond tim year neon lead ret tim know tim year extrem hect tough think anyth past holiday lif go past week decemb janu lik think minut calend hand begin fal semest ret scheduled weekend janu you min conf brad dustin connect week going chang dat follow weekend janu com part nee think think agr import us get togeth tim recharg battery get far spring semest lot troubl difficult us get away without kid etc brad cam pot altern get togeth weekend let know pref first opt would ret simil don past sev year year could go heartland country in www com outsid brenham nic plac bedroom bedroom hous sid sid country real relax also clos brenham on hour minut golf shop ant craft stor brenham eat din togeth ranch spend tim meet saturday return sunday morn lik don past second opt would stay houston din togeth nic resta dessert tim visit recharg on hom saturday ev might easy trad would much tim togeth let decid email back would pref cours avail weekend democr process prevail maj vot rul let hear soon poss pref end weekend vot go way complain allow lik tend gre weekend gre golf gre fish gre shop whatev mak happy bobby',\n",
              "       ...,\n",
              "       'subject calpin dai gas nomin july ment ear hop start unit afternoon stil expery difficul keep inform thank ricky arch fuel supply louisian suit houston texa direct fax calpin dai gas nomin doc calpin dai gas nomin doc',\n",
              "       'subject indust worksheet august act attach worksheet august act three diff worksheet supply market market worksheet prelimin continu upd throughout mon supply worksheet capt buyback relev pric dat three worksheet found two sep fil log robert lloyd buydeaug xls supply log ken sorry delay provid dat',\n",
              "       'subject import onlin bank alert dear valu citizensr bank memb due concern saf integr onlin bank commun issu follow warn mess com at citizensr bank account inform nee upd part continu commit protect account reduc inst fraud websit could pleas tak minut onlin expery renew record run fut problem onlin serv howev fail confirm record may result account suspend confirm account record internet bank serv interrupt continu norm confirm bank account record pleas click not e mail sent behalf onlin bank commun onlin bank account charter on mess apply may ign mess thank tim citizensr fin group'],\n",
              "      dtype=object)"
            ]
          },
          "metadata": {
            "tags": []
          },
          "execution_count": 16
        }
      ]
    },
    {
      "cell_type": "code",
      "metadata": {
        "id": "JGhV5YHfiWx0",
        "colab_type": "code",
        "colab": {}
      },
      "source": [
        "tokens = nltk.word_tokenize(\" \".join(df.text))"
      ],
      "execution_count": null,
      "outputs": []
    },
    {
      "cell_type": "code",
      "metadata": {
        "id": "l4A1wgzmkUPs",
        "colab_type": "code",
        "colab": {}
      },
      "source": [
        "frequent = nltk.FreqDist(tokens)"
      ],
      "execution_count": null,
      "outputs": []
    },
    {
      "cell_type": "code",
      "metadata": {
        "id": "LJ4YpN2zkU1E",
        "colab_type": "code",
        "colab": {
          "base_uri": "https://localhost:8080/",
          "height": 290
        },
        "outputId": "7a4811af-e44d-4a4b-e7d1-e96134bb6ef2"
      },
      "source": [
        "frequent.most_common(15)"
      ],
      "execution_count": null,
      "outputs": [
        {
          "output_type": "execute_result",
          "data": {
            "text/plain": [
              "[('ect', 13908),\n",
              " ('subject', 8064),\n",
              " ('hou', 7289),\n",
              " ('enron', 6555),\n",
              " ('com', 4260),\n",
              " ('deal', 3760),\n",
              " ('pleas', 3283),\n",
              " ('gas', 3041),\n",
              " ('_', 3009),\n",
              " ('met', 2826),\n",
              " ('us', 2378),\n",
              " ('cc', 2371),\n",
              " ('pm', 2343),\n",
              " ('hpl', 2318),\n",
              " ('thank', 2304)]"
            ]
          },
          "metadata": {
            "tags": []
          },
          "execution_count": 19
        }
      ]
    },
    {
      "cell_type": "code",
      "metadata": {
        "id": "iwST3oW2kPK6",
        "colab_type": "code",
        "colab": {
          "base_uri": "https://localhost:8080/",
          "height": 73
        },
        "outputId": "d6e40824-4459-4dc3-8480-cad822a6ec19"
      },
      "source": [
        "print(tokens[:100])\n",
        "print(len(tokens))"
      ],
      "execution_count": null,
      "outputs": [
        {
          "output_type": "stream",
          "text": [
            "['subject', 'enron', 'methanol', 'met', 'follow', 'not', 'gav', 'monday', 'prelimin', 'flow', 'dat', 'provid', 'dar', 'pleas', 'overrid', 'pop', 'dai', 'volum', 'pres', 'zero', 'reflect', 'dai', 'act', 'obtain', 'gas', 'control', 'chang', 'nee', 'asap', 'econom', 'purpos', 'subject', 'hpl', 'nom', 'janu', 'see', 'attach', 'fil', 'hplnol', 'xls', 'hplnol', 'xls', 'subject', 'neon', 'ret', 'ho', 'ho', 'ho', 'around', 'wond', 'tim', 'year', 'neon', 'lead', 'ret', 'tim', 'know', 'tim', 'year', 'extrem', 'hect', 'tough', 'think', 'anyth', 'past', 'holiday', 'lif', 'go', 'past', 'week', 'decemb', 'janu', 'lik', 'think', 'minut', 'calend', 'hand', 'begin', 'fal', 'semest', 'ret', 'scheduled', 'weekend', 'janu', 'you', 'min', 'conf', 'brad', 'dustin', 'connect', 'week', 'going', 'chang', 'dat', 'follow', 'weekend', 'janu', 'com', 'part', 'nee']\n",
            "508025\n"
          ],
          "name": "stdout"
        }
      ]
    },
    {
      "cell_type": "code",
      "metadata": {
        "id": "xbxlglo6TYFs",
        "colab_type": "code",
        "colab": {}
      },
      "source": [
        "#corpus"
      ],
      "execution_count": null,
      "outputs": []
    },
    {
      "cell_type": "code",
      "metadata": {
        "id": "5rtuaNyEiYxt",
        "colab_type": "code",
        "colab": {}
      },
      "source": [
        "from sklearn.feature_extraction.text import CountVectorizer\n",
        "cv=CountVectorizer(max_features=200)\n",
        "X=cv.fit_transform(corpus).toarray()"
      ],
      "execution_count": null,
      "outputs": []
    },
    {
      "cell_type": "code",
      "metadata": {
        "id": "M7uWKVt8mYn-",
        "colab_type": "code",
        "colab": {}
      },
      "source": [
        ""
      ],
      "execution_count": null,
      "outputs": []
    },
    {
      "cell_type": "code",
      "metadata": {
        "id": "6If2hM0nhhZM",
        "colab_type": "code",
        "colab": {}
      },
      "source": [
        "count_vect_df = pd.DataFrame(X, columns=cv.get_feature_names())"
      ],
      "execution_count": null,
      "outputs": []
    },
    {
      "cell_type": "code",
      "metadata": {
        "id": "TGNaGCeVlei5",
        "colab_type": "code",
        "colab": {}
      },
      "source": [
        ""
      ],
      "execution_count": null,
      "outputs": []
    },
    {
      "cell_type": "code",
      "metadata": {
        "id": "tthQZoucnOBa",
        "colab_type": "code",
        "colab": {}
      },
      "source": [
        "f = pd.concat([df, count_vect_df], axis=1)"
      ],
      "execution_count": null,
      "outputs": []
    },
    {
      "cell_type": "code",
      "metadata": {
        "id": "16xDVfc5oGgj",
        "colab_type": "code",
        "colab": {}
      },
      "source": [
        "f.drop(\"text\",axis = 1,inplace=True)"
      ],
      "execution_count": null,
      "outputs": []
    },
    {
      "cell_type": "code",
      "metadata": {
        "id": "uL74Yry0oOna",
        "colab_type": "code",
        "colab": {}
      },
      "source": [
        "X = f.drop(\"label_num\",axis=1)\n",
        "Y = f[\"label_num\"]"
      ],
      "execution_count": null,
      "outputs": []
    },
    {
      "cell_type": "code",
      "metadata": {
        "id": "jfUsqar1oWxi",
        "colab_type": "code",
        "colab": {}
      },
      "source": [
        "from sklearn.model_selection import train_test_split"
      ],
      "execution_count": null,
      "outputs": []
    },
    {
      "cell_type": "code",
      "metadata": {
        "id": "1clXarvpod4n",
        "colab_type": "code",
        "colab": {}
      },
      "source": [
        "X_train,X_test,Y_train,Y_test = train_test_split(X,Y,test_size = 0.25,random_state = 24)"
      ],
      "execution_count": null,
      "outputs": []
    },
    {
      "cell_type": "code",
      "metadata": {
        "id": "JPNdqh1CooLT",
        "colab_type": "code",
        "colab": {}
      },
      "source": [
        "from sklearn.linear_model import LogisticRegression"
      ],
      "execution_count": null,
      "outputs": []
    },
    {
      "cell_type": "code",
      "metadata": {
        "id": "ZLo9Hoqfo6zn",
        "colab_type": "code",
        "colab": {}
      },
      "source": [
        "from sklearn.naive_bayes import MultinomialNB"
      ],
      "execution_count": null,
      "outputs": []
    },
    {
      "cell_type": "code",
      "metadata": {
        "id": "bOvn2Evuo9qE",
        "colab_type": "code",
        "colab": {}
      },
      "source": [
        "gnb = MultinomialNB(alpha=0.2)"
      ],
      "execution_count": null,
      "outputs": []
    },
    {
      "cell_type": "code",
      "metadata": {
        "id": "gBWKiZe_o_RE",
        "colab_type": "code",
        "colab": {}
      },
      "source": [
        ""
      ],
      "execution_count": null,
      "outputs": []
    },
    {
      "cell_type": "code",
      "metadata": {
        "id": "l1dwsuR_owsw",
        "colab_type": "code",
        "colab": {}
      },
      "source": [
        "lr = LogisticRegression()"
      ],
      "execution_count": null,
      "outputs": []
    },
    {
      "cell_type": "code",
      "metadata": {
        "id": "lBekCrMDo1te",
        "colab_type": "code",
        "colab": {
          "base_uri": "https://localhost:8080/",
          "height": 108
        },
        "outputId": "892a8e67-8a4a-4e84-bc6f-0b1f0598232a"
      },
      "source": [
        "lr.fit(X_train,Y_train)"
      ],
      "execution_count": null,
      "outputs": [
        {
          "output_type": "execute_result",
          "data": {
            "text/plain": [
              "LogisticRegression(C=1.0, class_weight=None, dual=False, fit_intercept=True,\n",
              "                   intercept_scaling=1, l1_ratio=None, max_iter=100,\n",
              "                   multi_class='auto', n_jobs=None, penalty='l2',\n",
              "                   random_state=None, solver='lbfgs', tol=0.0001, verbose=0,\n",
              "                   warm_start=False)"
            ]
          },
          "metadata": {
            "tags": []
          },
          "execution_count": 33
        }
      ]
    },
    {
      "cell_type": "code",
      "metadata": {
        "id": "At5geFY4o3H7",
        "colab_type": "code",
        "colab": {
          "base_uri": "https://localhost:8080/",
          "height": 35
        },
        "outputId": "5996eebd-70e9-4d5a-b03c-bdbd8ad99147"
      },
      "source": [
        "lr.score(X_test,Y_test)"
      ],
      "execution_count": null,
      "outputs": [
        {
          "output_type": "execute_result",
          "data": {
            "text/plain": [
              "0.9443155452436195"
            ]
          },
          "metadata": {
            "tags": []
          },
          "execution_count": 34
        }
      ]
    },
    {
      "cell_type": "code",
      "metadata": {
        "id": "ZkVFCqetnY5-",
        "colab_type": "code",
        "colab": {
          "base_uri": "https://localhost:8080/",
          "height": 35
        },
        "outputId": "91cd5ef8-a840-416a-a968-62f0b64a31ab"
      },
      "source": [
        "gnb.fit(X_train,Y_train)"
      ],
      "execution_count": null,
      "outputs": [
        {
          "output_type": "execute_result",
          "data": {
            "text/plain": [
              "MultinomialNB(alpha=0.2, class_prior=None, fit_prior=True)"
            ]
          },
          "metadata": {
            "tags": []
          },
          "execution_count": 35
        }
      ]
    },
    {
      "cell_type": "code",
      "metadata": {
        "id": "twPqluq_pC1Z",
        "colab_type": "code",
        "colab": {
          "base_uri": "https://localhost:8080/",
          "height": 35
        },
        "outputId": "3403915d-a58d-4921-dcfc-b87baaf49b3a"
      },
      "source": [
        "gnb.score(X_test,Y_test)"
      ],
      "execution_count": null,
      "outputs": [
        {
          "output_type": "execute_result",
          "data": {
            "text/plain": [
              "0.8870843000773395"
            ]
          },
          "metadata": {
            "tags": []
          },
          "execution_count": 36
        }
      ]
    },
    {
      "cell_type": "code",
      "metadata": {
        "id": "YPGcuQk4pGj2",
        "colab_type": "code",
        "colab": {}
      },
      "source": [
        "from keras.layers import Dense\n",
        "from keras.models import Sequential\n",
        "import tensorflow as tf"
      ],
      "execution_count": null,
      "outputs": []
    },
    {
      "cell_type": "code",
      "metadata": {
        "id": "XTBQQEHVTpQy",
        "colab_type": "code",
        "colab": {}
      },
      "source": [
        "model = Sequential()\n",
        "model.add(Dense(X_train.shape[1],activation=\"relu\",input_dim = X_train.shape[1]))\n",
        "model.add(Dense(1,activation=\"sigmoid\"))"
      ],
      "execution_count": null,
      "outputs": []
    },
    {
      "cell_type": "code",
      "metadata": {
        "id": "CHGnKTnuT7T7",
        "colab_type": "code",
        "colab": {}
      },
      "source": [
        "model.compile(loss=\"binary_crossentropy\",optimizer=\"adam\",metrics=[\"accuracy\"])"
      ],
      "execution_count": null,
      "outputs": []
    },
    {
      "cell_type": "code",
      "metadata": {
        "id": "3ke5LjYdVG6H",
        "colab_type": "code",
        "colab": {
          "base_uri": "https://localhost:8080/",
          "height": 235
        },
        "outputId": "2fe63733-6e0e-4109-f9cc-5d8cf6f0bf60"
      },
      "source": [
        "Y_train"
      ],
      "execution_count": null,
      "outputs": [
        {
          "output_type": "execute_result",
          "data": {
            "text/plain": [
              "3390    0\n",
              "4109    0\n",
              "1098    0\n",
              "4058    0\n",
              "3215    0\n",
              "       ..\n",
              "2193    0\n",
              "3473    1\n",
              "343     0\n",
              "899     0\n",
              "4514    1\n",
              "Name: label_num, Length: 3878, dtype: int64"
            ]
          },
          "metadata": {
            "tags": []
          },
          "execution_count": 40
        }
      ]
    },
    {
      "cell_type": "code",
      "metadata": {
        "id": "jwgz-s1oUUUF",
        "colab_type": "code",
        "colab": {
          "base_uri": "https://localhost:8080/",
          "height": 762
        },
        "outputId": "32e2def5-aa25-467a-db97-03ae7c18ec35"
      },
      "source": [
        "model.fit(np.array(X_train),np.array(Y_train),epochs=20,batch_size=1000)"
      ],
      "execution_count": null,
      "outputs": [
        {
          "output_type": "stream",
          "text": [
            "Epoch 1/20\n",
            "4/4 [==============================] - 0s 5ms/step - loss: 0.9854 - accuracy: 0.3657\n",
            "Epoch 2/20\n",
            "4/4 [==============================] - 0s 3ms/step - loss: 0.5796 - accuracy: 0.7094\n",
            "Epoch 3/20\n",
            "4/4 [==============================] - 0s 3ms/step - loss: 0.4828 - accuracy: 0.7664\n",
            "Epoch 4/20\n",
            "4/4 [==============================] - 0s 3ms/step - loss: 0.4119 - accuracy: 0.7829\n",
            "Epoch 5/20\n",
            "4/4 [==============================] - 0s 3ms/step - loss: 0.3628 - accuracy: 0.8154\n",
            "Epoch 6/20\n",
            "4/4 [==============================] - 0s 3ms/step - loss: 0.3315 - accuracy: 0.8414\n",
            "Epoch 7/20\n",
            "4/4 [==============================] - 0s 3ms/step - loss: 0.3105 - accuracy: 0.8592\n",
            "Epoch 8/20\n",
            "4/4 [==============================] - 0s 3ms/step - loss: 0.2945 - accuracy: 0.8757\n",
            "Epoch 9/20\n",
            "4/4 [==============================] - 0s 3ms/step - loss: 0.2794 - accuracy: 0.8829\n",
            "Epoch 10/20\n",
            "4/4 [==============================] - 0s 3ms/step - loss: 0.2649 - accuracy: 0.8876\n",
            "Epoch 11/20\n",
            "4/4 [==============================] - 0s 4ms/step - loss: 0.2523 - accuracy: 0.8930\n",
            "Epoch 12/20\n",
            "4/4 [==============================] - 0s 3ms/step - loss: 0.2419 - accuracy: 0.8997\n",
            "Epoch 13/20\n",
            "4/4 [==============================] - 0s 3ms/step - loss: 0.2324 - accuracy: 0.9033\n",
            "Epoch 14/20\n",
            "4/4 [==============================] - 0s 3ms/step - loss: 0.2233 - accuracy: 0.9103\n",
            "Epoch 15/20\n",
            "4/4 [==============================] - 0s 3ms/step - loss: 0.2150 - accuracy: 0.9183\n",
            "Epoch 16/20\n",
            "4/4 [==============================] - 0s 3ms/step - loss: 0.2071 - accuracy: 0.9327\n",
            "Epoch 17/20\n",
            "4/4 [==============================] - 0s 3ms/step - loss: 0.1998 - accuracy: 0.9399\n",
            "Epoch 18/20\n",
            "4/4 [==============================] - 0s 3ms/step - loss: 0.1931 - accuracy: 0.9415\n",
            "Epoch 19/20\n",
            "4/4 [==============================] - 0s 3ms/step - loss: 0.1866 - accuracy: 0.9430\n",
            "Epoch 20/20\n",
            "4/4 [==============================] - 0s 3ms/step - loss: 0.1805 - accuracy: 0.9448\n"
          ],
          "name": "stdout"
        },
        {
          "output_type": "execute_result",
          "data": {
            "text/plain": [
              "<tensorflow.python.keras.callbacks.History at 0x7f1ca055ffd0>"
            ]
          },
          "metadata": {
            "tags": []
          },
          "execution_count": 41
        }
      ]
    },
    {
      "cell_type": "code",
      "metadata": {
        "id": "i4b-ibUcUV7N",
        "colab_type": "code",
        "colab": {
          "base_uri": "https://localhost:8080/",
          "height": 53
        },
        "outputId": "d37d6668-d061-42e3-e630-1b8db6504408"
      },
      "source": [
        "model.evaluate(np.array(X_test),np.array(Y_test))"
      ],
      "execution_count": null,
      "outputs": [
        {
          "output_type": "stream",
          "text": [
            "41/41 [==============================] - 0s 2ms/step - loss: 0.2072 - accuracy: 0.9265\n"
          ],
          "name": "stdout"
        },
        {
          "output_type": "execute_result",
          "data": {
            "text/plain": [
              "[0.20720729231834412, 0.9265274405479431]"
            ]
          },
          "metadata": {
            "tags": []
          },
          "execution_count": 42
        }
      ]
    },
    {
      "cell_type": "code",
      "metadata": {
        "id": "-geO9RMOdJLD",
        "colab_type": "code",
        "colab": {
          "base_uri": "https://localhost:8080/",
          "height": 35
        },
        "outputId": "f42585ab-9697-4ef2-ba72-f221d5c40b91"
      },
      "source": [
        "X_train.shape"
      ],
      "execution_count": null,
      "outputs": [
        {
          "output_type": "execute_result",
          "data": {
            "text/plain": [
              "(3878, 200)"
            ]
          },
          "metadata": {
            "tags": []
          },
          "execution_count": 43
        }
      ]
    },
    {
      "cell_type": "code",
      "metadata": {
        "id": "vXwshPn7T3JJ",
        "colab_type": "code",
        "colab": {
          "base_uri": "https://localhost:8080/",
          "height": 380
        },
        "outputId": "951f5a80-993b-4997-b31e-afa17752975e"
      },
      "source": [
        "lstm_model = Sequential([\n",
        "                       tf.keras.layers.Embedding(20000, 64, input_length=X_train.shape[1]),\n",
        "                       tf.keras.layers.Bidirectional(tf.keras.layers.LSTM(64,return_sequences=True)),\n",
        "                       tf.keras.layers.Bidirectional(tf.keras.layers.LSTM(64)),\n",
        "                        tf.keras.layers.Dense(128, activation='relu'),\n",
        "                         tf.keras.layers.Dense(128, activation='relu'),\n",
        "                        tf.keras.layers.Dense(1, activation='sigmoid')\n",
        "])\n",
        "lstm_model.summary()"
      ],
      "execution_count": null,
      "outputs": [
        {
          "output_type": "stream",
          "text": [
            "Model: \"sequential_2\"\n",
            "_________________________________________________________________\n",
            "Layer (type)                 Output Shape              Param #   \n",
            "=================================================================\n",
            "embedding_1 (Embedding)      (None, 200, 64)           1280000   \n",
            "_________________________________________________________________\n",
            "bidirectional_2 (Bidirection (None, 200, 128)          66048     \n",
            "_________________________________________________________________\n",
            "bidirectional_3 (Bidirection (None, 128)               98816     \n",
            "_________________________________________________________________\n",
            "dense_4 (Dense)              (None, 128)               16512     \n",
            "_________________________________________________________________\n",
            "dense_5 (Dense)              (None, 128)               16512     \n",
            "_________________________________________________________________\n",
            "dense_6 (Dense)              (None, 1)                 129       \n",
            "=================================================================\n",
            "Total params: 1,478,017\n",
            "Trainable params: 1,478,017\n",
            "Non-trainable params: 0\n",
            "_________________________________________________________________\n"
          ],
          "name": "stdout"
        }
      ]
    },
    {
      "cell_type": "code",
      "metadata": {
        "id": "6wwZyjuplgnt",
        "colab_type": "code",
        "colab": {}
      },
      "source": [
        "lstm_model.compile(loss=\"binary_crossentropy\",optimizer=\"adam\",metrics=[\"accuracy\"])"
      ],
      "execution_count": null,
      "outputs": []
    },
    {
      "cell_type": "code",
      "metadata": {
        "id": "OL7l6fGOdlkB",
        "colab_type": "code",
        "colab": {
          "base_uri": "https://localhost:8080/",
          "height": 1000
        },
        "outputId": "ca98e5f5-c28a-42e3-8590-68637545d0df"
      },
      "source": [
        "lstm_model.fit(np.array(X_train),np.array(Y_train),epochs=30,steps_per_epoch=200)"
      ],
      "execution_count": null,
      "outputs": [
        {
          "output_type": "stream",
          "text": [
            "Epoch 1/30\n",
            "200/200 [==============================] - 35s 174ms/step - loss: 0.3488 - accuracy: 0.8587\n",
            "Epoch 2/30\n",
            "200/200 [==============================] - 35s 173ms/step - loss: 0.2571 - accuracy: 0.8849\n",
            "Epoch 3/30\n",
            "200/200 [==============================] - 35s 174ms/step - loss: 0.1891 - accuracy: 0.9175\n",
            "Epoch 4/30\n",
            "200/200 [==============================] - 35s 175ms/step - loss: 0.1854 - accuracy: 0.9285\n",
            "Epoch 5/30\n",
            "200/200 [==============================] - 35s 175ms/step - loss: 0.1702 - accuracy: 0.9327\n",
            "Epoch 6/30\n",
            "200/200 [==============================] - 35s 174ms/step - loss: 0.1513 - accuracy: 0.9385\n",
            "Epoch 7/30\n",
            "200/200 [==============================] - 35s 174ms/step - loss: 0.1166 - accuracy: 0.9545\n",
            "Epoch 8/30\n",
            "200/200 [==============================] - 35s 175ms/step - loss: 0.1125 - accuracy: 0.9572\n",
            "Epoch 9/30\n",
            "200/200 [==============================] - 35s 174ms/step - loss: 0.1665 - accuracy: 0.9345\n",
            "Epoch 10/30\n",
            "200/200 [==============================] - 35s 174ms/step - loss: 0.1134 - accuracy: 0.9547\n",
            "Epoch 11/30\n",
            "200/200 [==============================] - 35s 175ms/step - loss: 0.1018 - accuracy: 0.9580\n",
            "Epoch 12/30\n",
            "200/200 [==============================] - 35s 175ms/step - loss: 0.2018 - accuracy: 0.9190\n",
            "Epoch 13/30\n",
            "200/200 [==============================] - 35s 175ms/step - loss: 0.1377 - accuracy: 0.9490\n",
            "Epoch 14/30\n",
            "200/200 [==============================] - 35s 175ms/step - loss: 0.0971 - accuracy: 0.9640\n",
            "Epoch 15/30\n",
            "200/200 [==============================] - 35s 174ms/step - loss: 0.1319 - accuracy: 0.9490\n",
            "Epoch 16/30\n",
            "200/200 [==============================] - 35s 175ms/step - loss: 0.1014 - accuracy: 0.9610\n",
            "Epoch 17/30\n",
            "200/200 [==============================] - 35s 175ms/step - loss: 0.1034 - accuracy: 0.9632\n",
            "Epoch 18/30\n",
            "200/200 [==============================] - 35s 175ms/step - loss: 0.1054 - accuracy: 0.9620\n",
            "Epoch 19/30\n",
            "200/200 [==============================] - 35s 175ms/step - loss: 0.0909 - accuracy: 0.9677\n",
            "Epoch 20/30\n",
            "200/200 [==============================] - 35s 175ms/step - loss: 0.0826 - accuracy: 0.9670\n",
            "Epoch 21/30\n",
            "200/200 [==============================] - 35s 174ms/step - loss: 0.1122 - accuracy: 0.9610\n",
            "Epoch 22/30\n",
            "200/200 [==============================] - 35s 174ms/step - loss: 0.0767 - accuracy: 0.9720\n",
            "Epoch 23/30\n",
            "200/200 [==============================] - 35s 174ms/step - loss: 0.0551 - accuracy: 0.9792\n",
            "Epoch 24/30\n",
            "200/200 [==============================] - 35s 174ms/step - loss: 0.1360 - accuracy: 0.9462\n",
            "Epoch 25/30\n",
            "200/200 [==============================] - 35s 174ms/step - loss: 0.1153 - accuracy: 0.9592\n",
            "Epoch 26/30\n",
            "200/200 [==============================] - 35s 174ms/step - loss: 0.1088 - accuracy: 0.9632\n",
            "Epoch 27/30\n",
            "200/200 [==============================] - 35s 174ms/step - loss: 0.0584 - accuracy: 0.9795\n",
            "Epoch 28/30\n",
            "200/200 [==============================] - 34s 171ms/step - loss: 0.0737 - accuracy: 0.9715\n",
            "Epoch 29/30\n",
            "200/200 [==============================] - 34s 171ms/step - loss: 0.1924 - accuracy: 0.9300\n",
            "Epoch 30/30\n",
            " 20/200 [==>...........................] - ETA: 29s - loss: 0.3148 - accuracy: 0.8543WARNING:tensorflow:Your input ran out of data; interrupting training. Make sure that your dataset or generator can generate at least `steps_per_epoch * epochs` batches (in this case, 6000 batches). You may need to use the repeat() function when building your dataset.\n",
            " 20/200 [==>...........................] - 3s 163ms/step - loss: 0.3148 - accuracy: 0.8543\n"
          ],
          "name": "stdout"
        },
        {
          "output_type": "execute_result",
          "data": {
            "text/plain": [
              "<tensorflow.python.keras.callbacks.History at 0x7f1c5259de10>"
            ]
          },
          "metadata": {
            "tags": []
          },
          "execution_count": 56
        }
      ]
    },
    {
      "cell_type": "code",
      "metadata": {
        "id": "qq0qJ2QB7fhT",
        "colab_type": "code",
        "colab": {}
      },
      "source": [
        ""
      ],
      "execution_count": null,
      "outputs": []
    },
    {
      "cell_type": "code",
      "metadata": {
        "id": "V93vDBfHKJy7",
        "colab_type": "code",
        "colab": {}
      },
      "source": [
        ""
      ],
      "execution_count": null,
      "outputs": []
    },
    {
      "cell_type": "code",
      "metadata": {
        "id": "YoAc7pqAIL9I",
        "colab_type": "code",
        "colab": {}
      },
      "source": [
        ""
      ],
      "execution_count": null,
      "outputs": []
    },
    {
      "cell_type": "code",
      "metadata": {
        "id": "D96kHpAnHsC0",
        "colab_type": "code",
        "colab": {}
      },
      "source": [
        ""
      ],
      "execution_count": null,
      "outputs": []
    },
    {
      "cell_type": "markdown",
      "metadata": {
        "id": "i5J6BW9hK563",
        "colab_type": "text"
      },
      "source": [
        ""
      ]
    }
  ]
}