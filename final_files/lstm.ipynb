{
  "nbformat": 4,
  "nbformat_minor": 0,
  "metadata": {
    "colab": {
      "name": "lstm.ipynb",
      "provenance": []
    },
    "kernelspec": {
      "name": "python3",
      "display_name": "Python 3"
    },
    "accelerator": "GPU"
  },
  "cells": [
    {
      "cell_type": "code",
      "metadata": {
        "id": "ZI-sY1KWH8tR",
        "colab_type": "code",
        "colab": {}
      },
      "source": [
        "import pandas as pd\n",
        "import numpy as np"
      ],
      "execution_count": null,
      "outputs": []
    },
    {
      "cell_type": "code",
      "metadata": {
        "id": "O-i8l8s0MilB",
        "colab_type": "code",
        "colab": {}
      },
      "source": [
        ""
      ],
      "execution_count": null,
      "outputs": []
    },
    {
      "cell_type": "code",
      "metadata": {
        "id": "ghVPpI5PIF-O",
        "colab_type": "code",
        "colab": {
          "base_uri": "https://localhost:8080/",
          "height": 204
        },
        "outputId": "f16761c9-7753-41bd-e3c5-5c805093544d"
      },
      "source": [
        "!wget https://raw.githubusercontent.com/jbrownlee/Datasets/master/airline-passengers.csv"
      ],
      "execution_count": null,
      "outputs": [
        {
          "output_type": "stream",
          "text": [
            "--2020-09-15 15:56:28--  https://raw.githubusercontent.com/jbrownlee/Datasets/master/airline-passengers.csv\n",
            "Resolving raw.githubusercontent.com (raw.githubusercontent.com)... 151.101.0.133, 151.101.64.133, 151.101.128.133, ...\n",
            "Connecting to raw.githubusercontent.com (raw.githubusercontent.com)|151.101.0.133|:443... connected.\n",
            "HTTP request sent, awaiting response... 200 OK\n",
            "Length: 2180 (2.1K) [text/plain]\n",
            "Saving to: ‘airline-passengers.csv’\n",
            "\n",
            "\rairline-passengers.   0%[                    ]       0  --.-KB/s               \rairline-passengers. 100%[===================>]   2.13K  --.-KB/s    in 0s      \n",
            "\n",
            "2020-09-15 15:56:28 (46.9 MB/s) - ‘airline-passengers.csv’ saved [2180/2180]\n",
            "\n"
          ],
          "name": "stdout"
        }
      ]
    },
    {
      "cell_type": "code",
      "metadata": {
        "id": "mbzUaj1AIJNf",
        "colab_type": "code",
        "colab": {}
      },
      "source": [
        "df = pd.read_csv(\"/content/airline-passengers.csv\")"
      ],
      "execution_count": null,
      "outputs": []
    },
    {
      "cell_type": "code",
      "metadata": {
        "id": "1dN0mxBPIPWy",
        "colab_type": "code",
        "colab": {
          "base_uri": "https://localhost:8080/",
          "height": 187
        },
        "outputId": "2f920b88-a437-464c-ee93-04d663c87970"
      },
      "source": [
        "df.iloc[1:10,1]"
      ],
      "execution_count": null,
      "outputs": [
        {
          "output_type": "execute_result",
          "data": {
            "text/plain": [
              "1    118\n",
              "2    132\n",
              "3    129\n",
              "4    121\n",
              "5    135\n",
              "6    148\n",
              "7    148\n",
              "8    136\n",
              "9    119\n",
              "Name: Passengers, dtype: int64"
            ]
          },
          "metadata": {
            "tags": []
          },
          "execution_count": 9
        }
      ]
    },
    {
      "cell_type": "code",
      "metadata": {
        "id": "NO2lEd7Oew_r",
        "colab_type": "code",
        "colab": {}
      },
      "source": [
        ""
      ],
      "execution_count": null,
      "outputs": []
    },
    {
      "cell_type": "code",
      "metadata": {
        "id": "UsBj9z8cNQ4i",
        "colab_type": "code",
        "colab": {}
      },
      "source": [
        ""
      ],
      "execution_count": null,
      "outputs": []
    },
    {
      "cell_type": "code",
      "metadata": {
        "id": "uvaeFl4SNSRI",
        "colab_type": "code",
        "colab": {}
      },
      "source": [
        ""
      ],
      "execution_count": null,
      "outputs": []
    },
    {
      "cell_type": "code",
      "metadata": {
        "id": "mStMwV7LIGCP",
        "colab_type": "code",
        "colab": {}
      },
      "source": [
        "import matplotlib.pyplot as plt"
      ],
      "execution_count": null,
      "outputs": []
    },
    {
      "cell_type": "code",
      "metadata": {
        "id": "o9EptEcYIbHy",
        "colab_type": "code",
        "colab": {
          "base_uri": "https://localhost:8080/",
          "height": 282
        },
        "outputId": "bb8bed8e-07e2-4633-83db-47e86deb1b82"
      },
      "source": [
        "plt.plot(df[\"Month\"],df[\"Passengers\"])"
      ],
      "execution_count": null,
      "outputs": [
        {
          "output_type": "execute_result",
          "data": {
            "text/plain": [
              "[<matplotlib.lines.Line2D at 0x7f8f9e259518>]"
            ]
          },
          "metadata": {
            "tags": []
          },
          "execution_count": 256
        },
        {
          "output_type": "display_data",
          "data": {
            "image/png": "[encoded data removed]",
            "text/plain": [
              "<Figure size 432x288 with 1 Axes>"
            ]
          },
          "metadata": {
            "tags": [],
            "needs_background": "light"
          }
        }
      ]
    },
    {
      "cell_type": "code",
      "metadata": {
        "id": "kQZPNlZoIgmf",
        "colab_type": "code",
        "colab": {}
      },
      "source": [
        "df[\"year\"] = df[\"Month\"].apply(lambda x : float(x.split(\"-\")[0]))\n",
        "df[\"month\"] = df[\"Month\"].apply(lambda x : float(x.split(\"-\")[1]))"
      ],
      "execution_count": null,
      "outputs": []
    },
    {
      "cell_type": "code",
      "metadata": {
        "id": "QEKp3Dp0JTsz",
        "colab_type": "code",
        "colab": {}
      },
      "source": [
        "date = df[\"Month\"]\n",
        "df.drop(\"Month\",axis=1,inplace=True)"
      ],
      "execution_count": null,
      "outputs": []
    },
    {
      "cell_type": "code",
      "metadata": {
        "id": "xR7FOFT8Je7Z",
        "colab_type": "code",
        "colab": {}
      },
      "source": [
        "train = df.iloc[:int(len(df)*0.75)]"
      ],
      "execution_count": null,
      "outputs": []
    },
    {
      "cell_type": "code",
      "metadata": {
        "id": "h31vI06BKyZE",
        "colab_type": "code",
        "colab": {}
      },
      "source": [
        "test = df.iloc[108:]"
      ],
      "execution_count": null,
      "outputs": []
    },
    {
      "cell_type": "code",
      "metadata": {
        "id": "MKjFryehK9N1",
        "colab_type": "code",
        "colab": {}
      },
      "source": [
        "X_train,Y_train = train.drop(\"Passengers\",axis=1),train[\"Passengers\"]"
      ],
      "execution_count": null,
      "outputs": []
    },
    {
      "cell_type": "code",
      "metadata": {
        "id": "sWYv5Y77LRmp",
        "colab_type": "code",
        "colab": {}
      },
      "source": [
        "X_test,Y_test = test.drop(\"Passengers\",axis=1),test[\"Passengers\"]"
      ],
      "execution_count": null,
      "outputs": []
    },
    {
      "cell_type": "code",
      "metadata": {
        "id": "vp7sLod8LVXF",
        "colab_type": "code",
        "colab": {
          "base_uri": "https://localhost:8080/",
          "height": 34
        },
        "outputId": "f1b1b7c9-831e-4e25-8914-372ad3491be3"
      },
      "source": [
        "Y_train.shape"
      ],
      "execution_count": null,
      "outputs": [
        {
          "output_type": "execute_result",
          "data": {
            "text/plain": [
              "(108,)"
            ]
          },
          "metadata": {
            "tags": []
          },
          "execution_count": 215
        }
      ]
    },
    {
      "cell_type": "code",
      "metadata": {
        "id": "pagn_vpaQY2n",
        "colab_type": "code",
        "colab": {}
      },
      "source": [
        "Y_train.values"
      ],
      "execution_count": null,
      "outputs": []
    },
    {
      "cell_type": "code",
      "metadata": {
        "id": "69bXEZo4Pzwt",
        "colab_type": "code",
        "colab": {}
      },
      "source": [
        "Y_train = np.array(Y_train).reshape(-1,1)\n",
        "Y_test = np.array(Y_test).reshape(-1,1)"
      ],
      "execution_count": null,
      "outputs": []
    },
    {
      "cell_type": "code",
      "metadata": {
        "id": "gVgN7GAOQROM",
        "colab_type": "code",
        "colab": {}
      },
      "source": [
        "Y_train"
      ],
      "execution_count": null,
      "outputs": []
    },
    {
      "cell_type": "code",
      "metadata": {
        "id": "EXH1eG-uMlis",
        "colab_type": "code",
        "colab": {}
      },
      "source": [
        "X_test.shape"
      ],
      "execution_count": null,
      "outputs": []
    },
    {
      "cell_type": "code",
      "metadata": {
        "id": "30rE4DUAM2iQ",
        "colab_type": "code",
        "colab": {}
      },
      "source": [
        "from sklearn.preprocessing import MinMaxScaler"
      ],
      "execution_count": null,
      "outputs": []
    },
    {
      "cell_type": "code",
      "metadata": {
        "id": "QY3Q0Ss4PH2p",
        "colab_type": "code",
        "colab": {}
      },
      "source": [
        "scaler = MinMaxScaler()\n",
        "X_train = scaler.fit_transform(X_train)\n",
        "X_test  = scaler.transform(X_test)"
      ],
      "execution_count": null,
      "outputs": []
    },
    {
      "cell_type": "code",
      "metadata": {
        "id": "83Qdi50ZPRE3",
        "colab_type": "code",
        "colab": {}
      },
      "source": [
        "sc = MinMaxScaler()\n",
        "Y_train = sc.fit_transform(Y_train)\n",
        "Y_test  = sc.transform(Y_test)"
      ],
      "execution_count": null,
      "outputs": []
    },
    {
      "cell_type": "code",
      "metadata": {
        "id": "uN-OINhOMLAA",
        "colab_type": "code",
        "colab": {}
      },
      "source": [
        "X_train = np.reshape(np.array(X_train),(X_train.shape[0],1,X_train.shape[1]))\n",
        "X_test = np.reshape(np.array(X_test),(X_test.shape[0],1,X_test.shape[1]))"
      ],
      "execution_count": null,
      "outputs": []
    },
    {
      "cell_type": "code",
      "metadata": {
        "id": "DnwOJsevM6nw",
        "colab_type": "code",
        "colab": {}
      },
      "source": [
        ""
      ],
      "execution_count": null,
      "outputs": []
    },
    {
      "cell_type": "code",
      "metadata": {
        "id": "hPhFcYS-MskM",
        "colab_type": "code",
        "colab": {}
      },
      "source": [
        ""
      ],
      "execution_count": null,
      "outputs": []
    },
    {
      "cell_type": "code",
      "metadata": {
        "id": "g0QRvJH9MgpR",
        "colab_type": "code",
        "colab": {}
      },
      "source": [
        ""
      ],
      "execution_count": null,
      "outputs": []
    },
    {
      "cell_type": "code",
      "metadata": {
        "id": "9EHCZpqpK5vT",
        "colab_type": "code",
        "colab": {}
      },
      "source": [
        "from keras.layers import LSTM,Dense\n",
        "from keras.models import Sequential"
      ],
      "execution_count": null,
      "outputs": []
    },
    {
      "cell_type": "code",
      "metadata": {
        "id": "zhZgBCwTLin9",
        "colab_type": "code",
        "colab": {
          "base_uri": "https://localhost:8080/",
          "height": 71
        },
        "outputId": "a39cb19e-0ad8-453d-a5e7-af90b3cee1ad"
      },
      "source": [
        "model = Sequential()\n",
        "model.add(LSTM(5,activation=\"relu\",return_sequences=True))\n",
        "model.add(LSTM(10,activation=\"relu\"))\n",
        "model.add(Dense(1,activation=\"relu\"))"
      ],
      "execution_count": null,
      "outputs": [
        {
          "output_type": "stream",
          "text": [
            "WARNING:tensorflow:Layer lstm_46 will not use cuDNN kernel since it doesn't meet the cuDNN kernel criteria. It will use generic GPU kernel as fallback when running on GPU\n",
            "WARNING:tensorflow:Layer lstm_47 will not use cuDNN kernel since it doesn't meet the cuDNN kernel criteria. It will use generic GPU kernel as fallback when running on GPU\n"
          ],
          "name": "stdout"
        }
      ]
    },
    {
      "cell_type": "code",
      "metadata": {
        "id": "8sTq9ADFRZx8",
        "colab_type": "code",
        "colab": {}
      },
      "source": [
        ""
      ],
      "execution_count": null,
      "outputs": []
    },
    {
      "cell_type": "code",
      "metadata": {
        "id": "qBkdeN6WL6vg",
        "colab_type": "code",
        "colab": {}
      },
      "source": [
        "model.compile(loss=\"mean_squared_error\",optimizer=\"adam\",metrics=[\"mae\"])"
      ],
      "execution_count": null,
      "outputs": []
    },
    {
      "cell_type": "code",
      "metadata": {
        "id": "Go56GDwvNIz5",
        "colab_type": "code",
        "colab": {
          "base_uri": "https://localhost:8080/",
          "height": 1000
        },
        "outputId": "f5853cef-e5d7-48fd-de1a-02304ec75b8a"
      },
      "source": [
        "model.fit(X_train,Y_train,epochs=100,batch_size=10)"
      ],
      "execution_count": null,
      "outputs": [
        {
          "output_type": "stream",
          "text": [
            "Epoch 1/100\n",
            "11/11 [==============================] - 0s 7ms/step - loss: 0.1699 - mae: 0.3378\n",
            "Epoch 2/100\n",
            "11/11 [==============================] - 0s 6ms/step - loss: 0.1582 - mae: 0.3215\n",
            "Epoch 3/100\n",
            "11/11 [==============================] - 0s 6ms/step - loss: 0.1475 - mae: 0.3059\n",
            "Epoch 4/100\n",
            "11/11 [==============================] - 0s 6ms/step - loss: 0.1369 - mae: 0.2907\n",
            "Epoch 5/100\n",
            "11/11 [==============================] - 0s 6ms/step - loss: 0.1262 - mae: 0.2756\n",
            "Epoch 6/100\n",
            "11/11 [==============================] - 0s 6ms/step - loss: 0.1163 - mae: 0.2624\n",
            "Epoch 7/100\n",
            "11/11 [==============================] - 0s 6ms/step - loss: 0.1064 - mae: 0.2489\n",
            "Epoch 8/100\n",
            "11/11 [==============================] - 0s 7ms/step - loss: 0.0970 - mae: 0.2364\n",
            "Epoch 9/100\n",
            "11/11 [==============================] - 0s 7ms/step - loss: 0.0882 - mae: 0.2246\n",
            "Epoch 10/100\n",
            "11/11 [==============================] - 0s 7ms/step - loss: 0.0800 - mae: 0.2154\n",
            "Epoch 11/100\n",
            "11/11 [==============================] - 0s 6ms/step - loss: 0.0732 - mae: 0.2080\n",
            "Epoch 12/100\n",
            "11/11 [==============================] - 0s 6ms/step - loss: 0.0680 - mae: 0.2022\n",
            "Epoch 13/100\n",
            "11/11 [==============================] - 0s 7ms/step - loss: 0.0626 - mae: 0.1972\n",
            "Epoch 14/100\n",
            "11/11 [==============================] - 0s 7ms/step - loss: 0.0595 - mae: 0.1941\n",
            "Epoch 15/100\n",
            "11/11 [==============================] - 0s 6ms/step - loss: 0.0574 - mae: 0.1925\n",
            "Epoch 16/100\n",
            "11/11 [==============================] - 0s 6ms/step - loss: 0.0551 - mae: 0.1904\n",
            "Epoch 17/100\n",
            "11/11 [==============================] - 0s 6ms/step - loss: 0.0540 - mae: 0.1891\n",
            "Epoch 18/100\n",
            "11/11 [==============================] - 0s 6ms/step - loss: 0.0527 - mae: 0.1874\n",
            "Epoch 19/100\n",
            "11/11 [==============================] - 0s 6ms/step - loss: 0.0517 - mae: 0.1859\n",
            "Epoch 20/100\n",
            "11/11 [==============================] - 0s 8ms/step - loss: 0.0507 - mae: 0.1843\n",
            "Epoch 21/100\n",
            "11/11 [==============================] - 0s 6ms/step - loss: 0.0499 - mae: 0.1833\n",
            "Epoch 22/100\n",
            "11/11 [==============================] - 0s 6ms/step - loss: 0.0489 - mae: 0.1815\n",
            "Epoch 23/100\n",
            "11/11 [==============================] - 0s 6ms/step - loss: 0.0483 - mae: 0.1803\n",
            "Epoch 24/100\n",
            "11/11 [==============================] - 0s 6ms/step - loss: 0.0473 - mae: 0.1786\n",
            "Epoch 25/100\n",
            "11/11 [==============================] - 0s 6ms/step - loss: 0.0466 - mae: 0.1770\n",
            "Epoch 26/100\n",
            "11/11 [==============================] - 0s 7ms/step - loss: 0.0458 - mae: 0.1753\n",
            "Epoch 27/100\n",
            "11/11 [==============================] - 0s 7ms/step - loss: 0.0450 - mae: 0.1738\n",
            "Epoch 28/100\n",
            "11/11 [==============================] - 0s 6ms/step - loss: 0.0442 - mae: 0.1722\n",
            "Epoch 29/100\n",
            "11/11 [==============================] - 0s 6ms/step - loss: 0.0434 - mae: 0.1707\n",
            "Epoch 30/100\n",
            "11/11 [==============================] - 0s 6ms/step - loss: 0.0426 - mae: 0.1691\n",
            "Epoch 31/100\n",
            "11/11 [==============================] - 0s 6ms/step - loss: 0.0417 - mae: 0.1672\n",
            "Epoch 32/100\n",
            "11/11 [==============================] - 0s 6ms/step - loss: 0.0409 - mae: 0.1656\n",
            "Epoch 33/100\n",
            "11/11 [==============================] - 0s 7ms/step - loss: 0.0403 - mae: 0.1637\n",
            "Epoch 34/100\n",
            "11/11 [==============================] - 0s 6ms/step - loss: 0.0391 - mae: 0.1614\n",
            "Epoch 35/100\n",
            "11/11 [==============================] - 0s 6ms/step - loss: 0.0383 - mae: 0.1597\n",
            "Epoch 36/100\n",
            "11/11 [==============================] - 0s 6ms/step - loss: 0.0373 - mae: 0.1576\n",
            "Epoch 37/100\n",
            "11/11 [==============================] - 0s 6ms/step - loss: 0.0363 - mae: 0.1552\n",
            "Epoch 38/100\n",
            "11/11 [==============================] - 0s 6ms/step - loss: 0.0353 - mae: 0.1529\n",
            "Epoch 39/100\n",
            "11/11 [==============================] - 0s 7ms/step - loss: 0.0342 - mae: 0.1503\n",
            "Epoch 40/100\n",
            "11/11 [==============================] - 0s 6ms/step - loss: 0.0331 - mae: 0.1475\n",
            "Epoch 41/100\n",
            "11/11 [==============================] - 0s 6ms/step - loss: 0.0319 - mae: 0.1450\n",
            "Epoch 42/100\n",
            "11/11 [==============================] - 0s 7ms/step - loss: 0.0307 - mae: 0.1422\n",
            "Epoch 43/100\n",
            "11/11 [==============================] - 0s 6ms/step - loss: 0.0295 - mae: 0.1392\n",
            "Epoch 44/100\n",
            "11/11 [==============================] - 0s 6ms/step - loss: 0.0282 - mae: 0.1359\n",
            "Epoch 45/100\n",
            "11/11 [==============================] - 0s 6ms/step - loss: 0.0268 - mae: 0.1319\n",
            "Epoch 46/100\n",
            "11/11 [==============================] - 0s 7ms/step - loss: 0.0254 - mae: 0.1285\n",
            "Epoch 47/100\n",
            "11/11 [==============================] - 0s 6ms/step - loss: 0.0239 - mae: 0.1243\n",
            "Epoch 48/100\n",
            "11/11 [==============================] - 0s 6ms/step - loss: 0.0226 - mae: 0.1213\n",
            "Epoch 49/100\n",
            "11/11 [==============================] - 0s 6ms/step - loss: 0.0210 - mae: 0.1169\n",
            "Epoch 50/100\n",
            "11/11 [==============================] - 0s 6ms/step - loss: 0.0196 - mae: 0.1121\n",
            "Epoch 51/100\n",
            "11/11 [==============================] - 0s 7ms/step - loss: 0.0181 - mae: 0.1064\n",
            "Epoch 52/100\n",
            "11/11 [==============================] - 0s 7ms/step - loss: 0.0168 - mae: 0.1021\n",
            "Epoch 53/100\n",
            "11/11 [==============================] - 0s 6ms/step - loss: 0.0154 - mae: 0.0980\n",
            "Epoch 54/100\n",
            "11/11 [==============================] - 0s 6ms/step - loss: 0.0142 - mae: 0.0945\n",
            "Epoch 55/100\n",
            "11/11 [==============================] - 0s 6ms/step - loss: 0.0132 - mae: 0.0902\n",
            "Epoch 56/100\n",
            "11/11 [==============================] - 0s 6ms/step - loss: 0.0121 - mae: 0.0836\n",
            "Epoch 57/100\n",
            "11/11 [==============================] - 0s 6ms/step - loss: 0.0114 - mae: 0.0812\n",
            "Epoch 58/100\n",
            "11/11 [==============================] - 0s 6ms/step - loss: 0.0107 - mae: 0.0789\n",
            "Epoch 59/100\n",
            "11/11 [==============================] - 0s 7ms/step - loss: 0.0101 - mae: 0.0771\n",
            "Epoch 60/100\n",
            "11/11 [==============================] - 0s 6ms/step - loss: 0.0098 - mae: 0.0763\n",
            "Epoch 61/100\n",
            "11/11 [==============================] - 0s 6ms/step - loss: 0.0094 - mae: 0.0745\n",
            "Epoch 62/100\n",
            "11/11 [==============================] - 0s 6ms/step - loss: 0.0092 - mae: 0.0730\n",
            "Epoch 63/100\n",
            "11/11 [==============================] - 0s 6ms/step - loss: 0.0093 - mae: 0.0744\n",
            "Epoch 64/100\n",
            "11/11 [==============================] - 0s 6ms/step - loss: 0.0090 - mae: 0.0730\n",
            "Epoch 65/100\n",
            "11/11 [==============================] - 0s 7ms/step - loss: 0.0090 - mae: 0.0732\n",
            "Epoch 66/100\n",
            "11/11 [==============================] - 0s 6ms/step - loss: 0.0089 - mae: 0.0726\n",
            "Epoch 67/100\n",
            "11/11 [==============================] - 0s 6ms/step - loss: 0.0093 - mae: 0.0744\n",
            "Epoch 68/100\n",
            "11/11 [==============================] - 0s 6ms/step - loss: 0.0090 - mae: 0.0731\n",
            "Epoch 69/100\n",
            "11/11 [==============================] - 0s 6ms/step - loss: 0.0087 - mae: 0.0720\n",
            "Epoch 70/100\n",
            "11/11 [==============================] - 0s 6ms/step - loss: 0.0087 - mae: 0.0725\n",
            "Epoch 71/100\n",
            "11/11 [==============================] - 0s 6ms/step - loss: 0.0087 - mae: 0.0723\n",
            "Epoch 72/100\n",
            "11/11 [==============================] - 0s 6ms/step - loss: 0.0087 - mae: 0.0723\n",
            "Epoch 73/100\n",
            "11/11 [==============================] - 0s 6ms/step - loss: 0.0088 - mae: 0.0721\n",
            "Epoch 74/100\n",
            "11/11 [==============================] - 0s 6ms/step - loss: 0.0087 - mae: 0.0721\n",
            "Epoch 75/100\n",
            "11/11 [==============================] - 0s 6ms/step - loss: 0.0086 - mae: 0.0720\n",
            "Epoch 76/100\n",
            "11/11 [==============================] - 0s 6ms/step - loss: 0.0086 - mae: 0.0720\n",
            "Epoch 77/100\n",
            "11/11 [==============================] - 0s 6ms/step - loss: 0.0089 - mae: 0.0732\n",
            "Epoch 78/100\n",
            "11/11 [==============================] - 0s 7ms/step - loss: 0.0088 - mae: 0.0733\n",
            "Epoch 79/100\n",
            "11/11 [==============================] - 0s 6ms/step - loss: 0.0086 - mae: 0.0725\n",
            "Epoch 80/100\n",
            "11/11 [==============================] - 0s 6ms/step - loss: 0.0085 - mae: 0.0718\n",
            "Epoch 81/100\n",
            "11/11 [==============================] - 0s 6ms/step - loss: 0.0086 - mae: 0.0719\n",
            "Epoch 82/100\n",
            "11/11 [==============================] - 0s 6ms/step - loss: 0.0085 - mae: 0.0716\n",
            "Epoch 83/100\n",
            "11/11 [==============================] - 0s 6ms/step - loss: 0.0086 - mae: 0.0716\n",
            "Epoch 84/100\n",
            "11/11 [==============================] - 0s 6ms/step - loss: 0.0087 - mae: 0.0720\n",
            "Epoch 85/100\n",
            "11/11 [==============================] - 0s 6ms/step - loss: 0.0085 - mae: 0.0715\n",
            "Epoch 86/100\n",
            "11/11 [==============================] - 0s 6ms/step - loss: 0.0085 - mae: 0.0715\n",
            "Epoch 87/100\n",
            "11/11 [==============================] - 0s 6ms/step - loss: 0.0086 - mae: 0.0716\n",
            "Epoch 88/100\n",
            "11/11 [==============================] - 0s 6ms/step - loss: 0.0085 - mae: 0.0719\n",
            "Epoch 89/100\n",
            "11/11 [==============================] - 0s 7ms/step - loss: 0.0085 - mae: 0.0716\n",
            "Epoch 90/100\n",
            "11/11 [==============================] - 0s 6ms/step - loss: 0.0085 - mae: 0.0715\n",
            "Epoch 91/100\n",
            "11/11 [==============================] - 0s 7ms/step - loss: 0.0085 - mae: 0.0712\n",
            "Epoch 92/100\n",
            "11/11 [==============================] - 0s 6ms/step - loss: 0.0085 - mae: 0.0717\n",
            "Epoch 93/100\n",
            "11/11 [==============================] - 0s 6ms/step - loss: 0.0086 - mae: 0.0717\n",
            "Epoch 94/100\n",
            "11/11 [==============================] - 0s 6ms/step - loss: 0.0086 - mae: 0.0718\n",
            "Epoch 95/100\n",
            "11/11 [==============================] - 0s 6ms/step - loss: 0.0085 - mae: 0.0710\n",
            "Epoch 96/100\n",
            "11/11 [==============================] - 0s 6ms/step - loss: 0.0085 - mae: 0.0715\n",
            "Epoch 97/100\n",
            "11/11 [==============================] - 0s 7ms/step - loss: 0.0086 - mae: 0.0727\n",
            "Epoch 98/100\n",
            "11/11 [==============================] - 0s 6ms/step - loss: 0.0084 - mae: 0.0710\n",
            "Epoch 99/100\n",
            "11/11 [==============================] - 0s 6ms/step - loss: 0.0085 - mae: 0.0711\n",
            "Epoch 100/100\n",
            "11/11 [==============================] - 0s 6ms/step - loss: 0.0084 - mae: 0.0708\n"
          ],
          "name": "stdout"
        },
        {
          "output_type": "execute_result",
          "data": {
            "text/plain": [
              "<tensorflow.python.keras.callbacks.History at 0x7f8f88aaa6a0>"
            ]
          },
          "metadata": {
            "tags": []
          },
          "execution_count": 361
        }
      ]
    },
    {
      "cell_type": "code",
      "metadata": {
        "id": "1Pa1xGVDNM7L",
        "colab_type": "code",
        "colab": {
          "base_uri": "https://localhost:8080/",
          "height": 88
        },
        "outputId": "2d857054-4dda-49b8-fac6-4a14d72c1337"
      },
      "source": [
        "model.evaluate(X_test,Y_test)"
      ],
      "execution_count": null,
      "outputs": [
        {
          "output_type": "stream",
          "text": [
            "WARNING:tensorflow:6 out of the last 11 calls to <function Model.make_test_function.<locals>.test_function at 0x7f8f8878ed90> triggered tf.function retracing. Tracing is expensive and the excessive number of tracings could be due to (1) creating @tf.function repeatedly in a loop, (2) passing tensors with different shapes, (3) passing Python objects instead of tensors. For (1), please define your @tf.function outside of the loop. For (2), @tf.function has experimental_relax_shapes=True option that relaxes argument shapes that can avoid unnecessary retracing. For (3), please refer to https://www.tensorflow.org/tutorials/customization/performance#python_or_tensor_args and https://www.tensorflow.org/api_docs/python/tf/function for  more details.\n",
            "2/2 [==============================] - 0s 4ms/step - loss: 0.0389 - mae: 0.1536\n"
          ],
          "name": "stdout"
        },
        {
          "output_type": "execute_result",
          "data": {
            "text/plain": [
              "[0.0389266200363636, 0.1535976380109787]"
            ]
          },
          "metadata": {
            "tags": []
          },
          "execution_count": 362
        }
      ]
    },
    {
      "cell_type": "code",
      "metadata": {
        "id": "RnyFKA3GRDnD",
        "colab_type": "code",
        "colab": {}
      },
      "source": [
        "from sklearn.metrics import r2_score"
      ],
      "execution_count": null,
      "outputs": []
    },
    {
      "cell_type": "code",
      "metadata": {
        "id": "VUyoJTqjRHsU",
        "colab_type": "code",
        "colab": {
          "base_uri": "https://localhost:8080/",
          "height": 34
        },
        "outputId": "1b51a181-4583-4796-8630-0a43c69a0c7b"
      },
      "source": [
        "r2_score(Y_test,model.predict(X_test))"
      ],
      "execution_count": null,
      "outputs": [
        {
          "output_type": "execute_result",
          "data": {
            "text/plain": [
              "0.16164340383380882"
            ]
          },
          "metadata": {
            "tags": []
          },
          "execution_count": 363
        }
      ]
    },
    {
      "cell_type": "code",
      "metadata": {
        "id": "OPM2ylW5RMu6",
        "colab_type": "code",
        "colab": {
          "base_uri": "https://localhost:8080/",
          "height": 282
        },
        "outputId": "e3776715-03d3-42bc-e632-342ebd30f6ee"
      },
      "source": [
        "plt.plot(date.iloc[:len(train)],train[\"Passengers\"])\n",
        "plt.plot(date.iloc[len(train):],sc.inverse_transform(model.predict(X_test)))\n",
        "plt.plot(date.iloc[len(train):],sc.inverse_transform(Y_test))"
      ],
      "execution_count": null,
      "outputs": [
        {
          "output_type": "execute_result",
          "data": {
            "text/plain": [
              "[<matplotlib.lines.Line2D at 0x7f8f87c84dd8>]"
            ]
          },
          "metadata": {
            "tags": []
          },
          "execution_count": 364
        },
        {
          "output_type": "display_data",
          "data": {
            "image/png": "[encoded data removed]",
            "text/plain": [
              "<Figure size 432x288 with 1 Axes>"
            ]
          },
          "metadata": {
            "tags": [],
            "needs_background": "light"
          }
        }
      ]
    },
    {
      "cell_type": "code",
      "metadata": {
        "id": "EPBTkX1bTUhi",
        "colab_type": "code",
        "colab": {
          "base_uri": "https://localhost:8080/",
          "height": 163
        },
        "outputId": "41b6ef84-f447-49b3-dce6-be849753f600"
      },
      "source": [
        "df"
      ],
      "execution_count": null,
      "outputs": [
        {
          "output_type": "error",
          "ename": "NameError",
          "evalue": "ignored",
          "traceback": [
            "\u001b[0;31m---------------------------------------------------------------------------\u001b[0m",
            "\u001b[0;31mNameError\u001b[0m                                 Traceback (most recent call last)",
            "\u001b[0;32m<ipython-input-1-00cf07b74dcd>\u001b[0m in \u001b[0;36m<module>\u001b[0;34m()\u001b[0m\n\u001b[0;32m----> 1\u001b[0;31m \u001b[0mdf\u001b[0m\u001b[0;34m\u001b[0m\u001b[0;34m\u001b[0m\u001b[0m\n\u001b[0m",
            "\u001b[0;31mNameError\u001b[0m: name 'df' is not defined"
          ]
        }
      ]
    },
    {
      "cell_type": "code",
      "metadata": {
        "id": "sfVZiMMmTFhs",
        "colab_type": "code",
        "colab": {}
      },
      "source": [
        ""
      ],
      "execution_count": null,
      "outputs": []
    },
    {
      "cell_type": "code",
      "metadata": {
        "id": "oZmr2B_XSorL",
        "colab_type": "code",
        "colab": {}
      },
      "source": [
        ""
      ],
      "execution_count": null,
      "outputs": []
    },
    {
      "cell_type": "code",
      "metadata": {
        "id": "rgE1JN65SmVA",
        "colab_type": "code",
        "colab": {}
      },
      "source": [
        ""
      ],
      "execution_count": null,
      "outputs": []
    },
    {
      "cell_type": "code",
      "metadata": {
        "id": "BwsQv3kXScl2",
        "colab_type": "code",
        "colab": {}
      },
      "source": [
        ""
      ],
      "execution_count": null,
      "outputs": []
    },
    {
      "cell_type": "code",
      "metadata": {
        "id": "kUve7yuSR7Wv",
        "colab_type": "code",
        "colab": {}
      },
      "source": [
        ""
      ],
      "execution_count": null,
      "outputs": []
    },
    {
      "cell_type": "code",
      "metadata": {
        "id": "IUuKKK3XLf_y",
        "colab_type": "code",
        "colab": {}
      },
      "source": [
        ""
      ],
      "execution_count": null,
      "outputs": []
    },
    {
      "cell_type": "code",
      "metadata": {
        "id": "chJ2uLJ1KcxJ",
        "colab_type": "code",
        "colab": {}
      },
      "source": [
        ""
      ],
      "execution_count": null,
      "outputs": []
    },
    {
      "cell_type": "code",
      "metadata": {
        "id": "ZFegThWSIzyZ",
        "colab_type": "code",
        "colab": {}
      },
      "source": [
        ""
      ],
      "execution_count": null,
      "outputs": []
    },
    {
      "cell_type": "code",
      "metadata": {
        "id": "Mu_miA5-IsRy",
        "colab_type": "code",
        "colab": {}
      },
      "source": [
        ""
      ],
      "execution_count": null,
      "outputs": []
    },
    {
      "cell_type": "code",
      "metadata": {
        "id": "-jVRt9I6IGFG",
        "colab_type": "code",
        "colab": {}
      },
      "source": [
        ""
      ],
      "execution_count": null,
      "outputs": []
    }
  ]
}