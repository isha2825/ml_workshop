{
  "nbformat": 4,
  "nbformat_minor": 0,
  "metadata": {
    "colab": {
      "name": "diabetes.ipynb",
      "provenance": []
    },
    "kernelspec": {
      "name": "python3",
      "display_name": "Python 3"
    },
    "accelerator": "GPU"
  },
  "cells": [
    {
      "cell_type": "code",
      "metadata": {
        "id": "Mo4b-0dA8q8c",
        "colab_type": "code",
        "colab": {}
      },
      "source": [
        "import pandas as pd"
      ],
      "execution_count": 2,
      "outputs": []
    },
    {
      "cell_type": "code",
      "metadata": {
        "id": "OmuUoU8B9h21",
        "colab_type": "code",
        "colab": {}
      },
      "source": [
        "df = pd.read_csv(\"diabetes.csv\")"
      ],
      "execution_count": 15,
      "outputs": []
    },
    {
      "cell_type": "code",
      "metadata": {
        "id": "kggBawwb_U-o",
        "colab_type": "code",
        "colab": {}
      },
      "source": [
        "df"
      ],
      "execution_count": null,
      "outputs": []
    },
    {
      "cell_type": "code",
      "metadata": {
        "id": "ptXaPboA9qzv",
        "colab_type": "code",
        "colab": {}
      },
      "source": [
        "X = df.drop(\"Outcome\",axis=1)"
      ],
      "execution_count": 139,
      "outputs": []
    },
    {
      "cell_type": "code",
      "metadata": {
        "id": "2UbBIl9A9xbg",
        "colab_type": "code",
        "colab": {}
      },
      "source": [
        "y = df[\"Outcome\"]"
      ],
      "execution_count": 140,
      "outputs": []
    },
    {
      "cell_type": "code",
      "metadata": {
        "id": "DoERltJ5_EtZ",
        "colab_type": "code",
        "colab": {}
      },
      "source": [
        "from sklearn.model_selection import train_test_split"
      ],
      "execution_count": 13,
      "outputs": []
    },
    {
      "cell_type": "code",
      "metadata": {
        "id": "KGofZFpq_HgL",
        "colab_type": "code",
        "colab": {}
      },
      "source": [
        "X_train,X_test,Y_train,Y_test = train_test_split(X,y,test_size = 0.25 , random_state = 25)"
      ],
      "execution_count": 141,
      "outputs": []
    },
    {
      "cell_type": "code",
      "metadata": {
        "id": "HKxLY0Ra9zHu",
        "colab_type": "code",
        "colab": {}
      },
      "source": [
        "from keras.layers import Dense\n",
        "from keras.models import Sequential\n",
        "from keras.optimizers import SGD"
      ],
      "execution_count": 26,
      "outputs": []
    },
    {
      "cell_type": "code",
      "metadata": {
        "id": "iuP2qK4VBpuG",
        "colab_type": "code",
        "colab": {}
      },
      "source": [
        "from sklearn.preprocessing import MinMaxScaler"
      ],
      "execution_count": 34,
      "outputs": []
    },
    {
      "cell_type": "code",
      "metadata": {
        "id": "h82tKKsNDvQx",
        "colab_type": "code",
        "colab": {}
      },
      "source": [
        "scaler = MinMaxScaler()"
      ],
      "execution_count": 142,
      "outputs": []
    },
    {
      "cell_type": "code",
      "metadata": {
        "id": "2KR01GmrHpBk",
        "colab_type": "code",
        "colab": {}
      },
      "source": [
        "X_train = scaler.fit_transform(X_train)"
      ],
      "execution_count": 143,
      "outputs": []
    },
    {
      "cell_type": "code",
      "metadata": {
        "id": "kIDK3EroD9di",
        "colab_type": "code",
        "colab": {}
      },
      "source": [
        "X_test = scaler.transform(X_test)"
      ],
      "execution_count": 144,
      "outputs": []
    },
    {
      "cell_type": "code",
      "metadata": {
        "id": "txv2GAkHD_cy",
        "colab_type": "code",
        "colab": {}
      },
      "source": [
        ""
      ],
      "execution_count": null,
      "outputs": []
    },
    {
      "cell_type": "code",
      "metadata": {
        "id": "UGNfgyBrDLA0",
        "colab_type": "code",
        "colab": {}
      },
      "source": [
        ""
      ],
      "execution_count": 163,
      "outputs": []
    },
    {
      "cell_type": "code",
      "metadata": {
        "id": "e3gPFGCU94YD",
        "colab_type": "code",
        "colab": {}
      },
      "source": [
        "model = Sequential()\n",
        "model.add(Dense(X_train.shape[1],activation=\"relu\",input_dim=X_train.shape[1]))\n",
        "model.add(Dense(32,activation=\"relu\"))\n",
        "model.add(Dense(1,activation=\"sigmoid\"))"
      ],
      "execution_count": 161,
      "outputs": []
    },
    {
      "cell_type": "code",
      "metadata": {
        "id": "Eme0VpHk-yPe",
        "colab_type": "code",
        "colab": {}
      },
      "source": [
        "model.compile(loss=\"binary_crossentropy\",optimizer=\"adam\",metrics=[\"accuracy\"])"
      ],
      "execution_count": 162,
      "outputs": []
    },
    {
      "cell_type": "code",
      "metadata": {
        "id": "LY5bT9mG-_iQ",
        "colab_type": "code",
        "colab": {
          "base_uri": "https://localhost:8080/",
          "height": 1000
        },
        "outputId": "4453a38c-38a9-4009-ef7f-a16855926fc8"
      },
      "source": [
        "history = model.fit(X_train,Y_train,epochs=250,batch_size=30)"
      ],
      "execution_count": 163,
      "outputs": [
        {
          "output_type": "stream",
          "text": [
            "Epoch 1/250\n",
            "20/20 [==============================] - 0s 2ms/step - loss: 0.6883 - accuracy: 0.5660\n",
            "Epoch 2/250\n",
            "20/20 [==============================] - 0s 2ms/step - loss: 0.6658 - accuracy: 0.6458\n",
            "Epoch 3/250\n",
            "20/20 [==============================] - 0s 2ms/step - loss: 0.6531 - accuracy: 0.6441\n",
            "Epoch 4/250\n",
            "20/20 [==============================] - 0s 2ms/step - loss: 0.6480 - accuracy: 0.6424\n",
            "Epoch 5/250\n",
            "20/20 [==============================] - 0s 2ms/step - loss: 0.6446 - accuracy: 0.6441\n",
            "Epoch 6/250\n",
            "20/20 [==============================] - 0s 2ms/step - loss: 0.6408 - accuracy: 0.6510\n",
            "Epoch 7/250\n",
            "20/20 [==============================] - 0s 2ms/step - loss: 0.6356 - accuracy: 0.6562\n",
            "Epoch 8/250\n",
            "20/20 [==============================] - 0s 2ms/step - loss: 0.6311 - accuracy: 0.6580\n",
            "Epoch 9/250\n",
            "20/20 [==============================] - 0s 2ms/step - loss: 0.6247 - accuracy: 0.6597\n",
            "Epoch 10/250\n",
            "20/20 [==============================] - 0s 2ms/step - loss: 0.6184 - accuracy: 0.6667\n",
            "Epoch 11/250\n",
            "20/20 [==============================] - 0s 2ms/step - loss: 0.6131 - accuracy: 0.6806\n",
            "Epoch 12/250\n",
            "20/20 [==============================] - 0s 2ms/step - loss: 0.6070 - accuracy: 0.6701\n",
            "Epoch 13/250\n",
            "20/20 [==============================] - 0s 2ms/step - loss: 0.5994 - accuracy: 0.6875\n",
            "Epoch 14/250\n",
            "20/20 [==============================] - 0s 3ms/step - loss: 0.5934 - accuracy: 0.7066\n",
            "Epoch 15/250\n",
            "20/20 [==============================] - 0s 2ms/step - loss: 0.5857 - accuracy: 0.7014\n",
            "Epoch 16/250\n",
            "20/20 [==============================] - 0s 2ms/step - loss: 0.5805 - accuracy: 0.6962\n",
            "Epoch 17/250\n",
            "20/20 [==============================] - 0s 2ms/step - loss: 0.5732 - accuracy: 0.7083\n",
            "Epoch 18/250\n",
            "20/20 [==============================] - 0s 2ms/step - loss: 0.5678 - accuracy: 0.7118\n",
            "Epoch 19/250\n",
            "20/20 [==============================] - 0s 2ms/step - loss: 0.5607 - accuracy: 0.7153\n",
            "Epoch 20/250\n",
            "20/20 [==============================] - 0s 2ms/step - loss: 0.5556 - accuracy: 0.7205\n",
            "Epoch 21/250\n",
            "20/20 [==============================] - 0s 3ms/step - loss: 0.5478 - accuracy: 0.7170\n",
            "Epoch 22/250\n",
            "20/20 [==============================] - 0s 2ms/step - loss: 0.5417 - accuracy: 0.7274\n",
            "Epoch 23/250\n",
            "20/20 [==============================] - 0s 2ms/step - loss: 0.5360 - accuracy: 0.7205\n",
            "Epoch 24/250\n",
            "20/20 [==============================] - 0s 2ms/step - loss: 0.5313 - accuracy: 0.7274\n",
            "Epoch 25/250\n",
            "20/20 [==============================] - 0s 2ms/step - loss: 0.5275 - accuracy: 0.7292\n",
            "Epoch 26/250\n",
            "20/20 [==============================] - 0s 2ms/step - loss: 0.5221 - accuracy: 0.7361\n",
            "Epoch 27/250\n",
            "20/20 [==============================] - 0s 2ms/step - loss: 0.5195 - accuracy: 0.7274\n",
            "Epoch 28/250\n",
            "20/20 [==============================] - 0s 3ms/step - loss: 0.5149 - accuracy: 0.7292\n",
            "Epoch 29/250\n",
            "20/20 [==============================] - 0s 2ms/step - loss: 0.5096 - accuracy: 0.7448\n",
            "Epoch 30/250\n",
            "20/20 [==============================] - 0s 2ms/step - loss: 0.5061 - accuracy: 0.7396\n",
            "Epoch 31/250\n",
            "20/20 [==============================] - 0s 2ms/step - loss: 0.5030 - accuracy: 0.7483\n",
            "Epoch 32/250\n",
            "20/20 [==============================] - 0s 2ms/step - loss: 0.4995 - accuracy: 0.7517\n",
            "Epoch 33/250\n",
            "20/20 [==============================] - 0s 2ms/step - loss: 0.4965 - accuracy: 0.7448\n",
            "Epoch 34/250\n",
            "20/20 [==============================] - 0s 2ms/step - loss: 0.4943 - accuracy: 0.7552\n",
            "Epoch 35/250\n",
            "20/20 [==============================] - 0s 2ms/step - loss: 0.4911 - accuracy: 0.7465\n",
            "Epoch 36/250\n",
            "20/20 [==============================] - 0s 2ms/step - loss: 0.4905 - accuracy: 0.7465\n",
            "Epoch 37/250\n",
            "20/20 [==============================] - 0s 2ms/step - loss: 0.4866 - accuracy: 0.7569\n",
            "Epoch 38/250\n",
            "20/20 [==============================] - 0s 2ms/step - loss: 0.4844 - accuracy: 0.7622\n",
            "Epoch 39/250\n",
            "20/20 [==============================] - 0s 2ms/step - loss: 0.4820 - accuracy: 0.7622\n",
            "Epoch 40/250\n",
            "20/20 [==============================] - 0s 2ms/step - loss: 0.4803 - accuracy: 0.7604\n",
            "Epoch 41/250\n",
            "20/20 [==============================] - 0s 2ms/step - loss: 0.4820 - accuracy: 0.7622\n",
            "Epoch 42/250\n",
            "20/20 [==============================] - 0s 2ms/step - loss: 0.4793 - accuracy: 0.7587\n",
            "Epoch 43/250\n",
            "20/20 [==============================] - 0s 2ms/step - loss: 0.4750 - accuracy: 0.7691\n",
            "Epoch 44/250\n",
            "20/20 [==============================] - 0s 2ms/step - loss: 0.4770 - accuracy: 0.7708\n",
            "Epoch 45/250\n",
            "20/20 [==============================] - 0s 3ms/step - loss: 0.4731 - accuracy: 0.7622\n",
            "Epoch 46/250\n",
            "20/20 [==============================] - 0s 3ms/step - loss: 0.4726 - accuracy: 0.7691\n",
            "Epoch 47/250\n",
            "20/20 [==============================] - 0s 2ms/step - loss: 0.4709 - accuracy: 0.7743\n",
            "Epoch 48/250\n",
            "20/20 [==============================] - 0s 2ms/step - loss: 0.4689 - accuracy: 0.7760\n",
            "Epoch 49/250\n",
            "20/20 [==============================] - 0s 2ms/step - loss: 0.4699 - accuracy: 0.7778\n",
            "Epoch 50/250\n",
            "20/20 [==============================] - 0s 2ms/step - loss: 0.4675 - accuracy: 0.7708\n",
            "Epoch 51/250\n",
            "20/20 [==============================] - 0s 2ms/step - loss: 0.4664 - accuracy: 0.7726\n",
            "Epoch 52/250\n",
            "20/20 [==============================] - 0s 2ms/step - loss: 0.4655 - accuracy: 0.7743\n",
            "Epoch 53/250\n",
            "20/20 [==============================] - 0s 2ms/step - loss: 0.4648 - accuracy: 0.7674\n",
            "Epoch 54/250\n",
            "20/20 [==============================] - 0s 3ms/step - loss: 0.4634 - accuracy: 0.7691\n",
            "Epoch 55/250\n",
            "20/20 [==============================] - 0s 2ms/step - loss: 0.4633 - accuracy: 0.7726\n",
            "Epoch 56/250\n",
            "20/20 [==============================] - 0s 2ms/step - loss: 0.4636 - accuracy: 0.7708\n",
            "Epoch 57/250\n",
            "20/20 [==============================] - 0s 2ms/step - loss: 0.4612 - accuracy: 0.7726\n",
            "Epoch 58/250\n",
            "20/20 [==============================] - 0s 2ms/step - loss: 0.4661 - accuracy: 0.7847\n",
            "Epoch 59/250\n",
            "20/20 [==============================] - 0s 2ms/step - loss: 0.4765 - accuracy: 0.7656\n",
            "Epoch 60/250\n",
            "20/20 [==============================] - 0s 3ms/step - loss: 0.4630 - accuracy: 0.7830\n",
            "Epoch 61/250\n",
            "20/20 [==============================] - 0s 2ms/step - loss: 0.4628 - accuracy: 0.7812\n",
            "Epoch 62/250\n",
            "20/20 [==============================] - 0s 2ms/step - loss: 0.4631 - accuracy: 0.7812\n",
            "Epoch 63/250\n",
            "20/20 [==============================] - 0s 3ms/step - loss: 0.4594 - accuracy: 0.7778\n",
            "Epoch 64/250\n",
            "20/20 [==============================] - 0s 2ms/step - loss: 0.4612 - accuracy: 0.7708\n",
            "Epoch 65/250\n",
            "20/20 [==============================] - 0s 2ms/step - loss: 0.4581 - accuracy: 0.7760\n",
            "Epoch 66/250\n",
            "20/20 [==============================] - 0s 2ms/step - loss: 0.4548 - accuracy: 0.7795\n",
            "Epoch 67/250\n",
            "20/20 [==============================] - 0s 2ms/step - loss: 0.4543 - accuracy: 0.7674\n",
            "Epoch 68/250\n",
            "20/20 [==============================] - 0s 2ms/step - loss: 0.4542 - accuracy: 0.7778\n",
            "Epoch 69/250\n",
            "20/20 [==============================] - 0s 2ms/step - loss: 0.4542 - accuracy: 0.7812\n",
            "Epoch 70/250\n",
            "20/20 [==============================] - 0s 2ms/step - loss: 0.4545 - accuracy: 0.7743\n",
            "Epoch 71/250\n",
            "20/20 [==============================] - 0s 2ms/step - loss: 0.4535 - accuracy: 0.7760\n",
            "Epoch 72/250\n",
            "20/20 [==============================] - 0s 2ms/step - loss: 0.4538 - accuracy: 0.7847\n",
            "Epoch 73/250\n",
            "20/20 [==============================] - 0s 2ms/step - loss: 0.4584 - accuracy: 0.7726\n",
            "Epoch 74/250\n",
            "20/20 [==============================] - 0s 3ms/step - loss: 0.4607 - accuracy: 0.7795\n",
            "Epoch 75/250\n",
            "20/20 [==============================] - 0s 2ms/step - loss: 0.4535 - accuracy: 0.7778\n",
            "Epoch 76/250\n",
            "20/20 [==============================] - 0s 2ms/step - loss: 0.4503 - accuracy: 0.7882\n",
            "Epoch 77/250\n",
            "20/20 [==============================] - 0s 2ms/step - loss: 0.4555 - accuracy: 0.7795\n",
            "Epoch 78/250\n",
            "20/20 [==============================] - 0s 2ms/step - loss: 0.4507 - accuracy: 0.7795\n",
            "Epoch 79/250\n",
            "20/20 [==============================] - 0s 2ms/step - loss: 0.4499 - accuracy: 0.7847\n",
            "Epoch 80/250\n",
            "20/20 [==============================] - 0s 2ms/step - loss: 0.4493 - accuracy: 0.7812\n",
            "Epoch 81/250\n",
            "20/20 [==============================] - 0s 2ms/step - loss: 0.4486 - accuracy: 0.7882\n",
            "Epoch 82/250\n",
            "20/20 [==============================] - 0s 2ms/step - loss: 0.4493 - accuracy: 0.7760\n",
            "Epoch 83/250\n",
            "20/20 [==============================] - 0s 2ms/step - loss: 0.4493 - accuracy: 0.7847\n",
            "Epoch 84/250\n",
            "20/20 [==============================] - 0s 2ms/step - loss: 0.4482 - accuracy: 0.7882\n",
            "Epoch 85/250\n",
            "20/20 [==============================] - 0s 2ms/step - loss: 0.4491 - accuracy: 0.7847\n",
            "Epoch 86/250\n",
            "20/20 [==============================] - 0s 2ms/step - loss: 0.4467 - accuracy: 0.7865\n",
            "Epoch 87/250\n",
            "20/20 [==============================] - 0s 2ms/step - loss: 0.4459 - accuracy: 0.7812\n",
            "Epoch 88/250\n",
            "20/20 [==============================] - 0s 2ms/step - loss: 0.4458 - accuracy: 0.7812\n",
            "Epoch 89/250\n",
            "20/20 [==============================] - 0s 2ms/step - loss: 0.4451 - accuracy: 0.7795\n",
            "Epoch 90/250\n",
            "20/20 [==============================] - 0s 2ms/step - loss: 0.4450 - accuracy: 0.7865\n",
            "Epoch 91/250\n",
            "20/20 [==============================] - 0s 2ms/step - loss: 0.4467 - accuracy: 0.7830\n",
            "Epoch 92/250\n",
            "20/20 [==============================] - 0s 2ms/step - loss: 0.4444 - accuracy: 0.7847\n",
            "Epoch 93/250\n",
            "20/20 [==============================] - 0s 3ms/step - loss: 0.4442 - accuracy: 0.7795\n",
            "Epoch 94/250\n",
            "20/20 [==============================] - 0s 2ms/step - loss: 0.4455 - accuracy: 0.7795\n",
            "Epoch 95/250\n",
            "20/20 [==============================] - 0s 2ms/step - loss: 0.4442 - accuracy: 0.7847\n",
            "Epoch 96/250\n",
            "20/20 [==============================] - 0s 2ms/step - loss: 0.4449 - accuracy: 0.7830\n",
            "Epoch 97/250\n",
            "20/20 [==============================] - 0s 2ms/step - loss: 0.4436 - accuracy: 0.7882\n",
            "Epoch 98/250\n",
            "20/20 [==============================] - 0s 2ms/step - loss: 0.4431 - accuracy: 0.7830\n",
            "Epoch 99/250\n",
            "20/20 [==============================] - 0s 3ms/step - loss: 0.4454 - accuracy: 0.7795\n",
            "Epoch 100/250\n",
            "20/20 [==============================] - 0s 2ms/step - loss: 0.4425 - accuracy: 0.7882\n",
            "Epoch 101/250\n",
            "20/20 [==============================] - 0s 2ms/step - loss: 0.4428 - accuracy: 0.7882\n",
            "Epoch 102/250\n",
            "20/20 [==============================] - 0s 2ms/step - loss: 0.4432 - accuracy: 0.7812\n",
            "Epoch 103/250\n",
            "20/20 [==============================] - 0s 2ms/step - loss: 0.4439 - accuracy: 0.7847\n",
            "Epoch 104/250\n",
            "20/20 [==============================] - 0s 2ms/step - loss: 0.4412 - accuracy: 0.7847\n",
            "Epoch 105/250\n",
            "20/20 [==============================] - 0s 2ms/step - loss: 0.4429 - accuracy: 0.7795\n",
            "Epoch 106/250\n",
            "20/20 [==============================] - 0s 2ms/step - loss: 0.4431 - accuracy: 0.7882\n",
            "Epoch 107/250\n",
            "20/20 [==============================] - 0s 2ms/step - loss: 0.4429 - accuracy: 0.7812\n",
            "Epoch 108/250\n",
            "20/20 [==============================] - 0s 2ms/step - loss: 0.4426 - accuracy: 0.7847\n",
            "Epoch 109/250\n",
            "20/20 [==============================] - 0s 2ms/step - loss: 0.4414 - accuracy: 0.7917\n",
            "Epoch 110/250\n",
            "20/20 [==============================] - 0s 2ms/step - loss: 0.4412 - accuracy: 0.7847\n",
            "Epoch 111/250\n",
            "20/20 [==============================] - 0s 2ms/step - loss: 0.4408 - accuracy: 0.7865\n",
            "Epoch 112/250\n",
            "20/20 [==============================] - 0s 2ms/step - loss: 0.4426 - accuracy: 0.7865\n",
            "Epoch 113/250\n",
            "20/20 [==============================] - 0s 3ms/step - loss: 0.4413 - accuracy: 0.7865\n",
            "Epoch 114/250\n",
            "20/20 [==============================] - 0s 2ms/step - loss: 0.4403 - accuracy: 0.7812\n",
            "Epoch 115/250\n",
            "20/20 [==============================] - 0s 2ms/step - loss: 0.4415 - accuracy: 0.7795\n",
            "Epoch 116/250\n",
            "20/20 [==============================] - 0s 2ms/step - loss: 0.4450 - accuracy: 0.7812\n",
            "Epoch 117/250\n",
            "20/20 [==============================] - 0s 2ms/step - loss: 0.4408 - accuracy: 0.7847\n",
            "Epoch 118/250\n",
            "20/20 [==============================] - 0s 3ms/step - loss: 0.4430 - accuracy: 0.7743\n",
            "Epoch 119/250\n",
            "20/20 [==============================] - 0s 2ms/step - loss: 0.4393 - accuracy: 0.7865\n",
            "Epoch 120/250\n",
            "20/20 [==============================] - 0s 2ms/step - loss: 0.4392 - accuracy: 0.7899\n",
            "Epoch 121/250\n",
            "20/20 [==============================] - 0s 2ms/step - loss: 0.4394 - accuracy: 0.7847\n",
            "Epoch 122/250\n",
            "20/20 [==============================] - 0s 2ms/step - loss: 0.4375 - accuracy: 0.7917\n",
            "Epoch 123/250\n",
            "20/20 [==============================] - 0s 2ms/step - loss: 0.4400 - accuracy: 0.7882\n",
            "Epoch 124/250\n",
            "20/20 [==============================] - 0s 2ms/step - loss: 0.4411 - accuracy: 0.7812\n",
            "Epoch 125/250\n",
            "20/20 [==============================] - 0s 2ms/step - loss: 0.4391 - accuracy: 0.7865\n",
            "Epoch 126/250\n",
            "20/20 [==============================] - 0s 2ms/step - loss: 0.4379 - accuracy: 0.7899\n",
            "Epoch 127/250\n",
            "20/20 [==============================] - 0s 2ms/step - loss: 0.4388 - accuracy: 0.7795\n",
            "Epoch 128/250\n",
            "20/20 [==============================] - 0s 2ms/step - loss: 0.4389 - accuracy: 0.7882\n",
            "Epoch 129/250\n",
            "20/20 [==============================] - 0s 2ms/step - loss: 0.4383 - accuracy: 0.7847\n",
            "Epoch 130/250\n",
            "20/20 [==============================] - 0s 2ms/step - loss: 0.4391 - accuracy: 0.7795\n",
            "Epoch 131/250\n",
            "20/20 [==============================] - 0s 2ms/step - loss: 0.4394 - accuracy: 0.7847\n",
            "Epoch 132/250\n",
            "20/20 [==============================] - 0s 2ms/step - loss: 0.4375 - accuracy: 0.7847\n",
            "Epoch 133/250\n",
            "20/20 [==============================] - 0s 3ms/step - loss: 0.4378 - accuracy: 0.7882\n",
            "Epoch 134/250\n",
            "20/20 [==============================] - 0s 2ms/step - loss: 0.4380 - accuracy: 0.7865\n",
            "Epoch 135/250\n",
            "20/20 [==============================] - 0s 2ms/step - loss: 0.4379 - accuracy: 0.7899\n",
            "Epoch 136/250\n",
            "20/20 [==============================] - 0s 2ms/step - loss: 0.4370 - accuracy: 0.7899\n",
            "Epoch 137/250\n",
            "20/20 [==============================] - 0s 2ms/step - loss: 0.4371 - accuracy: 0.7882\n",
            "Epoch 138/250\n",
            "20/20 [==============================] - 0s 2ms/step - loss: 0.4370 - accuracy: 0.7882\n",
            "Epoch 139/250\n",
            "20/20 [==============================] - 0s 2ms/step - loss: 0.4383 - accuracy: 0.7917\n",
            "Epoch 140/250\n",
            "20/20 [==============================] - 0s 3ms/step - loss: 0.4367 - accuracy: 0.7899\n",
            "Epoch 141/250\n",
            "20/20 [==============================] - 0s 3ms/step - loss: 0.4363 - accuracy: 0.7899\n",
            "Epoch 142/250\n",
            "20/20 [==============================] - 0s 2ms/step - loss: 0.4380 - accuracy: 0.7865\n",
            "Epoch 143/250\n",
            "20/20 [==============================] - 0s 2ms/step - loss: 0.4373 - accuracy: 0.7847\n",
            "Epoch 144/250\n",
            "20/20 [==============================] - 0s 2ms/step - loss: 0.4365 - accuracy: 0.7882\n",
            "Epoch 145/250\n",
            "20/20 [==============================] - 0s 2ms/step - loss: 0.4365 - accuracy: 0.7882\n",
            "Epoch 146/250\n",
            "20/20 [==============================] - 0s 2ms/step - loss: 0.4410 - accuracy: 0.7865\n",
            "Epoch 147/250\n",
            "20/20 [==============================] - 0s 2ms/step - loss: 0.4358 - accuracy: 0.7865\n",
            "Epoch 148/250\n",
            "20/20 [==============================] - 0s 2ms/step - loss: 0.4355 - accuracy: 0.7917\n",
            "Epoch 149/250\n",
            "20/20 [==============================] - 0s 2ms/step - loss: 0.4357 - accuracy: 0.7865\n",
            "Epoch 150/250\n",
            "20/20 [==============================] - 0s 2ms/step - loss: 0.4365 - accuracy: 0.7812\n",
            "Epoch 151/250\n",
            "20/20 [==============================] - 0s 2ms/step - loss: 0.4380 - accuracy: 0.7865\n",
            "Epoch 152/250\n",
            "20/20 [==============================] - 0s 3ms/step - loss: 0.4355 - accuracy: 0.7795\n",
            "Epoch 153/250\n",
            "20/20 [==============================] - 0s 2ms/step - loss: 0.4349 - accuracy: 0.7795\n",
            "Epoch 154/250\n",
            "20/20 [==============================] - 0s 2ms/step - loss: 0.4360 - accuracy: 0.7830\n",
            "Epoch 155/250\n",
            "20/20 [==============================] - 0s 2ms/step - loss: 0.4357 - accuracy: 0.7830\n",
            "Epoch 156/250\n",
            "20/20 [==============================] - 0s 2ms/step - loss: 0.4381 - accuracy: 0.7778\n",
            "Epoch 157/250\n",
            "20/20 [==============================] - 0s 2ms/step - loss: 0.4352 - accuracy: 0.7847\n",
            "Epoch 158/250\n",
            "20/20 [==============================] - 0s 2ms/step - loss: 0.4364 - accuracy: 0.7865\n",
            "Epoch 159/250\n",
            "20/20 [==============================] - 0s 2ms/step - loss: 0.4341 - accuracy: 0.7865\n",
            "Epoch 160/250\n",
            "20/20 [==============================] - 0s 2ms/step - loss: 0.4359 - accuracy: 0.7899\n",
            "Epoch 161/250\n",
            "20/20 [==============================] - 0s 2ms/step - loss: 0.4335 - accuracy: 0.7934\n",
            "Epoch 162/250\n",
            "20/20 [==============================] - 0s 2ms/step - loss: 0.4344 - accuracy: 0.7812\n",
            "Epoch 163/250\n",
            "20/20 [==============================] - 0s 2ms/step - loss: 0.4341 - accuracy: 0.7865\n",
            "Epoch 164/250\n",
            "20/20 [==============================] - 0s 2ms/step - loss: 0.4343 - accuracy: 0.7830\n",
            "Epoch 165/250\n",
            "20/20 [==============================] - 0s 2ms/step - loss: 0.4334 - accuracy: 0.7882\n",
            "Epoch 166/250\n",
            "20/20 [==============================] - 0s 2ms/step - loss: 0.4334 - accuracy: 0.7934\n",
            "Epoch 167/250\n",
            "20/20 [==============================] - 0s 2ms/step - loss: 0.4333 - accuracy: 0.7899\n",
            "Epoch 168/250\n",
            "20/20 [==============================] - 0s 2ms/step - loss: 0.4335 - accuracy: 0.7882\n",
            "Epoch 169/250\n",
            "20/20 [==============================] - 0s 2ms/step - loss: 0.4352 - accuracy: 0.7847\n",
            "Epoch 170/250\n",
            "20/20 [==============================] - 0s 2ms/step - loss: 0.4346 - accuracy: 0.7865\n",
            "Epoch 171/250\n",
            "20/20 [==============================] - 0s 2ms/step - loss: 0.4335 - accuracy: 0.7934\n",
            "Epoch 172/250\n",
            "20/20 [==============================] - 0s 3ms/step - loss: 0.4327 - accuracy: 0.7934\n",
            "Epoch 173/250\n",
            "20/20 [==============================] - 0s 2ms/step - loss: 0.4329 - accuracy: 0.7812\n",
            "Epoch 174/250\n",
            "20/20 [==============================] - 0s 2ms/step - loss: 0.4340 - accuracy: 0.7917\n",
            "Epoch 175/250\n",
            "20/20 [==============================] - 0s 2ms/step - loss: 0.4327 - accuracy: 0.7882\n",
            "Epoch 176/250\n",
            "20/20 [==============================] - 0s 2ms/step - loss: 0.4324 - accuracy: 0.7865\n",
            "Epoch 177/250\n",
            "20/20 [==============================] - 0s 3ms/step - loss: 0.4321 - accuracy: 0.7917\n",
            "Epoch 178/250\n",
            "20/20 [==============================] - 0s 2ms/step - loss: 0.4312 - accuracy: 0.7882\n",
            "Epoch 179/250\n",
            "20/20 [==============================] - 0s 2ms/step - loss: 0.4323 - accuracy: 0.7917\n",
            "Epoch 180/250\n",
            "20/20 [==============================] - 0s 2ms/step - loss: 0.4317 - accuracy: 0.7899\n",
            "Epoch 181/250\n",
            "20/20 [==============================] - 0s 2ms/step - loss: 0.4318 - accuracy: 0.7882\n",
            "Epoch 182/250\n",
            "20/20 [==============================] - 0s 2ms/step - loss: 0.4314 - accuracy: 0.7899\n",
            "Epoch 183/250\n",
            "20/20 [==============================] - 0s 2ms/step - loss: 0.4304 - accuracy: 0.7899\n",
            "Epoch 184/250\n",
            "20/20 [==============================] - 0s 2ms/step - loss: 0.4311 - accuracy: 0.7917\n",
            "Epoch 185/250\n",
            "20/20 [==============================] - 0s 2ms/step - loss: 0.4327 - accuracy: 0.7917\n",
            "Epoch 186/250\n",
            "20/20 [==============================] - 0s 2ms/step - loss: 0.4310 - accuracy: 0.7899\n",
            "Epoch 187/250\n",
            "20/20 [==============================] - 0s 2ms/step - loss: 0.4304 - accuracy: 0.7882\n",
            "Epoch 188/250\n",
            "20/20 [==============================] - 0s 2ms/step - loss: 0.4320 - accuracy: 0.7865\n",
            "Epoch 189/250\n",
            "20/20 [==============================] - 0s 2ms/step - loss: 0.4313 - accuracy: 0.7899\n",
            "Epoch 190/250\n",
            "20/20 [==============================] - 0s 2ms/step - loss: 0.4299 - accuracy: 0.7969\n",
            "Epoch 191/250\n",
            "20/20 [==============================] - 0s 2ms/step - loss: 0.4304 - accuracy: 0.7899\n",
            "Epoch 192/250\n",
            "20/20 [==============================] - 0s 3ms/step - loss: 0.4303 - accuracy: 0.7917\n",
            "Epoch 193/250\n",
            "20/20 [==============================] - 0s 2ms/step - loss: 0.4313 - accuracy: 0.7882\n",
            "Epoch 194/250\n",
            "20/20 [==============================] - 0s 2ms/step - loss: 0.4311 - accuracy: 0.7951\n",
            "Epoch 195/250\n",
            "20/20 [==============================] - 0s 2ms/step - loss: 0.4298 - accuracy: 0.7917\n",
            "Epoch 196/250\n",
            "20/20 [==============================] - 0s 2ms/step - loss: 0.4313 - accuracy: 0.7934\n",
            "Epoch 197/250\n",
            "20/20 [==============================] - 0s 2ms/step - loss: 0.4311 - accuracy: 0.7760\n",
            "Epoch 198/250\n",
            "20/20 [==============================] - 0s 2ms/step - loss: 0.4294 - accuracy: 0.7986\n",
            "Epoch 199/250\n",
            "20/20 [==============================] - 0s 2ms/step - loss: 0.4313 - accuracy: 0.7865\n",
            "Epoch 200/250\n",
            "20/20 [==============================] - 0s 2ms/step - loss: 0.4299 - accuracy: 0.7934\n",
            "Epoch 201/250\n",
            "20/20 [==============================] - 0s 2ms/step - loss: 0.4307 - accuracy: 0.7882\n",
            "Epoch 202/250\n",
            "20/20 [==============================] - 0s 2ms/step - loss: 0.4292 - accuracy: 0.8021\n",
            "Epoch 203/250\n",
            "20/20 [==============================] - 0s 2ms/step - loss: 0.4298 - accuracy: 0.7917\n",
            "Epoch 204/250\n",
            "20/20 [==============================] - 0s 2ms/step - loss: 0.4300 - accuracy: 0.7934\n",
            "Epoch 205/250\n",
            "20/20 [==============================] - 0s 2ms/step - loss: 0.4291 - accuracy: 0.7951\n",
            "Epoch 206/250\n",
            "20/20 [==============================] - 0s 2ms/step - loss: 0.4288 - accuracy: 0.7986\n",
            "Epoch 207/250\n",
            "20/20 [==============================] - 0s 2ms/step - loss: 0.4295 - accuracy: 0.7899\n",
            "Epoch 208/250\n",
            "20/20 [==============================] - 0s 2ms/step - loss: 0.4354 - accuracy: 0.7830\n",
            "Epoch 209/250\n",
            "20/20 [==============================] - 0s 2ms/step - loss: 0.4287 - accuracy: 0.7986\n",
            "Epoch 210/250\n",
            "20/20 [==============================] - 0s 2ms/step - loss: 0.4286 - accuracy: 0.7934\n",
            "Epoch 211/250\n",
            "20/20 [==============================] - 0s 2ms/step - loss: 0.4277 - accuracy: 0.7951\n",
            "Epoch 212/250\n",
            "20/20 [==============================] - 0s 2ms/step - loss: 0.4291 - accuracy: 0.7917\n",
            "Epoch 213/250\n",
            "20/20 [==============================] - 0s 2ms/step - loss: 0.4277 - accuracy: 0.7899\n",
            "Epoch 214/250\n",
            "20/20 [==============================] - 0s 2ms/step - loss: 0.4325 - accuracy: 0.7934\n",
            "Epoch 215/250\n",
            "20/20 [==============================] - 0s 2ms/step - loss: 0.4285 - accuracy: 0.7899\n",
            "Epoch 216/250\n",
            "20/20 [==============================] - 0s 2ms/step - loss: 0.4304 - accuracy: 0.7986\n",
            "Epoch 217/250\n",
            "20/20 [==============================] - 0s 2ms/step - loss: 0.4294 - accuracy: 0.7865\n",
            "Epoch 218/250\n",
            "20/20 [==============================] - 0s 2ms/step - loss: 0.4284 - accuracy: 0.7951\n",
            "Epoch 219/250\n",
            "20/20 [==============================] - 0s 2ms/step - loss: 0.4280 - accuracy: 0.7899\n",
            "Epoch 220/250\n",
            "20/20 [==============================] - 0s 2ms/step - loss: 0.4314 - accuracy: 0.7847\n",
            "Epoch 221/250\n",
            "20/20 [==============================] - 0s 2ms/step - loss: 0.4289 - accuracy: 0.7899\n",
            "Epoch 222/250\n",
            "20/20 [==============================] - 0s 2ms/step - loss: 0.4324 - accuracy: 0.7830\n",
            "Epoch 223/250\n",
            "20/20 [==============================] - 0s 2ms/step - loss: 0.4274 - accuracy: 0.7934\n",
            "Epoch 224/250\n",
            "20/20 [==============================] - 0s 2ms/step - loss: 0.4297 - accuracy: 0.7899\n",
            "Epoch 225/250\n",
            "20/20 [==============================] - 0s 2ms/step - loss: 0.4284 - accuracy: 0.7882\n",
            "Epoch 226/250\n",
            "20/20 [==============================] - 0s 2ms/step - loss: 0.4275 - accuracy: 0.7899\n",
            "Epoch 227/250\n",
            "20/20 [==============================] - 0s 2ms/step - loss: 0.4280 - accuracy: 0.7969\n",
            "Epoch 228/250\n",
            "20/20 [==============================] - 0s 2ms/step - loss: 0.4279 - accuracy: 0.7986\n",
            "Epoch 229/250\n",
            "20/20 [==============================] - 0s 2ms/step - loss: 0.4297 - accuracy: 0.7917\n",
            "Epoch 230/250\n",
            "20/20 [==============================] - 0s 2ms/step - loss: 0.4290 - accuracy: 0.7899\n",
            "Epoch 231/250\n",
            "20/20 [==============================] - 0s 2ms/step - loss: 0.4292 - accuracy: 0.7882\n",
            "Epoch 232/250\n",
            "20/20 [==============================] - 0s 2ms/step - loss: 0.4277 - accuracy: 0.7951\n",
            "Epoch 233/250\n",
            "20/20 [==============================] - 0s 2ms/step - loss: 0.4286 - accuracy: 0.7969\n",
            "Epoch 234/250\n",
            "20/20 [==============================] - 0s 3ms/step - loss: 0.4307 - accuracy: 0.7917\n",
            "Epoch 235/250\n",
            "20/20 [==============================] - 0s 2ms/step - loss: 0.4284 - accuracy: 0.7951\n",
            "Epoch 236/250\n",
            "20/20 [==============================] - 0s 2ms/step - loss: 0.4267 - accuracy: 0.7899\n",
            "Epoch 237/250\n",
            "20/20 [==============================] - 0s 2ms/step - loss: 0.4277 - accuracy: 0.7882\n",
            "Epoch 238/250\n",
            "20/20 [==============================] - 0s 2ms/step - loss: 0.4261 - accuracy: 0.7899\n",
            "Epoch 239/250\n",
            "20/20 [==============================] - 0s 2ms/step - loss: 0.4273 - accuracy: 0.7917\n",
            "Epoch 240/250\n",
            "20/20 [==============================] - 0s 2ms/step - loss: 0.4270 - accuracy: 0.7899\n",
            "Epoch 241/250\n",
            "20/20 [==============================] - 0s 2ms/step - loss: 0.4275 - accuracy: 0.7882\n",
            "Epoch 242/250\n",
            "20/20 [==============================] - 0s 2ms/step - loss: 0.4284 - accuracy: 0.7865\n",
            "Epoch 243/250\n",
            "20/20 [==============================] - 0s 2ms/step - loss: 0.4268 - accuracy: 0.7899\n",
            "Epoch 244/250\n",
            "20/20 [==============================] - 0s 2ms/step - loss: 0.4268 - accuracy: 0.7882\n",
            "Epoch 245/250\n",
            "20/20 [==============================] - 0s 2ms/step - loss: 0.4263 - accuracy: 0.7934\n",
            "Epoch 246/250\n",
            "20/20 [==============================] - 0s 2ms/step - loss: 0.4290 - accuracy: 0.7847\n",
            "Epoch 247/250\n",
            "20/20 [==============================] - 0s 2ms/step - loss: 0.4282 - accuracy: 0.7934\n",
            "Epoch 248/250\n",
            "20/20 [==============================] - 0s 2ms/step - loss: 0.4266 - accuracy: 0.7882\n",
            "Epoch 249/250\n",
            "20/20 [==============================] - 0s 2ms/step - loss: 0.4274 - accuracy: 0.7934\n",
            "Epoch 250/250\n",
            "20/20 [==============================] - 0s 2ms/step - loss: 0.4272 - accuracy: 0.7951\n"
          ],
          "name": "stdout"
        }
      ]
    },
    {
      "cell_type": "code",
      "metadata": {
        "id": "CEuN-WaI966N",
        "colab_type": "code",
        "colab": {}
      },
      "source": [
        "loss = history.history[\"loss\"]\n",
        "accuracy = history.history[\"accuracy\"]"
      ],
      "execution_count": 160,
      "outputs": []
    },
    {
      "cell_type": "code",
      "metadata": {
        "id": "yaisRcgoFJMF",
        "colab_type": "code",
        "colab": {}
      },
      "source": [
        ""
      ],
      "execution_count": 75,
      "outputs": []
    },
    {
      "cell_type": "code",
      "metadata": {
        "id": "OjfzFVvHEy9K",
        "colab_type": "code",
        "colab": {
          "base_uri": "https://localhost:8080/",
          "height": 71
        },
        "outputId": "fc972fe1-0173-46cf-c8c8-a01be6cd8489"
      },
      "source": [
        "import seaborn as sns"
      ],
      "execution_count": 65,
      "outputs": [
        {
          "output_type": "stream",
          "text": [
            "/usr/local/lib/python3.6/dist-packages/statsmodels/tools/_testing.py:19: FutureWarning: pandas.util.testing is deprecated. Use the functions in the public API at pandas.testing instead.\n",
            "  import pandas.util.testing as tm\n"
          ],
          "name": "stderr"
        }
      ]
    },
    {
      "cell_type": "code",
      "metadata": {
        "id": "xKXSnmpRE0Nr",
        "colab_type": "code",
        "colab": {
          "base_uri": "https://localhost:8080/",
          "height": 282
        },
        "outputId": "0e538c07-3bab-4a5f-bb4d-55f5637ad34c"
      },
      "source": [
        "sns.lineplot(list(range(1,len(loss)+1)),loss)"
      ],
      "execution_count": 156,
      "outputs": [
        {
          "output_type": "execute_result",
          "data": {
            "text/plain": [
              "<matplotlib.axes._subplots.AxesSubplot at 0x7f11afbee780>"
            ]
          },
          "metadata": {
            "tags": []
          },
          "execution_count": 156
        },
        {
          "output_type": "display_data",
          "data": {
            "image/png": "[encoded data removed]",
            "text/plain": [
              "<Figure size 432x288 with 1 Axes>"
            ]
          },
          "metadata": {
            "tags": [],
            "needs_background": "light"
          }
        }
      ]
    },
    {
      "cell_type": "code",
      "metadata": {
        "id": "QUD4hgbVFiqF",
        "colab_type": "code",
        "colab": {
          "base_uri": "https://localhost:8080/",
          "height": 282
        },
        "outputId": "52a81234-a3bc-4d2e-9323-1e7e9c7711f1"
      },
      "source": [
        "sns.lineplot(list(range(1,len(loss)+1)),accuracy)"
      ],
      "execution_count": 157,
      "outputs": [
        {
          "output_type": "execute_result",
          "data": {
            "text/plain": [
              "<matplotlib.axes._subplots.AxesSubplot at 0x7f11af364160>"
            ]
          },
          "metadata": {
            "tags": []
          },
          "execution_count": 157
        },
        {
          "output_type": "display_data",
          "data": {
            "image/png": "[encoded data removed]",
            "text/plain": [
              "<Figure size 432x288 with 1 Axes>"
            ]
          },
          "metadata": {
            "tags": [],
            "needs_background": "light"
          }
        }
      ]
    },
    {
      "cell_type": "code",
      "metadata": {
        "id": "WewxFdHA92WL",
        "colab_type": "code",
        "colab": {}
      },
      "source": [
        "pred = model.predict(X_test)"
      ],
      "execution_count": 158,
      "outputs": []
    },
    {
      "cell_type": "code",
      "metadata": {
        "id": "P7IxknovEbK0",
        "colab_type": "code",
        "colab": {}
      },
      "source": [
        "import numpy as np"
      ],
      "execution_count": 49,
      "outputs": []
    },
    {
      "cell_type": "code",
      "metadata": {
        "id": "U_JhC6pwEcpk",
        "colab_type": "code",
        "colab": {}
      },
      "source": [
        ""
      ],
      "execution_count": 94,
      "outputs": []
    },
    {
      "cell_type": "code",
      "metadata": {
        "id": "7ned2Fi7EQ6j",
        "colab_type": "code",
        "colab": {}
      },
      "source": [
        "from sklearn.metrics import accuracy_score"
      ],
      "execution_count": 46,
      "outputs": []
    },
    {
      "cell_type": "code",
      "metadata": {
        "id": "UMYlPp9JEWeE",
        "colab_type": "code",
        "colab": {
          "base_uri": "https://localhost:8080/",
          "height": 34
        },
        "outputId": "7a7036ed-3e9b-47d9-d0a0-3e636a79618b"
      },
      "source": [
        "accuracy_score(Y_test,np.round(pred))"
      ],
      "execution_count": 159,
      "outputs": [
        {
          "output_type": "execute_result",
          "data": {
            "text/plain": [
              "0.8072916666666666"
            ]
          },
          "metadata": {
            "tags": []
          },
          "execution_count": 159
        }
      ]
    },
    {
      "cell_type": "code",
      "metadata": {
        "id": "Csf5f_6Q86nR",
        "colab_type": "code",
        "colab": {}
      },
      "source": [
        ""
      ],
      "execution_count": 1,
      "outputs": []
    }
  ]
}