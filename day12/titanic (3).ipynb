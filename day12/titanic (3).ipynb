{
  "nbformat": 4,
  "nbformat_minor": 0,
  "metadata": {
    "colab": {
      "name": "titanic.ipynb",
      "provenance": []
    },
    "kernelspec": {
      "name": "python3",
      "display_name": "Python 3"
    },
    "accelerator": "GPU"
  },
  "cells": [
    {
      "cell_type": "markdown",
      "metadata": {
        "id": "mtYHz5Mai0gp",
        "colab_type": "text"
      },
      "source": [
        ""
      ]
    },
    {
      "cell_type": "code",
      "metadata": {
        "id": "zp64UnIcdU0C",
        "colab_type": "code",
        "colab": {}
      },
      "source": [
        "import pandas as pd"
      ],
      "execution_count": null,
      "outputs": []
    },
    {
      "cell_type": "code",
      "metadata": {
        "id": "Skqv-mrqjHFM",
        "colab_type": "code",
        "colab": {}
      },
      "source": [
        "df = pd.read_csv(\"/content/titanic.csv\")"
      ],
      "execution_count": null,
      "outputs": []
    },
    {
      "cell_type": "code",
      "metadata": {
        "id": "HLSF7XL3jEsn",
        "colab_type": "code",
        "colab": {
          "base_uri": "https://localhost:8080/",
          "height": 419
        },
        "outputId": "9e32e754-d3e6-46c3-8930-64b074856c27"
      },
      "source": [
        "df"
      ],
      "execution_count": null,
      "outputs": [
        {
          "output_type": "execute_result",
          "data": {
            "text/html": [
              "<div>\n",
              "<style scoped>\n",
              "    .dataframe tbody tr th:only-of-type {\n",
              "        vertical-align: middle;\n",
              "    }\n",
              "\n",
              "    .dataframe tbody tr th {\n",
              "        vertical-align: top;\n",
              "    }\n",
              "\n",
              "    .dataframe thead th {\n",
              "        text-align: right;\n",
              "    }\n",
              "</style>\n",
              "<table border=\"1\" class=\"dataframe\">\n",
              "  <thead>\n",
              "    <tr style=\"text-align: right;\">\n",
              "      <th></th>\n",
              "      <th>PassengerId</th>\n",
              "      <th>Survived</th>\n",
              "      <th>Pclass</th>\n",
              "      <th>Name</th>\n",
              "      <th>Sex</th>\n",
              "      <th>Age</th>\n",
              "      <th>SibSp</th>\n",
              "      <th>Parch</th>\n",
              "      <th>Ticket</th>\n",
              "      <th>Fare</th>\n",
              "      <th>Cabin</th>\n",
              "      <th>Embarked</th>\n",
              "    </tr>\n",
              "  </thead>\n",
              "  <tbody>\n",
              "    <tr>\n",
              "      <th>0</th>\n",
              "      <td>1</td>\n",
              "      <td>0</td>\n",
              "      <td>3</td>\n",
              "      <td>Braund, Mr. Owen Harris</td>\n",
              "      <td>male</td>\n",
              "      <td>22.0</td>\n",
              "      <td>1</td>\n",
              "      <td>0</td>\n",
              "      <td>A/5 21171</td>\n",
              "      <td>7.2500</td>\n",
              "      <td>NaN</td>\n",
              "      <td>S</td>\n",
              "    </tr>\n",
              "    <tr>\n",
              "      <th>1</th>\n",
              "      <td>2</td>\n",
              "      <td>1</td>\n",
              "      <td>1</td>\n",
              "      <td>Cumings, Mrs. John Bradley (Florence Briggs Th...</td>\n",
              "      <td>female</td>\n",
              "      <td>38.0</td>\n",
              "      <td>1</td>\n",
              "      <td>0</td>\n",
              "      <td>PC 17599</td>\n",
              "      <td>71.2833</td>\n",
              "      <td>C85</td>\n",
              "      <td>C</td>\n",
              "    </tr>\n",
              "    <tr>\n",
              "      <th>2</th>\n",
              "      <td>3</td>\n",
              "      <td>1</td>\n",
              "      <td>3</td>\n",
              "      <td>Heikkinen, Miss. Laina</td>\n",
              "      <td>female</td>\n",
              "      <td>26.0</td>\n",
              "      <td>0</td>\n",
              "      <td>0</td>\n",
              "      <td>STON/O2. 3101282</td>\n",
              "      <td>7.9250</td>\n",
              "      <td>NaN</td>\n",
              "      <td>S</td>\n",
              "    </tr>\n",
              "    <tr>\n",
              "      <th>3</th>\n",
              "      <td>4</td>\n",
              "      <td>1</td>\n",
              "      <td>1</td>\n",
              "      <td>Futrelle, Mrs. Jacques Heath (Lily May Peel)</td>\n",
              "      <td>female</td>\n",
              "      <td>35.0</td>\n",
              "      <td>1</td>\n",
              "      <td>0</td>\n",
              "      <td>113803</td>\n",
              "      <td>53.1000</td>\n",
              "      <td>C123</td>\n",
              "      <td>S</td>\n",
              "    </tr>\n",
              "    <tr>\n",
              "      <th>4</th>\n",
              "      <td>5</td>\n",
              "      <td>0</td>\n",
              "      <td>3</td>\n",
              "      <td>Allen, Mr. William Henry</td>\n",
              "      <td>male</td>\n",
              "      <td>35.0</td>\n",
              "      <td>0</td>\n",
              "      <td>0</td>\n",
              "      <td>373450</td>\n",
              "      <td>8.0500</td>\n",
              "      <td>NaN</td>\n",
              "      <td>S</td>\n",
              "    </tr>\n",
              "    <tr>\n",
              "      <th>...</th>\n",
              "      <td>...</td>\n",
              "      <td>...</td>\n",
              "      <td>...</td>\n",
              "      <td>...</td>\n",
              "      <td>...</td>\n",
              "      <td>...</td>\n",
              "      <td>...</td>\n",
              "      <td>...</td>\n",
              "      <td>...</td>\n",
              "      <td>...</td>\n",
              "      <td>...</td>\n",
              "      <td>...</td>\n",
              "    </tr>\n",
              "    <tr>\n",
              "      <th>886</th>\n",
              "      <td>887</td>\n",
              "      <td>0</td>\n",
              "      <td>2</td>\n",
              "      <td>Montvila, Rev. Juozas</td>\n",
              "      <td>male</td>\n",
              "      <td>27.0</td>\n",
              "      <td>0</td>\n",
              "      <td>0</td>\n",
              "      <td>211536</td>\n",
              "      <td>13.0000</td>\n",
              "      <td>NaN</td>\n",
              "      <td>S</td>\n",
              "    </tr>\n",
              "    <tr>\n",
              "      <th>887</th>\n",
              "      <td>888</td>\n",
              "      <td>1</td>\n",
              "      <td>1</td>\n",
              "      <td>Graham, Miss. Margaret Edith</td>\n",
              "      <td>female</td>\n",
              "      <td>19.0</td>\n",
              "      <td>0</td>\n",
              "      <td>0</td>\n",
              "      <td>112053</td>\n",
              "      <td>30.0000</td>\n",
              "      <td>B42</td>\n",
              "      <td>S</td>\n",
              "    </tr>\n",
              "    <tr>\n",
              "      <th>888</th>\n",
              "      <td>889</td>\n",
              "      <td>0</td>\n",
              "      <td>3</td>\n",
              "      <td>Johnston, Miss. Catherine Helen \"Carrie\"</td>\n",
              "      <td>female</td>\n",
              "      <td>NaN</td>\n",
              "      <td>1</td>\n",
              "      <td>2</td>\n",
              "      <td>W./C. 6607</td>\n",
              "      <td>23.4500</td>\n",
              "      <td>NaN</td>\n",
              "      <td>S</td>\n",
              "    </tr>\n",
              "    <tr>\n",
              "      <th>889</th>\n",
              "      <td>890</td>\n",
              "      <td>1</td>\n",
              "      <td>1</td>\n",
              "      <td>Behr, Mr. Karl Howell</td>\n",
              "      <td>male</td>\n",
              "      <td>26.0</td>\n",
              "      <td>0</td>\n",
              "      <td>0</td>\n",
              "      <td>111369</td>\n",
              "      <td>30.0000</td>\n",
              "      <td>C148</td>\n",
              "      <td>C</td>\n",
              "    </tr>\n",
              "    <tr>\n",
              "      <th>890</th>\n",
              "      <td>891</td>\n",
              "      <td>0</td>\n",
              "      <td>3</td>\n",
              "      <td>Dooley, Mr. Patrick</td>\n",
              "      <td>male</td>\n",
              "      <td>32.0</td>\n",
              "      <td>0</td>\n",
              "      <td>0</td>\n",
              "      <td>370376</td>\n",
              "      <td>7.7500</td>\n",
              "      <td>NaN</td>\n",
              "      <td>Q</td>\n",
              "    </tr>\n",
              "  </tbody>\n",
              "</table>\n",
              "<p>891 rows × 12 columns</p>\n",
              "</div>"
            ],
            "text/plain": [
              "     PassengerId  Survived  Pclass  ...     Fare Cabin  Embarked\n",
              "0              1         0       3  ...   7.2500   NaN         S\n",
              "1              2         1       1  ...  71.2833   C85         C\n",
              "2              3         1       3  ...   7.9250   NaN         S\n",
              "3              4         1       1  ...  53.1000  C123         S\n",
              "4              5         0       3  ...   8.0500   NaN         S\n",
              "..           ...       ...     ...  ...      ...   ...       ...\n",
              "886          887         0       2  ...  13.0000   NaN         S\n",
              "887          888         1       1  ...  30.0000   B42         S\n",
              "888          889         0       3  ...  23.4500   NaN         S\n",
              "889          890         1       1  ...  30.0000  C148         C\n",
              "890          891         0       3  ...   7.7500   NaN         Q\n",
              "\n",
              "[891 rows x 12 columns]"
            ]
          },
          "metadata": {
            "tags": []
          },
          "execution_count": 6
        }
      ]
    },
    {
      "cell_type": "code",
      "metadata": {
        "id": "X_kFfM90jllb",
        "colab_type": "code",
        "colab": {}
      },
      "source": [
        "df = df.drop([\"Name\",\"Ticket\"],axis=1) #[\"Name\",\"Ticket\"]"
      ],
      "execution_count": null,
      "outputs": []
    },
    {
      "cell_type": "code",
      "metadata": {
        "id": "WiTZRSIFlVS-",
        "colab_type": "code",
        "colab": {}
      },
      "source": [
        ""
      ],
      "execution_count": null,
      "outputs": []
    },
    {
      "cell_type": "code",
      "metadata": {
        "id": "-e_Mo2p9knsH",
        "colab_type": "code",
        "colab": {
          "base_uri": "https://localhost:8080/",
          "height": 204
        },
        "outputId": "1ddba45b-be35-41c3-8155-1901ef39596d"
      },
      "source": [
        "df.isna().any()"
      ],
      "execution_count": null,
      "outputs": [
        {
          "output_type": "execute_result",
          "data": {
            "text/plain": [
              "PassengerId    False\n",
              "Survived       False\n",
              "Pclass         False\n",
              "Sex            False\n",
              "Age             True\n",
              "SibSp          False\n",
              "Parch          False\n",
              "Fare           False\n",
              "Cabin           True\n",
              "Embarked        True\n",
              "dtype: bool"
            ]
          },
          "metadata": {
            "tags": []
          },
          "execution_count": 8
        }
      ]
    },
    {
      "cell_type": "code",
      "metadata": {
        "id": "dqDLpJ6HncD2",
        "colab_type": "code",
        "colab": {}
      },
      "source": [
        "mean_age = round(df[\"Age\"].mean())"
      ],
      "execution_count": null,
      "outputs": []
    },
    {
      "cell_type": "code",
      "metadata": {
        "id": "KgCefKBTpeFf",
        "colab_type": "code",
        "colab": {
          "base_uri": "https://localhost:8080/",
          "height": 34
        },
        "outputId": "b40a529b-f23f-462e-a5cb-bb7aa87075c7"
      },
      "source": [
        "mean_age"
      ],
      "execution_count": null,
      "outputs": [
        {
          "output_type": "execute_result",
          "data": {
            "text/plain": [
              "30"
            ]
          },
          "metadata": {
            "tags": []
          },
          "execution_count": 10
        }
      ]
    },
    {
      "cell_type": "code",
      "metadata": {
        "id": "E0ldQ8n9pTfe",
        "colab_type": "code",
        "colab": {
          "base_uri": "https://localhost:8080/",
          "height": 221
        },
        "outputId": "c15ff174-877c-483f-f160-c5efa446fe95"
      },
      "source": [
        "df[\"Age\"]"
      ],
      "execution_count": null,
      "outputs": [
        {
          "output_type": "execute_result",
          "data": {
            "text/plain": [
              "0      22.0\n",
              "1      38.0\n",
              "2      26.0\n",
              "3      35.0\n",
              "4      35.0\n",
              "       ... \n",
              "886    27.0\n",
              "887    19.0\n",
              "888     NaN\n",
              "889    26.0\n",
              "890    32.0\n",
              "Name: Age, Length: 891, dtype: float64"
            ]
          },
          "metadata": {
            "tags": []
          },
          "execution_count": 11
        }
      ]
    },
    {
      "cell_type": "markdown",
      "metadata": {
        "id": "pHbGwTKsxPhQ",
        "colab_type": "text"
      },
      "source": [
        ""
      ]
    },
    {
      "cell_type": "code",
      "metadata": {
        "id": "6y_W5DD2o-Vt",
        "colab_type": "code",
        "colab": {}
      },
      "source": [
        "df[\"Age\"].fillna(mean_age,inplace=True) #inplace=True"
      ],
      "execution_count": null,
      "outputs": []
    },
    {
      "cell_type": "code",
      "metadata": {
        "id": "QnWhqXS6pQbP",
        "colab_type": "code",
        "colab": {
          "base_uri": "https://localhost:8080/",
          "height": 204
        },
        "outputId": "c4ec1213-c2df-43b7-b7ef-ce80023966b9"
      },
      "source": [
        "df.isna().any()"
      ],
      "execution_count": null,
      "outputs": [
        {
          "output_type": "execute_result",
          "data": {
            "text/plain": [
              "PassengerId    False\n",
              "Survived       False\n",
              "Pclass         False\n",
              "Sex            False\n",
              "Age            False\n",
              "SibSp          False\n",
              "Parch          False\n",
              "Fare           False\n",
              "Cabin           True\n",
              "Embarked        True\n",
              "dtype: bool"
            ]
          },
          "metadata": {
            "tags": []
          },
          "execution_count": 13
        }
      ]
    },
    {
      "cell_type": "code",
      "metadata": {
        "id": "dTdabCJlqFpH",
        "colab_type": "code",
        "colab": {}
      },
      "source": [
        "df[\"Cabin\"].fillna(-1,inplace=True)"
      ],
      "execution_count": null,
      "outputs": []
    },
    {
      "cell_type": "code",
      "metadata": {
        "id": "JERm0-p6scNm",
        "colab_type": "code",
        "colab": {
          "base_uri": "https://localhost:8080/",
          "height": 238
        },
        "outputId": "47462db6-112f-4f1c-b159-aa2737ff525d"
      },
      "source": [
        "df[\"Cabin\"].astype(\"category\")"
      ],
      "execution_count": null,
      "outputs": [
        {
          "output_type": "execute_result",
          "data": {
            "text/plain": [
              "0        -1\n",
              "1       C85\n",
              "2        -1\n",
              "3      C123\n",
              "4        -1\n",
              "       ... \n",
              "886      -1\n",
              "887     B42\n",
              "888      -1\n",
              "889    C148\n",
              "890      -1\n",
              "Name: Cabin, Length: 891, dtype: category\n",
              "Categories (148, object): [-1, A10, A14, A16, ..., F38, F4, G6, T]"
            ]
          },
          "metadata": {
            "tags": []
          },
          "execution_count": 15
        }
      ]
    },
    {
      "cell_type": "code",
      "metadata": {
        "id": "FZDZxBYIrmsk",
        "colab_type": "code",
        "colab": {}
      },
      "source": [
        "df[\"Cabin\"] = df[\"Cabin\"].astype(\"category\")"
      ],
      "execution_count": null,
      "outputs": []
    },
    {
      "cell_type": "code",
      "metadata": {
        "id": "Uh9_P6rzuG-v",
        "colab_type": "code",
        "colab": {}
      },
      "source": [
        "#df[\"Cabin\"].cat.categories"
      ],
      "execution_count": null,
      "outputs": []
    },
    {
      "cell_type": "code",
      "metadata": {
        "id": "oa185s6bsUZA",
        "colab_type": "code",
        "colab": {}
      },
      "source": [
        "df[\"Cabin\"] = df[\"Cabin\"].cat.codes"
      ],
      "execution_count": null,
      "outputs": []
    },
    {
      "cell_type": "code",
      "metadata": {
        "id": "GjSj52vlvWLD",
        "colab_type": "code",
        "colab": {
          "base_uri": "https://localhost:8080/",
          "height": 85
        },
        "outputId": "579cab82-b1ee-435e-ed0e-31250302c706"
      },
      "source": [
        "df[df[\"Cabin\"]!=0][\"Cabin\"].mode()"
      ],
      "execution_count": null,
      "outputs": [
        {
          "output_type": "execute_result",
          "data": {
            "text/plain": [
              "0     48\n",
              "1     64\n",
              "2    146\n",
              "dtype: int16"
            ]
          },
          "metadata": {
            "tags": []
          },
          "execution_count": 18
        }
      ]
    },
    {
      "cell_type": "code",
      "metadata": {
        "id": "gX3ZFus8tp7g",
        "colab_type": "code",
        "colab": {}
      },
      "source": [
        "df[\"Cabin\"].replace({0:48},inplace=True)"
      ],
      "execution_count": null,
      "outputs": []
    },
    {
      "cell_type": "code",
      "metadata": {
        "id": "kwPjf0K5yeiW",
        "colab_type": "code",
        "colab": {
          "base_uri": "https://localhost:8080/",
          "height": 419
        },
        "outputId": "b7b9c143-5b2d-4d3c-fd6f-71ff8f1e7fd2"
      },
      "source": [
        "df"
      ],
      "execution_count": null,
      "outputs": [
        {
          "output_type": "execute_result",
          "data": {
            "text/html": [
              "<div>\n",
              "<style scoped>\n",
              "    .dataframe tbody tr th:only-of-type {\n",
              "        vertical-align: middle;\n",
              "    }\n",
              "\n",
              "    .dataframe tbody tr th {\n",
              "        vertical-align: top;\n",
              "    }\n",
              "\n",
              "    .dataframe thead th {\n",
              "        text-align: right;\n",
              "    }\n",
              "</style>\n",
              "<table border=\"1\" class=\"dataframe\">\n",
              "  <thead>\n",
              "    <tr style=\"text-align: right;\">\n",
              "      <th></th>\n",
              "      <th>PassengerId</th>\n",
              "      <th>Survived</th>\n",
              "      <th>Pclass</th>\n",
              "      <th>Sex</th>\n",
              "      <th>Age</th>\n",
              "      <th>SibSp</th>\n",
              "      <th>Parch</th>\n",
              "      <th>Fare</th>\n",
              "      <th>Cabin</th>\n",
              "      <th>Embarked</th>\n",
              "    </tr>\n",
              "  </thead>\n",
              "  <tbody>\n",
              "    <tr>\n",
              "      <th>0</th>\n",
              "      <td>1</td>\n",
              "      <td>0</td>\n",
              "      <td>3</td>\n",
              "      <td>male</td>\n",
              "      <td>22.0</td>\n",
              "      <td>1</td>\n",
              "      <td>0</td>\n",
              "      <td>7.2500</td>\n",
              "      <td>48</td>\n",
              "      <td>S</td>\n",
              "    </tr>\n",
              "    <tr>\n",
              "      <th>1</th>\n",
              "      <td>2</td>\n",
              "      <td>1</td>\n",
              "      <td>1</td>\n",
              "      <td>female</td>\n",
              "      <td>38.0</td>\n",
              "      <td>1</td>\n",
              "      <td>0</td>\n",
              "      <td>71.2833</td>\n",
              "      <td>82</td>\n",
              "      <td>C</td>\n",
              "    </tr>\n",
              "    <tr>\n",
              "      <th>2</th>\n",
              "      <td>3</td>\n",
              "      <td>1</td>\n",
              "      <td>3</td>\n",
              "      <td>female</td>\n",
              "      <td>26.0</td>\n",
              "      <td>0</td>\n",
              "      <td>0</td>\n",
              "      <td>7.9250</td>\n",
              "      <td>48</td>\n",
              "      <td>S</td>\n",
              "    </tr>\n",
              "    <tr>\n",
              "      <th>3</th>\n",
              "      <td>4</td>\n",
              "      <td>1</td>\n",
              "      <td>1</td>\n",
              "      <td>female</td>\n",
              "      <td>35.0</td>\n",
              "      <td>1</td>\n",
              "      <td>0</td>\n",
              "      <td>53.1000</td>\n",
              "      <td>56</td>\n",
              "      <td>S</td>\n",
              "    </tr>\n",
              "    <tr>\n",
              "      <th>4</th>\n",
              "      <td>5</td>\n",
              "      <td>0</td>\n",
              "      <td>3</td>\n",
              "      <td>male</td>\n",
              "      <td>35.0</td>\n",
              "      <td>0</td>\n",
              "      <td>0</td>\n",
              "      <td>8.0500</td>\n",
              "      <td>48</td>\n",
              "      <td>S</td>\n",
              "    </tr>\n",
              "    <tr>\n",
              "      <th>...</th>\n",
              "      <td>...</td>\n",
              "      <td>...</td>\n",
              "      <td>...</td>\n",
              "      <td>...</td>\n",
              "      <td>...</td>\n",
              "      <td>...</td>\n",
              "      <td>...</td>\n",
              "      <td>...</td>\n",
              "      <td>...</td>\n",
              "      <td>...</td>\n",
              "    </tr>\n",
              "    <tr>\n",
              "      <th>886</th>\n",
              "      <td>887</td>\n",
              "      <td>0</td>\n",
              "      <td>2</td>\n",
              "      <td>male</td>\n",
              "      <td>27.0</td>\n",
              "      <td>0</td>\n",
              "      <td>0</td>\n",
              "      <td>13.0000</td>\n",
              "      <td>48</td>\n",
              "      <td>S</td>\n",
              "    </tr>\n",
              "    <tr>\n",
              "      <th>887</th>\n",
              "      <td>888</td>\n",
              "      <td>1</td>\n",
              "      <td>1</td>\n",
              "      <td>female</td>\n",
              "      <td>19.0</td>\n",
              "      <td>0</td>\n",
              "      <td>0</td>\n",
              "      <td>30.0000</td>\n",
              "      <td>31</td>\n",
              "      <td>S</td>\n",
              "    </tr>\n",
              "    <tr>\n",
              "      <th>888</th>\n",
              "      <td>889</td>\n",
              "      <td>0</td>\n",
              "      <td>3</td>\n",
              "      <td>female</td>\n",
              "      <td>30.0</td>\n",
              "      <td>1</td>\n",
              "      <td>2</td>\n",
              "      <td>23.4500</td>\n",
              "      <td>48</td>\n",
              "      <td>S</td>\n",
              "    </tr>\n",
              "    <tr>\n",
              "      <th>889</th>\n",
              "      <td>890</td>\n",
              "      <td>1</td>\n",
              "      <td>1</td>\n",
              "      <td>male</td>\n",
              "      <td>26.0</td>\n",
              "      <td>0</td>\n",
              "      <td>0</td>\n",
              "      <td>30.0000</td>\n",
              "      <td>61</td>\n",
              "      <td>C</td>\n",
              "    </tr>\n",
              "    <tr>\n",
              "      <th>890</th>\n",
              "      <td>891</td>\n",
              "      <td>0</td>\n",
              "      <td>3</td>\n",
              "      <td>male</td>\n",
              "      <td>32.0</td>\n",
              "      <td>0</td>\n",
              "      <td>0</td>\n",
              "      <td>7.7500</td>\n",
              "      <td>48</td>\n",
              "      <td>Q</td>\n",
              "    </tr>\n",
              "  </tbody>\n",
              "</table>\n",
              "<p>891 rows × 10 columns</p>\n",
              "</div>"
            ],
            "text/plain": [
              "     PassengerId  Survived  Pclass     Sex  ...  Parch     Fare  Cabin  Embarked\n",
              "0              1         0       3    male  ...      0   7.2500     48         S\n",
              "1              2         1       1  female  ...      0  71.2833     82         C\n",
              "2              3         1       3  female  ...      0   7.9250     48         S\n",
              "3              4         1       1  female  ...      0  53.1000     56         S\n",
              "4              5         0       3    male  ...      0   8.0500     48         S\n",
              "..           ...       ...     ...     ...  ...    ...      ...    ...       ...\n",
              "886          887         0       2    male  ...      0  13.0000     48         S\n",
              "887          888         1       1  female  ...      0  30.0000     31         S\n",
              "888          889         0       3  female  ...      2  23.4500     48         S\n",
              "889          890         1       1    male  ...      0  30.0000     61         C\n",
              "890          891         0       3    male  ...      0   7.7500     48         Q\n",
              "\n",
              "[891 rows x 10 columns]"
            ]
          },
          "metadata": {
            "tags": []
          },
          "execution_count": 21
        }
      ]
    },
    {
      "cell_type": "code",
      "metadata": {
        "id": "5MAVeeIt0V86",
        "colab_type": "code",
        "colab": {
          "base_uri": "https://localhost:8080/",
          "height": 35
        },
        "outputId": "b75097c3-7272-4218-f2d3-16ea1163f519"
      },
      "source": [
        "df[\"Embarked\"].mode()[0]"
      ],
      "execution_count": null,
      "outputs": [
        {
          "output_type": "execute_result",
          "data": {
            "application/vnd.google.colaboratory.intrinsic+json": {
              "type": "string"
            },
            "text/plain": [
              "'S'"
            ]
          },
          "metadata": {
            "tags": []
          },
          "execution_count": 20
        }
      ]
    },
    {
      "cell_type": "code",
      "metadata": {
        "id": "1NRJTEcOzIMC",
        "colab_type": "code",
        "colab": {}
      },
      "source": [
        "df[\"Embarked\"].fillna(df[\"Embarked\"].mode()[0],inplace=True)"
      ],
      "execution_count": null,
      "outputs": []
    },
    {
      "cell_type": "code",
      "metadata": {
        "id": "tuqTN7JD0pMP",
        "colab_type": "code",
        "colab": {
          "base_uri": "https://localhost:8080/",
          "height": 204
        },
        "outputId": "651afc89-8cdd-43cd-9074-ce9f7adeda79"
      },
      "source": [
        "df.isna().any()"
      ],
      "execution_count": null,
      "outputs": [
        {
          "output_type": "execute_result",
          "data": {
            "text/plain": [
              "PassengerId    False\n",
              "Survived       False\n",
              "Pclass         False\n",
              "Sex            False\n",
              "Age            False\n",
              "SibSp          False\n",
              "Parch          False\n",
              "Fare           False\n",
              "Cabin          False\n",
              "Embarked       False\n",
              "dtype: bool"
            ]
          },
          "metadata": {
            "tags": []
          },
          "execution_count": 22
        }
      ]
    },
    {
      "cell_type": "code",
      "metadata": {
        "id": "tobpTG2MzhZ3",
        "colab_type": "code",
        "colab": {}
      },
      "source": [
        "df[\"Embarked\"] = df[\"Embarked\"].astype(\"category\")"
      ],
      "execution_count": null,
      "outputs": []
    },
    {
      "cell_type": "code",
      "metadata": {
        "id": "4xDvfsoL1Dmo",
        "colab_type": "code",
        "colab": {}
      },
      "source": [
        "df[\"Embarked\"] = df[\"Embarked\"].cat.codes"
      ],
      "execution_count": null,
      "outputs": []
    },
    {
      "cell_type": "code",
      "metadata": {
        "id": "Lk1JyUTA1LDK",
        "colab_type": "code",
        "colab": {}
      },
      "source": [
        "df[\"Sex\"].replace({\"male\":0,\"female\" : 1},inplace=True)"
      ],
      "execution_count": null,
      "outputs": []
    },
    {
      "cell_type": "code",
      "metadata": {
        "id": "5wnYaS871W7i",
        "colab_type": "code",
        "colab": {}
      },
      "source": [
        "df.drop([\"PassengerId\"],axis=1,inplace=True)"
      ],
      "execution_count": null,
      "outputs": []
    },
    {
      "cell_type": "code",
      "metadata": {
        "id": "XBh4e1oFzSXC",
        "colab_type": "code",
        "colab": {}
      },
      "source": [
        ""
      ],
      "execution_count": null,
      "outputs": []
    },
    {
      "cell_type": "code",
      "metadata": {
        "id": "phGaupQW1pUp",
        "colab_type": "code",
        "colab": {}
      },
      "source": [
        "x = df.drop(\"Survived\",axis=1)"
      ],
      "execution_count": null,
      "outputs": []
    },
    {
      "cell_type": "code",
      "metadata": {
        "id": "LVl6aaRw3shc",
        "colab_type": "code",
        "colab": {
          "base_uri": "https://localhost:8080/",
          "height": 328
        },
        "outputId": "3429c10a-1d87-412e-d850-7a907cf927fa"
      },
      "source": [
        "df.corr()"
      ],
      "execution_count": null,
      "outputs": [
        {
          "output_type": "execute_result",
          "data": {
            "text/html": [
              "<div>\n",
              "<style scoped>\n",
              "    .dataframe tbody tr th:only-of-type {\n",
              "        vertical-align: middle;\n",
              "    }\n",
              "\n",
              "    .dataframe tbody tr th {\n",
              "        vertical-align: top;\n",
              "    }\n",
              "\n",
              "    .dataframe thead th {\n",
              "        text-align: right;\n",
              "    }\n",
              "</style>\n",
              "<table border=\"1\" class=\"dataframe\">\n",
              "  <thead>\n",
              "    <tr style=\"text-align: right;\">\n",
              "      <th></th>\n",
              "      <th>Survived</th>\n",
              "      <th>Pclass</th>\n",
              "      <th>Sex</th>\n",
              "      <th>Age</th>\n",
              "      <th>SibSp</th>\n",
              "      <th>Parch</th>\n",
              "      <th>Fare</th>\n",
              "      <th>Cabin</th>\n",
              "      <th>Embarked</th>\n",
              "    </tr>\n",
              "  </thead>\n",
              "  <tbody>\n",
              "    <tr>\n",
              "      <th>Survived</th>\n",
              "      <td>1.000000</td>\n",
              "      <td>-0.338481</td>\n",
              "      <td>0.543351</td>\n",
              "      <td>-0.070657</td>\n",
              "      <td>-0.035322</td>\n",
              "      <td>0.081629</td>\n",
              "      <td>0.257307</td>\n",
              "      <td>0.175690</td>\n",
              "      <td>-0.167675</td>\n",
              "    </tr>\n",
              "    <tr>\n",
              "      <th>Pclass</th>\n",
              "      <td>-0.338481</td>\n",
              "      <td>1.000000</td>\n",
              "      <td>-0.131900</td>\n",
              "      <td>-0.329727</td>\n",
              "      <td>0.083081</td>\n",
              "      <td>0.018443</td>\n",
              "      <td>-0.549500</td>\n",
              "      <td>-0.248495</td>\n",
              "      <td>0.162098</td>\n",
              "    </tr>\n",
              "    <tr>\n",
              "      <th>Sex</th>\n",
              "      <td>0.543351</td>\n",
              "      <td>-0.131900</td>\n",
              "      <td>1.000000</td>\n",
              "      <td>-0.084660</td>\n",
              "      <td>0.114631</td>\n",
              "      <td>0.245489</td>\n",
              "      <td>0.182333</td>\n",
              "      <td>0.102643</td>\n",
              "      <td>-0.108262</td>\n",
              "    </tr>\n",
              "    <tr>\n",
              "      <th>Age</th>\n",
              "      <td>-0.070657</td>\n",
              "      <td>-0.329727</td>\n",
              "      <td>-0.084660</td>\n",
              "      <td>1.000000</td>\n",
              "      <td>-0.232440</td>\n",
              "      <td>-0.180330</td>\n",
              "      <td>0.090632</td>\n",
              "      <td>0.055193</td>\n",
              "      <td>-0.028159</td>\n",
              "    </tr>\n",
              "    <tr>\n",
              "      <th>SibSp</th>\n",
              "      <td>-0.035322</td>\n",
              "      <td>0.083081</td>\n",
              "      <td>0.114631</td>\n",
              "      <td>-0.232440</td>\n",
              "      <td>1.000000</td>\n",
              "      <td>0.414838</td>\n",
              "      <td>0.159651</td>\n",
              "      <td>-0.005539</td>\n",
              "      <td>0.068230</td>\n",
              "    </tr>\n",
              "    <tr>\n",
              "      <th>Parch</th>\n",
              "      <td>0.081629</td>\n",
              "      <td>0.018443</td>\n",
              "      <td>0.245489</td>\n",
              "      <td>-0.180330</td>\n",
              "      <td>0.414838</td>\n",
              "      <td>1.000000</td>\n",
              "      <td>0.216225</td>\n",
              "      <td>0.022682</td>\n",
              "      <td>0.039798</td>\n",
              "    </tr>\n",
              "    <tr>\n",
              "      <th>Fare</th>\n",
              "      <td>0.257307</td>\n",
              "      <td>-0.549500</td>\n",
              "      <td>0.182333</td>\n",
              "      <td>0.090632</td>\n",
              "      <td>0.159651</td>\n",
              "      <td>0.216225</td>\n",
              "      <td>1.000000</td>\n",
              "      <td>0.090516</td>\n",
              "      <td>-0.224719</td>\n",
              "    </tr>\n",
              "    <tr>\n",
              "      <th>Cabin</th>\n",
              "      <td>0.175690</td>\n",
              "      <td>-0.248495</td>\n",
              "      <td>0.102643</td>\n",
              "      <td>0.055193</td>\n",
              "      <td>-0.005539</td>\n",
              "      <td>0.022682</td>\n",
              "      <td>0.090516</td>\n",
              "      <td>1.000000</td>\n",
              "      <td>0.023804</td>\n",
              "    </tr>\n",
              "    <tr>\n",
              "      <th>Embarked</th>\n",
              "      <td>-0.167675</td>\n",
              "      <td>0.162098</td>\n",
              "      <td>-0.108262</td>\n",
              "      <td>-0.028159</td>\n",
              "      <td>0.068230</td>\n",
              "      <td>0.039798</td>\n",
              "      <td>-0.224719</td>\n",
              "      <td>0.023804</td>\n",
              "      <td>1.000000</td>\n",
              "    </tr>\n",
              "  </tbody>\n",
              "</table>\n",
              "</div>"
            ],
            "text/plain": [
              "          Survived    Pclass       Sex  ...      Fare     Cabin  Embarked\n",
              "Survived  1.000000 -0.338481  0.543351  ...  0.257307  0.175690 -0.167675\n",
              "Pclass   -0.338481  1.000000 -0.131900  ... -0.549500 -0.248495  0.162098\n",
              "Sex       0.543351 -0.131900  1.000000  ...  0.182333  0.102643 -0.108262\n",
              "Age      -0.070657 -0.329727 -0.084660  ...  0.090632  0.055193 -0.028159\n",
              "SibSp    -0.035322  0.083081  0.114631  ...  0.159651 -0.005539  0.068230\n",
              "Parch     0.081629  0.018443  0.245489  ...  0.216225  0.022682  0.039798\n",
              "Fare      0.257307 -0.549500  0.182333  ...  1.000000  0.090516 -0.224719\n",
              "Cabin     0.175690 -0.248495  0.102643  ...  0.090516  1.000000  0.023804\n",
              "Embarked -0.167675  0.162098 -0.108262  ... -0.224719  0.023804  1.000000\n",
              "\n",
              "[9 rows x 9 columns]"
            ]
          },
          "metadata": {
            "tags": []
          },
          "execution_count": 79
        }
      ]
    },
    {
      "cell_type": "code",
      "metadata": {
        "id": "Uq6MrVON1w7V",
        "colab_type": "code",
        "colab": {}
      },
      "source": [
        "y = df[\"Survived\"]"
      ],
      "execution_count": null,
      "outputs": []
    },
    {
      "cell_type": "code",
      "metadata": {
        "id": "FUsHj1NI1dK8",
        "colab_type": "code",
        "colab": {}
      },
      "source": [
        "from sklearn.model_selection import train_test_split"
      ],
      "execution_count": null,
      "outputs": []
    },
    {
      "cell_type": "code",
      "metadata": {
        "id": "I701QmnpyPp3",
        "colab_type": "code",
        "colab": {}
      },
      "source": [
        "X_train,X_test,Y_train,Y_test = train_test_split(x,y,test_size=0.25 ,random_state=2)"
      ],
      "execution_count": null,
      "outputs": []
    },
    {
      "cell_type": "code",
      "metadata": {
        "id": "8dk_S8C5ykLC",
        "colab_type": "code",
        "colab": {}
      },
      "source": [
        "from sklearn.linear_model import LogisticRegression"
      ],
      "execution_count": null,
      "outputs": []
    },
    {
      "cell_type": "code",
      "metadata": {
        "id": "CLkxnOeOy3PS",
        "colab_type": "code",
        "colab": {}
      },
      "source": [
        "lr = LogisticRegression()"
      ],
      "execution_count": null,
      "outputs": []
    },
    {
      "cell_type": "code",
      "metadata": {
        "id": "KMCYbty2y4yB",
        "colab_type": "code",
        "colab": {
          "base_uri": "https://localhost:8080/",
          "height": 238
        },
        "outputId": "9acb0774-1b58-405b-8c32-807021c0e205"
      },
      "source": [
        "lr.fit(X_train,Y_train)"
      ],
      "execution_count": null,
      "outputs": [
        {
          "output_type": "stream",
          "text": [
            "/usr/local/lib/python3.6/dist-packages/sklearn/linear_model/_logistic.py:940: ConvergenceWarning: lbfgs failed to converge (status=1):\n",
            "STOP: TOTAL NO. of ITERATIONS REACHED LIMIT.\n",
            "\n",
            "Increase the number of iterations (max_iter) or scale the data as shown in:\n",
            "    https://scikit-learn.org/stable/modules/preprocessing.html\n",
            "Please also refer to the documentation for alternative solver options:\n",
            "    https://scikit-learn.org/stable/modules/linear_model.html#logistic-regression\n",
            "  extra_warning_msg=_LOGISTIC_SOLVER_CONVERGENCE_MSG)\n"
          ],
          "name": "stderr"
        },
        {
          "output_type": "execute_result",
          "data": {
            "text/plain": [
              "LogisticRegression(C=1.0, class_weight=None, dual=False, fit_intercept=True,\n",
              "                   intercept_scaling=1, l1_ratio=None, max_iter=100,\n",
              "                   multi_class='auto', n_jobs=None, penalty='l2',\n",
              "                   random_state=None, solver='lbfgs', tol=0.0001, verbose=0,\n",
              "                   warm_start=False)"
            ]
          },
          "metadata": {
            "tags": []
          },
          "execution_count": 68
        }
      ]
    },
    {
      "cell_type": "code",
      "metadata": {
        "id": "b1GaqJMw0HPn",
        "colab_type": "code",
        "colab": {}
      },
      "source": [
        "#lr.predict(X_test)"
      ],
      "execution_count": null,
      "outputs": []
    },
    {
      "cell_type": "code",
      "metadata": {
        "id": "-FBjKfOny7KZ",
        "colab_type": "code",
        "colab": {
          "base_uri": "https://localhost:8080/",
          "height": 34
        },
        "outputId": "f760379c-e57b-48dd-811c-3a3ed4c392e9"
      },
      "source": [
        "lr.score(X_test,Y_test)"
      ],
      "execution_count": null,
      "outputs": [
        {
          "output_type": "execute_result",
          "data": {
            "text/plain": [
              "0.8026905829596412"
            ]
          },
          "metadata": {
            "tags": []
          },
          "execution_count": 59
        }
      ]
    },
    {
      "cell_type": "code",
      "metadata": {
        "id": "OuHH-kfAzZo-",
        "colab_type": "code",
        "colab": {}
      },
      "source": [
        "from sklearn.neighbors import KNeighborsClassifier"
      ],
      "execution_count": null,
      "outputs": []
    },
    {
      "cell_type": "code",
      "metadata": {
        "id": "b6uwoTXozgEo",
        "colab_type": "code",
        "colab": {}
      },
      "source": [
        "knn = KNeighborsClassifier(n_neighbors=21)"
      ],
      "execution_count": null,
      "outputs": []
    },
    {
      "cell_type": "code",
      "metadata": {
        "id": "s6n84rSHzh9U",
        "colab_type": "code",
        "colab": {
          "base_uri": "https://localhost:8080/",
          "height": 68
        },
        "outputId": "a6c63d68-6c4f-4195-ca33-3248f9d9e28c"
      },
      "source": [
        "knn.fit(X_train,Y_train)"
      ],
      "execution_count": null,
      "outputs": [
        {
          "output_type": "execute_result",
          "data": {
            "text/plain": [
              "KNeighborsClassifier(algorithm='auto', leaf_size=30, metric='minkowski',\n",
              "                     metric_params=None, n_jobs=None, n_neighbors=21, p=2,\n",
              "                     weights='uniform')"
            ]
          },
          "metadata": {
            "tags": []
          },
          "execution_count": 71
        }
      ]
    },
    {
      "cell_type": "code",
      "metadata": {
        "id": "APMJ0yKhzkwy",
        "colab_type": "code",
        "colab": {
          "base_uri": "https://localhost:8080/",
          "height": 34
        },
        "outputId": "c17d2ae7-cf25-4e19-a21f-c5fb119cba3f"
      },
      "source": [
        "knn.score(X_test,Y_test)"
      ],
      "execution_count": null,
      "outputs": [
        {
          "output_type": "execute_result",
          "data": {
            "text/plain": [
              "0.7309417040358744"
            ]
          },
          "metadata": {
            "tags": []
          },
          "execution_count": 72
        }
      ]
    },
    {
      "cell_type": "code",
      "metadata": {
        "id": "gINUlLcNzn8Y",
        "colab_type": "code",
        "colab": {}
      },
      "source": [
        "from sklearn.metrics import confusion_matrix"
      ],
      "execution_count": null,
      "outputs": []
    },
    {
      "cell_type": "code",
      "metadata": {
        "id": "OrGbubhc0qcr",
        "colab_type": "code",
        "colab": {}
      },
      "source": [
        "y_pred = lr.predict(X_test)"
      ],
      "execution_count": null,
      "outputs": []
    },
    {
      "cell_type": "code",
      "metadata": {
        "id": "swVT99_e0sdi",
        "colab_type": "code",
        "colab": {}
      },
      "source": [
        ""
      ],
      "execution_count": null,
      "outputs": []
    },
    {
      "cell_type": "code",
      "metadata": {
        "id": "GfuFyLTu0iDq",
        "colab_type": "code",
        "colab": {
          "base_uri": "https://localhost:8080/",
          "height": 51
        },
        "outputId": "2e3e643e-1fe4-4551-d4f6-2132ac5be4a8"
      },
      "source": [
        "confusion_matrix(Y_test,y_pred)"
      ],
      "execution_count": null,
      "outputs": [
        {
          "output_type": "execute_result",
          "data": {
            "text/plain": [
              "array([[117,  14],\n",
              "       [ 30,  62]])"
            ]
          },
          "metadata": {
            "tags": []
          },
          "execution_count": 78
        }
      ]
    },
    {
      "cell_type": "code",
      "metadata": {
        "id": "BpZNYiqo0Zg-",
        "colab_type": "code",
        "colab": {
          "base_uri": "https://localhost:8080/",
          "height": 1000
        },
        "outputId": "655444a0-568c-450a-cfbf-a9ebccbd666f"
      },
      "source": [
        "help(confusion_matrix)"
      ],
      "execution_count": null,
      "outputs": [
        {
          "output_type": "stream",
          "text": [
            "Help on function confusion_matrix in module sklearn.metrics._classification:\n",
            "\n",
            "confusion_matrix(y_true, y_pred, labels=None, sample_weight=None, normalize=None)\n",
            "    Compute confusion matrix to evaluate the accuracy of a classification.\n",
            "    \n",
            "    By definition a confusion matrix :math:`C` is such that :math:`C_{i, j}`\n",
            "    is equal to the number of observations known to be in group :math:`i` and\n",
            "    predicted to be in group :math:`j`.\n",
            "    \n",
            "    Thus in binary classification, the count of true negatives is\n",
            "    :math:`C_{0,0}`, false negatives is :math:`C_{1,0}`, true positives is\n",
            "    :math:`C_{1,1}` and false positives is :math:`C_{0,1}`.\n",
            "    \n",
            "    Read more in the :ref:`User Guide <confusion_matrix>`.\n",
            "    \n",
            "    Parameters\n",
            "    ----------\n",
            "    y_true : array-like of shape (n_samples,)\n",
            "        Ground truth (correct) target values.\n",
            "    \n",
            "    y_pred : array-like of shape (n_samples,)\n",
            "        Estimated targets as returned by a classifier.\n",
            "    \n",
            "    labels : array-like of shape (n_classes), default=None\n",
            "        List of labels to index the matrix. This may be used to reorder\n",
            "        or select a subset of labels.\n",
            "        If ``None`` is given, those that appear at least once\n",
            "        in ``y_true`` or ``y_pred`` are used in sorted order.\n",
            "    \n",
            "    sample_weight : array-like of shape (n_samples,), default=None\n",
            "        Sample weights.\n",
            "    \n",
            "    normalize : {'true', 'pred', 'all'}, default=None\n",
            "        Normalizes confusion matrix over the true (rows), predicted (columns)\n",
            "        conditions or all the population. If None, confusion matrix will not be\n",
            "        normalized.\n",
            "    \n",
            "    Returns\n",
            "    -------\n",
            "    C : ndarray of shape (n_classes, n_classes)\n",
            "        Confusion matrix.\n",
            "    \n",
            "    References\n",
            "    ----------\n",
            "    .. [1] `Wikipedia entry for the Confusion matrix\n",
            "           <https://en.wikipedia.org/wiki/Confusion_matrix>`_\n",
            "           (Wikipedia and other references may use a different\n",
            "           convention for axes)\n",
            "    \n",
            "    Examples\n",
            "    --------\n",
            "    >>> from sklearn.metrics import confusion_matrix\n",
            "    >>> y_true = [2, 0, 2, 2, 0, 1]\n",
            "    >>> y_pred = [0, 0, 2, 2, 0, 2]\n",
            "    >>> confusion_matrix(y_true, y_pred)\n",
            "    array([[2, 0, 0],\n",
            "           [0, 0, 1],\n",
            "           [1, 0, 2]])\n",
            "    \n",
            "    >>> y_true = [\"cat\", \"ant\", \"cat\", \"cat\", \"ant\", \"bird\"]\n",
            "    >>> y_pred = [\"ant\", \"ant\", \"cat\", \"cat\", \"ant\", \"cat\"]\n",
            "    >>> confusion_matrix(y_true, y_pred, labels=[\"ant\", \"bird\", \"cat\"])\n",
            "    array([[2, 0, 0],\n",
            "           [0, 0, 1],\n",
            "           [1, 0, 2]])\n",
            "    \n",
            "    In the binary case, we can extract true positives, etc as follows:\n",
            "    \n",
            "    >>> tn, fp, fn, tp = confusion_matrix([0, 1, 0, 1], [1, 1, 1, 0]).ravel()\n",
            "    >>> (tn, fp, fn, tp)\n",
            "    (0, 2, 1, 1)\n",
            "\n"
          ],
          "name": "stdout"
        }
      ]
    },
    {
      "cell_type": "code",
      "metadata": {
        "id": "95PUtcyuzBVN",
        "colab_type": "code",
        "colab": {}
      },
      "source": [
        "from keras.models import Sequential\n",
        "from keras.layers import Dense"
      ],
      "execution_count": null,
      "outputs": []
    },
    {
      "cell_type": "code",
      "metadata": {
        "id": "NBQ4_azfDshZ",
        "colab_type": "code",
        "colab": {}
      },
      "source": [
        "from sklearn.preprocessing import MinMaxScaler"
      ],
      "execution_count": null,
      "outputs": []
    },
    {
      "cell_type": "code",
      "metadata": {
        "id": "4bp12vo6JJeT",
        "colab_type": "code",
        "colab": {}
      },
      "source": [
        "scaler = MinMaxScaler()"
      ],
      "execution_count": null,
      "outputs": []
    },
    {
      "cell_type": "code",
      "metadata": {
        "id": "64GByc0SJKt1",
        "colab_type": "code",
        "colab": {}
      },
      "source": [
        "X_train = scaler.fit_transform(X_train)"
      ],
      "execution_count": null,
      "outputs": []
    },
    {
      "cell_type": "code",
      "metadata": {
        "id": "GQTpVcR5JOdb",
        "colab_type": "code",
        "colab": {}
      },
      "source": [
        "X_test = scaler.transform(X_test)"
      ],
      "execution_count": null,
      "outputs": []
    },
    {
      "cell_type": "code",
      "metadata": {
        "id": "zRCi_0jvE_xw",
        "colab_type": "code",
        "colab": {}
      },
      "source": [
        "X_train"
      ],
      "execution_count": null,
      "outputs": []
    },
    {
      "cell_type": "code",
      "metadata": {
        "id": "ChqCMyMMDuYe",
        "colab_type": "code",
        "colab": {
          "base_uri": "https://localhost:8080/",
          "height": 34
        },
        "outputId": "6f223eb8-3b18-4d36-c73d-33d52d84143f"
      },
      "source": [
        "len(x.columns)"
      ],
      "execution_count": null,
      "outputs": [
        {
          "output_type": "execute_result",
          "data": {
            "text/plain": [
              "8"
            ]
          },
          "metadata": {
            "tags": []
          },
          "execution_count": 59
        }
      ]
    },
    {
      "cell_type": "code",
      "metadata": {
        "id": "C6ObOR4jGuUA",
        "colab_type": "code",
        "colab": {
          "base_uri": "https://localhost:8080/",
          "height": 34
        },
        "outputId": "f54f695f-c0be-4e7d-8ad0-148ee2e4fe09"
      },
      "source": [
        "x.shape"
      ],
      "execution_count": null,
      "outputs": [
        {
          "output_type": "execute_result",
          "data": {
            "text/plain": [
              "(891, 8)"
            ]
          },
          "metadata": {
            "tags": []
          },
          "execution_count": 60
        }
      ]
    },
    {
      "cell_type": "code",
      "metadata": {
        "id": "cxQ83JnvDomL",
        "colab_type": "code",
        "colab": {}
      },
      "source": [
        "model = Sequential()\n",
        "model.add(Dense(8,kernel_initializer=\"uniform\",input_dim = x.shape[1] ,activation=\"relu\"))\n",
        "model.add(Dense(36,activation=\"relu\"))\n",
        "model.add(Dense(1,activation=\"sigmoid\"))"
      ],
      "execution_count": null,
      "outputs": []
    },
    {
      "cell_type": "code",
      "metadata": {
        "id": "9VRyfkhuEEe6",
        "colab_type": "code",
        "colab": {}
      },
      "source": [
        "import tensorflow as tf"
      ],
      "execution_count": null,
      "outputs": []
    },
    {
      "cell_type": "code",
      "metadata": {
        "id": "jwBLvdW6EkjI",
        "colab_type": "code",
        "colab": {}
      },
      "source": [
        "model.compile(loss=\"binary_crossentropy\",optimizer=\"adam\",metrics = ['accuracy'])"
      ],
      "execution_count": null,
      "outputs": []
    },
    {
      "cell_type": "code",
      "metadata": {
        "id": "r1jyewwfFliy",
        "colab_type": "code",
        "colab": {}
      },
      "source": [
        "import numpy as np"
      ],
      "execution_count": null,
      "outputs": []
    },
    {
      "cell_type": "code",
      "metadata": {
        "id": "RejX5gmXHxss",
        "colab_type": "code",
        "colab": {
          "base_uri": "https://localhost:8080/",
          "height": 34
        },
        "outputId": "eb16dd11-15be-4b0d-fb0e-a7a0fdb22f78"
      },
      "source": [
        "tf.test.is_gpu_available(\n",
        "    cuda_only=False, min_cuda_compute_capability=None\n",
        ")"
      ],
      "execution_count": null,
      "outputs": [
        {
          "output_type": "execute_result",
          "data": {
            "text/plain": [
              "True"
            ]
          },
          "metadata": {
            "tags": []
          },
          "execution_count": 3
        }
      ]
    },
    {
      "cell_type": "code",
      "metadata": {
        "id": "NdZNpJqcSBq4",
        "colab_type": "code",
        "colab": {
          "base_uri": "https://localhost:8080/",
          "height": 34
        },
        "outputId": "04e7da28-5c8d-47ce-a8fb-b6fac08c0bcf"
      },
      "source": [
        "tf.config.list_physical_devices('GPU')"
      ],
      "execution_count": null,
      "outputs": [
        {
          "output_type": "execute_result",
          "data": {
            "text/plain": [
              "[PhysicalDevice(name='/physical_device:GPU:0', device_type='GPU')]"
            ]
          },
          "metadata": {
            "tags": []
          },
          "execution_count": 4
        }
      ]
    },
    {
      "cell_type": "code",
      "metadata": {
        "id": "hR2CZNGYSB7d",
        "colab_type": "code",
        "colab": {}
      },
      "source": [
        ""
      ],
      "execution_count": null,
      "outputs": []
    },
    {
      "cell_type": "code",
      "metadata": {
        "id": "gnay3QMKR5Wn",
        "colab_type": "code",
        "colab": {}
      },
      "source": [
        ""
      ],
      "execution_count": null,
      "outputs": []
    },
    {
      "cell_type": "code",
      "metadata": {
        "id": "KbBj7CxkEcOW",
        "colab_type": "code",
        "colab": {
          "base_uri": "https://localhost:8080/",
          "height": 1000
        },
        "outputId": "df4501d9-a3ce-4014-f72e-3cbde9bb7e02"
      },
      "source": [
        "model.fit(X_train,Y_train,epochs=150,batch_size=32)"
      ],
      "execution_count": null,
      "outputs": [
        {
          "output_type": "stream",
          "text": [
            "Epoch 1/150\n",
            "21/21 [==============================] - 0s 1ms/step - loss: 0.6932 - accuracy: 0.5853\n",
            "Epoch 2/150\n",
            "21/21 [==============================] - 0s 1ms/step - loss: 0.6932 - accuracy: 0.5090\n",
            "Epoch 3/150\n",
            "21/21 [==============================] - 0s 1ms/step - loss: 0.6932 - accuracy: 0.5135\n",
            "Epoch 4/150\n",
            "21/21 [==============================] - 0s 1ms/step - loss: 0.6931 - accuracy: 0.4910\n",
            "Epoch 5/150\n",
            "21/21 [==============================] - 0s 1ms/step - loss: 0.6931 - accuracy: 0.5105\n",
            "Epoch 6/150\n",
            "21/21 [==============================] - 0s 1ms/step - loss: 0.6931 - accuracy: 0.4566\n",
            "Epoch 7/150\n",
            "21/21 [==============================] - 0s 2ms/step - loss: 0.6931 - accuracy: 0.4281\n",
            "Epoch 8/150\n",
            "21/21 [==============================] - 0s 1ms/step - loss: 0.6931 - accuracy: 0.4805\n",
            "Epoch 9/150\n",
            "21/21 [==============================] - 0s 1ms/step - loss: 0.6931 - accuracy: 0.4955\n",
            "Epoch 10/150\n",
            "21/21 [==============================] - 0s 1ms/step - loss: 0.6931 - accuracy: 0.4850\n",
            "Epoch 11/150\n",
            "21/21 [==============================] - 0s 1ms/step - loss: 0.6931 - accuracy: 0.5150\n",
            "Epoch 12/150\n",
            "21/21 [==============================] - 0s 1ms/step - loss: 0.6931 - accuracy: 0.5015\n",
            "Epoch 13/150\n",
            "21/21 [==============================] - 0s 1ms/step - loss: 0.6931 - accuracy: 0.5075\n",
            "Epoch 14/150\n",
            "21/21 [==============================] - 0s 1ms/step - loss: 0.6931 - accuracy: 0.4701\n",
            "Epoch 15/150\n",
            "21/21 [==============================] - 0s 1ms/step - loss: 0.6931 - accuracy: 0.5165\n",
            "Epoch 16/150\n",
            "21/21 [==============================] - 0s 1ms/step - loss: 0.6931 - accuracy: 0.4775\n",
            "Epoch 17/150\n",
            "21/21 [==============================] - 0s 1ms/step - loss: 0.6931 - accuracy: 0.5359\n",
            "Epoch 18/150\n",
            "21/21 [==============================] - 0s 1ms/step - loss: 0.6931 - accuracy: 0.5090\n",
            "Epoch 19/150\n",
            "21/21 [==============================] - 0s 1ms/step - loss: 0.6931 - accuracy: 0.4850\n",
            "Epoch 20/150\n",
            "21/21 [==============================] - 0s 1ms/step - loss: 0.6931 - accuracy: 0.4790\n",
            "Epoch 21/150\n",
            "21/21 [==============================] - 0s 1ms/step - loss: 0.6931 - accuracy: 0.5030\n",
            "Epoch 22/150\n",
            "21/21 [==============================] - 0s 2ms/step - loss: 0.6931 - accuracy: 0.4880\n",
            "Epoch 23/150\n",
            "21/21 [==============================] - 0s 1ms/step - loss: 0.6931 - accuracy: 0.5090\n",
            "Epoch 24/150\n",
            "21/21 [==============================] - 0s 1ms/step - loss: 0.6931 - accuracy: 0.5359\n",
            "Epoch 25/150\n",
            "21/21 [==============================] - 0s 1ms/step - loss: 0.6931 - accuracy: 0.4910\n",
            "Epoch 26/150\n",
            "21/21 [==============================] - 0s 2ms/step - loss: 0.6931 - accuracy: 0.4910\n",
            "Epoch 27/150\n",
            "21/21 [==============================] - 0s 1ms/step - loss: 0.6931 - accuracy: 0.5329\n",
            "Epoch 28/150\n",
            "21/21 [==============================] - 0s 1ms/step - loss: 0.6931 - accuracy: 0.4970\n",
            "Epoch 29/150\n",
            "21/21 [==============================] - 0s 1ms/step - loss: 0.6931 - accuracy: 0.5000\n",
            "Epoch 30/150\n",
            "21/21 [==============================] - 0s 1ms/step - loss: 0.6931 - accuracy: 0.4820\n",
            "Epoch 31/150\n",
            "21/21 [==============================] - 0s 1ms/step - loss: 0.6931 - accuracy: 0.4880\n",
            "Epoch 32/150\n",
            "21/21 [==============================] - 0s 1ms/step - loss: 0.6931 - accuracy: 0.5030\n",
            "Epoch 33/150\n",
            "21/21 [==============================] - 0s 1ms/step - loss: 0.6931 - accuracy: 0.5240\n",
            "Epoch 34/150\n",
            "21/21 [==============================] - 0s 1ms/step - loss: 0.6931 - accuracy: 0.4820\n",
            "Epoch 35/150\n",
            "21/21 [==============================] - 0s 1ms/step - loss: 0.6931 - accuracy: 0.4731\n",
            "Epoch 36/150\n",
            "21/21 [==============================] - 0s 1ms/step - loss: 0.6931 - accuracy: 0.5329\n",
            "Epoch 37/150\n",
            "21/21 [==============================] - 0s 1ms/step - loss: 0.6931 - accuracy: 0.4731\n",
            "Epoch 38/150\n",
            "21/21 [==============================] - 0s 2ms/step - loss: 0.6931 - accuracy: 0.4731\n",
            "Epoch 39/150\n",
            "21/21 [==============================] - 0s 1ms/step - loss: 0.6931 - accuracy: 0.5180\n",
            "Epoch 40/150\n",
            "21/21 [==============================] - 0s 1ms/step - loss: 0.6931 - accuracy: 0.4910\n",
            "Epoch 41/150\n",
            "21/21 [==============================] - 0s 1ms/step - loss: 0.6931 - accuracy: 0.5210\n",
            "Epoch 42/150\n",
            "21/21 [==============================] - 0s 1ms/step - loss: 0.6931 - accuracy: 0.4701\n",
            "Epoch 43/150\n",
            "21/21 [==============================] - 0s 1ms/step - loss: 0.6931 - accuracy: 0.5150\n",
            "Epoch 44/150\n",
            "21/21 [==============================] - 0s 1ms/step - loss: 0.6931 - accuracy: 0.5210\n",
            "Epoch 45/150\n",
            "21/21 [==============================] - 0s 1ms/step - loss: 0.6931 - accuracy: 0.4910\n",
            "Epoch 46/150\n",
            "21/21 [==============================] - 0s 1ms/step - loss: 0.6931 - accuracy: 0.4880\n",
            "Epoch 47/150\n",
            "21/21 [==============================] - 0s 1ms/step - loss: 0.6931 - accuracy: 0.4910\n",
            "Epoch 48/150\n",
            "21/21 [==============================] - 0s 1ms/step - loss: 0.6931 - accuracy: 0.4910\n",
            "Epoch 49/150\n",
            "21/21 [==============================] - 0s 1ms/step - loss: 0.6931 - accuracy: 0.5090\n",
            "Epoch 50/150\n",
            "21/21 [==============================] - 0s 1ms/step - loss: 0.6931 - accuracy: 0.5120\n",
            "Epoch 51/150\n",
            "21/21 [==============================] - 0s 1ms/step - loss: 0.6931 - accuracy: 0.5060\n",
            "Epoch 52/150\n",
            "21/21 [==============================] - 0s 1ms/step - loss: 0.6931 - accuracy: 0.5329\n",
            "Epoch 53/150\n",
            "21/21 [==============================] - 0s 1ms/step - loss: 0.6931 - accuracy: 0.4880\n",
            "Epoch 54/150\n",
            "21/21 [==============================] - 0s 1ms/step - loss: 0.6931 - accuracy: 0.4970\n",
            "Epoch 55/150\n",
            "21/21 [==============================] - 0s 1ms/step - loss: 0.6931 - accuracy: 0.5269\n",
            "Epoch 56/150\n",
            "21/21 [==============================] - 0s 1ms/step - loss: 0.6931 - accuracy: 0.4551\n",
            "Epoch 57/150\n",
            "21/21 [==============================] - 0s 1ms/step - loss: 0.6931 - accuracy: 0.5299\n",
            "Epoch 58/150\n",
            "21/21 [==============================] - 0s 1ms/step - loss: 0.6931 - accuracy: 0.5240\n",
            "Epoch 59/150\n",
            "21/21 [==============================] - 0s 1ms/step - loss: 0.6931 - accuracy: 0.5150\n",
            "Epoch 60/150\n",
            "21/21 [==============================] - 0s 1ms/step - loss: 0.6931 - accuracy: 0.4910\n",
            "Epoch 61/150\n",
            "21/21 [==============================] - 0s 1ms/step - loss: 0.6931 - accuracy: 0.5030\n",
            "Epoch 62/150\n",
            "21/21 [==============================] - 0s 1ms/step - loss: 0.6931 - accuracy: 0.5180\n",
            "Epoch 63/150\n",
            "21/21 [==============================] - 0s 1ms/step - loss: 0.6931 - accuracy: 0.4940\n",
            "Epoch 64/150\n",
            "21/21 [==============================] - 0s 1ms/step - loss: 0.6931 - accuracy: 0.4701\n",
            "Epoch 65/150\n",
            "21/21 [==============================] - 0s 1ms/step - loss: 0.6931 - accuracy: 0.5030\n",
            "Epoch 66/150\n",
            "21/21 [==============================] - 0s 1ms/step - loss: 0.6931 - accuracy: 0.5180\n",
            "Epoch 67/150\n",
            "21/21 [==============================] - 0s 1ms/step - loss: 0.6931 - accuracy: 0.5299\n",
            "Epoch 68/150\n",
            "21/21 [==============================] - 0s 1ms/step - loss: 0.6931 - accuracy: 0.4880\n",
            "Epoch 69/150\n",
            "21/21 [==============================] - 0s 1ms/step - loss: 0.6931 - accuracy: 0.4940\n",
            "Epoch 70/150\n",
            "21/21 [==============================] - 0s 1ms/step - loss: 0.6931 - accuracy: 0.4970\n",
            "Epoch 71/150\n",
            "21/21 [==============================] - 0s 1ms/step - loss: 0.6931 - accuracy: 0.5090\n",
            "Epoch 72/150\n",
            "21/21 [==============================] - 0s 1ms/step - loss: 0.6931 - accuracy: 0.4820\n",
            "Epoch 73/150\n",
            "21/21 [==============================] - 0s 1ms/step - loss: 0.6931 - accuracy: 0.5120\n",
            "Epoch 74/150\n",
            "21/21 [==============================] - 0s 1ms/step - loss: 0.6931 - accuracy: 0.4970\n",
            "Epoch 75/150\n",
            "21/21 [==============================] - 0s 1ms/step - loss: 0.6931 - accuracy: 0.5090\n",
            "Epoch 76/150\n",
            "21/21 [==============================] - 0s 1ms/step - loss: 0.6931 - accuracy: 0.5090\n",
            "Epoch 77/150\n",
            "21/21 [==============================] - 0s 1ms/step - loss: 0.6931 - accuracy: 0.4820\n",
            "Epoch 78/150\n",
            "21/21 [==============================] - 0s 1ms/step - loss: 0.6931 - accuracy: 0.5000\n",
            "Epoch 79/150\n",
            "21/21 [==============================] - 0s 1ms/step - loss: 0.6931 - accuracy: 0.5000\n",
            "Epoch 80/150\n",
            "21/21 [==============================] - 0s 1ms/step - loss: 0.6931 - accuracy: 0.5060\n",
            "Epoch 81/150\n",
            "21/21 [==============================] - 0s 1ms/step - loss: 0.6931 - accuracy: 0.4940\n",
            "Epoch 82/150\n",
            "21/21 [==============================] - 0s 1ms/step - loss: 0.6931 - accuracy: 0.5030\n",
            "Epoch 83/150\n",
            "21/21 [==============================] - 0s 1ms/step - loss: 0.6931 - accuracy: 0.5150\n",
            "Epoch 84/150\n",
            "21/21 [==============================] - 0s 1ms/step - loss: 0.6931 - accuracy: 0.4940\n",
            "Epoch 85/150\n",
            "21/21 [==============================] - 0s 1ms/step - loss: 0.6931 - accuracy: 0.5030\n",
            "Epoch 86/150\n",
            "21/21 [==============================] - 0s 1ms/step - loss: 0.6931 - accuracy: 0.5000\n",
            "Epoch 87/150\n",
            "21/21 [==============================] - 0s 1ms/step - loss: 0.6931 - accuracy: 0.5180\n",
            "Epoch 88/150\n",
            "21/21 [==============================] - 0s 1ms/step - loss: 0.6931 - accuracy: 0.4671\n",
            "Epoch 89/150\n",
            "21/21 [==============================] - 0s 1ms/step - loss: 0.6931 - accuracy: 0.4850\n",
            "Epoch 90/150\n",
            "21/21 [==============================] - 0s 1ms/step - loss: 0.6931 - accuracy: 0.5060\n",
            "Epoch 91/150\n",
            "21/21 [==============================] - 0s 1ms/step - loss: 0.6931 - accuracy: 0.5389\n",
            "Epoch 92/150\n",
            "21/21 [==============================] - 0s 1ms/step - loss: 0.6931 - accuracy: 0.4641\n",
            "Epoch 93/150\n",
            "21/21 [==============================] - 0s 1ms/step - loss: 0.6931 - accuracy: 0.4850\n",
            "Epoch 94/150\n",
            "21/21 [==============================] - 0s 1ms/step - loss: 0.6931 - accuracy: 0.5090\n",
            "Epoch 95/150\n",
            "21/21 [==============================] - 0s 1ms/step - loss: 0.6931 - accuracy: 0.4910\n",
            "Epoch 96/150\n",
            "21/21 [==============================] - 0s 1ms/step - loss: 0.6931 - accuracy: 0.5180\n",
            "Epoch 97/150\n",
            "21/21 [==============================] - 0s 1ms/step - loss: 0.6931 - accuracy: 0.5269\n",
            "Epoch 98/150\n",
            "21/21 [==============================] - 0s 1ms/step - loss: 0.6931 - accuracy: 0.4790\n",
            "Epoch 99/150\n",
            "21/21 [==============================] - 0s 1ms/step - loss: 0.6931 - accuracy: 0.5120\n",
            "Epoch 100/150\n",
            "21/21 [==============================] - 0s 2ms/step - loss: 0.6931 - accuracy: 0.4880\n",
            "Epoch 101/150\n",
            "21/21 [==============================] - 0s 1ms/step - loss: 0.6931 - accuracy: 0.5240\n",
            "Epoch 102/150\n",
            "21/21 [==============================] - 0s 1ms/step - loss: 0.6931 - accuracy: 0.5030\n",
            "Epoch 103/150\n",
            "21/21 [==============================] - 0s 1ms/step - loss: 0.6931 - accuracy: 0.5210\n",
            "Epoch 104/150\n",
            "21/21 [==============================] - 0s 1ms/step - loss: 0.6931 - accuracy: 0.4760\n",
            "Epoch 105/150\n",
            "21/21 [==============================] - 0s 1ms/step - loss: 0.6931 - accuracy: 0.5150\n",
            "Epoch 106/150\n",
            "21/21 [==============================] - 0s 1ms/step - loss: 0.6931 - accuracy: 0.5090\n",
            "Epoch 107/150\n",
            "21/21 [==============================] - 0s 2ms/step - loss: 0.6931 - accuracy: 0.5090\n",
            "Epoch 108/150\n",
            "21/21 [==============================] - 0s 1ms/step - loss: 0.6931 - accuracy: 0.5090\n",
            "Epoch 109/150\n",
            "21/21 [==============================] - 0s 1ms/step - loss: 0.6931 - accuracy: 0.5389\n",
            "Epoch 110/150\n",
            "21/21 [==============================] - 0s 1ms/step - loss: 0.6931 - accuracy: 0.5479\n",
            "Epoch 111/150\n",
            "21/21 [==============================] - 0s 1ms/step - loss: 0.6931 - accuracy: 0.4970\n",
            "Epoch 112/150\n",
            "21/21 [==============================] - 0s 1ms/step - loss: 0.6931 - accuracy: 0.4940\n",
            "Epoch 113/150\n",
            "21/21 [==============================] - 0s 1ms/step - loss: 0.6931 - accuracy: 0.5299\n",
            "Epoch 114/150\n",
            "21/21 [==============================] - 0s 1ms/step - loss: 0.6931 - accuracy: 0.4850\n",
            "Epoch 115/150\n",
            "21/21 [==============================] - 0s 1ms/step - loss: 0.6931 - accuracy: 0.5120\n",
            "Epoch 116/150\n",
            "21/21 [==============================] - 0s 1ms/step - loss: 0.6931 - accuracy: 0.4970\n",
            "Epoch 117/150\n",
            "21/21 [==============================] - 0s 1ms/step - loss: 0.6931 - accuracy: 0.4731\n",
            "Epoch 118/150\n",
            "21/21 [==============================] - 0s 1ms/step - loss: 0.6931 - accuracy: 0.4820\n",
            "Epoch 119/150\n",
            "21/21 [==============================] - 0s 1ms/step - loss: 0.6931 - accuracy: 0.4701\n",
            "Epoch 120/150\n",
            "21/21 [==============================] - 0s 1ms/step - loss: 0.6931 - accuracy: 0.5030\n",
            "Epoch 121/150\n",
            "21/21 [==============================] - 0s 1ms/step - loss: 0.6931 - accuracy: 0.5210\n",
            "Epoch 122/150\n",
            "21/21 [==============================] - 0s 1ms/step - loss: 0.6931 - accuracy: 0.5090\n",
            "Epoch 123/150\n",
            "21/21 [==============================] - 0s 1ms/step - loss: 0.6931 - accuracy: 0.5180\n",
            "Epoch 124/150\n",
            "21/21 [==============================] - 0s 1ms/step - loss: 0.6931 - accuracy: 0.4790\n",
            "Epoch 125/150\n",
            "21/21 [==============================] - 0s 1ms/step - loss: 0.6931 - accuracy: 0.5150\n",
            "Epoch 126/150\n",
            "21/21 [==============================] - 0s 1ms/step - loss: 0.6931 - accuracy: 0.4701\n",
            "Epoch 127/150\n",
            "21/21 [==============================] - 0s 2ms/step - loss: 0.6931 - accuracy: 0.5090\n",
            "Epoch 128/150\n",
            "21/21 [==============================] - 0s 1ms/step - loss: 0.6931 - accuracy: 0.5180\n",
            "Epoch 129/150\n",
            "21/21 [==============================] - 0s 1ms/step - loss: 0.6931 - accuracy: 0.5000\n",
            "Epoch 130/150\n",
            "21/21 [==============================] - 0s 1ms/step - loss: 0.6931 - accuracy: 0.4701\n",
            "Epoch 131/150\n",
            "21/21 [==============================] - 0s 1ms/step - loss: 0.6931 - accuracy: 0.4910\n",
            "Epoch 132/150\n",
            "21/21 [==============================] - 0s 1ms/step - loss: 0.6931 - accuracy: 0.4641\n",
            "Epoch 133/150\n",
            "21/21 [==============================] - 0s 1ms/step - loss: 0.6931 - accuracy: 0.5240\n",
            "Epoch 134/150\n",
            "21/21 [==============================] - 0s 1ms/step - loss: 0.6931 - accuracy: 0.5060\n",
            "Epoch 135/150\n",
            "21/21 [==============================] - 0s 1ms/step - loss: 0.6931 - accuracy: 0.5120\n",
            "Epoch 136/150\n",
            "21/21 [==============================] - 0s 1ms/step - loss: 0.6931 - accuracy: 0.4850\n",
            "Epoch 137/150\n",
            "21/21 [==============================] - 0s 2ms/step - loss: 0.6931 - accuracy: 0.4910\n",
            "Epoch 138/150\n",
            "21/21 [==============================] - 0s 1ms/step - loss: 0.6931 - accuracy: 0.4641\n",
            "Epoch 139/150\n",
            "21/21 [==============================] - 0s 1ms/step - loss: 0.6931 - accuracy: 0.5120\n",
            "Epoch 140/150\n",
            "21/21 [==============================] - 0s 1ms/step - loss: 0.6931 - accuracy: 0.5090\n",
            "Epoch 141/150\n",
            "21/21 [==============================] - 0s 1ms/step - loss: 0.6931 - accuracy: 0.4970\n",
            "Epoch 142/150\n",
            "21/21 [==============================] - 0s 1ms/step - loss: 0.6931 - accuracy: 0.4491\n",
            "Epoch 143/150\n",
            "21/21 [==============================] - 0s 1ms/step - loss: 0.6931 - accuracy: 0.5150\n",
            "Epoch 144/150\n",
            "21/21 [==============================] - 0s 1ms/step - loss: 0.6931 - accuracy: 0.4521\n",
            "Epoch 145/150\n",
            "21/21 [==============================] - 0s 1ms/step - loss: 0.6931 - accuracy: 0.4850\n",
            "Epoch 146/150\n",
            "21/21 [==============================] - 0s 1ms/step - loss: 0.6931 - accuracy: 0.5030\n",
            "Epoch 147/150\n",
            "21/21 [==============================] - 0s 1ms/step - loss: 0.6931 - accuracy: 0.4641\n",
            "Epoch 148/150\n",
            "21/21 [==============================] - 0s 1ms/step - loss: 0.6931 - accuracy: 0.4491\n",
            "Epoch 149/150\n",
            "21/21 [==============================] - 0s 1ms/step - loss: 0.6931 - accuracy: 0.4731\n",
            "Epoch 150/150\n",
            "21/21 [==============================] - 0s 1ms/step - loss: 0.6931 - accuracy: 0.5150\n"
          ],
          "name": "stdout"
        },
        {
          "output_type": "execute_result",
          "data": {
            "text/plain": [
              "<tensorflow.python.keras.callbacks.History at 0x7faa3ac0c550>"
            ]
          },
          "metadata": {
            "tags": []
          },
          "execution_count": 164
        }
      ]
    },
    {
      "cell_type": "code",
      "metadata": {
        "id": "94-KvhPODcAv",
        "colab_type": "code",
        "colab": {}
      },
      "source": [
        "pred = np.round(model.predict(X_test))"
      ],
      "execution_count": null,
      "outputs": []
    },
    {
      "cell_type": "code",
      "metadata": {
        "id": "_5WJIBf_LJJX",
        "colab_type": "code",
        "colab": {
          "base_uri": "https://localhost:8080/",
          "height": 1000
        },
        "outputId": "63dab8dd-7796-4431-dfb9-1f23cd750085"
      },
      "source": [
        "pred"
      ],
      "execution_count": null,
      "outputs": [
        {
          "output_type": "execute_result",
          "data": {
            "text/plain": [
              "array([[1., 0.],\n",
              "       [1., 0.],\n",
              "       [1., 0.],\n",
              "       [1., 0.],\n",
              "       [1., 0.],\n",
              "       [1., 0.],\n",
              "       [1., 0.],\n",
              "       [1., 0.],\n",
              "       [1., 0.],\n",
              "       [1., 0.],\n",
              "       [1., 0.],\n",
              "       [1., 0.],\n",
              "       [1., 0.],\n",
              "       [1., 0.],\n",
              "       [1., 0.],\n",
              "       [1., 0.],\n",
              "       [1., 0.],\n",
              "       [1., 0.],\n",
              "       [1., 0.],\n",
              "       [1., 0.],\n",
              "       [1., 0.],\n",
              "       [1., 0.],\n",
              "       [1., 0.],\n",
              "       [1., 0.],\n",
              "       [1., 0.],\n",
              "       [1., 0.],\n",
              "       [1., 0.],\n",
              "       [1., 0.],\n",
              "       [1., 0.],\n",
              "       [1., 0.],\n",
              "       [1., 0.],\n",
              "       [1., 0.],\n",
              "       [1., 0.],\n",
              "       [1., 0.],\n",
              "       [1., 0.],\n",
              "       [1., 0.],\n",
              "       [1., 0.],\n",
              "       [1., 0.],\n",
              "       [1., 0.],\n",
              "       [1., 0.],\n",
              "       [1., 0.],\n",
              "       [1., 0.],\n",
              "       [1., 0.],\n",
              "       [1., 0.],\n",
              "       [1., 0.],\n",
              "       [1., 0.],\n",
              "       [1., 0.],\n",
              "       [1., 0.],\n",
              "       [1., 0.],\n",
              "       [1., 0.],\n",
              "       [1., 0.],\n",
              "       [1., 0.],\n",
              "       [1., 0.],\n",
              "       [1., 0.],\n",
              "       [1., 0.],\n",
              "       [1., 0.],\n",
              "       [1., 0.],\n",
              "       [1., 0.],\n",
              "       [1., 0.],\n",
              "       [1., 0.],\n",
              "       [1., 0.],\n",
              "       [1., 0.],\n",
              "       [1., 0.],\n",
              "       [1., 0.],\n",
              "       [1., 0.],\n",
              "       [1., 0.],\n",
              "       [1., 0.],\n",
              "       [1., 0.],\n",
              "       [1., 0.],\n",
              "       [1., 0.],\n",
              "       [1., 0.],\n",
              "       [1., 0.],\n",
              "       [1., 0.],\n",
              "       [1., 0.],\n",
              "       [1., 0.],\n",
              "       [1., 0.],\n",
              "       [1., 0.],\n",
              "       [1., 0.],\n",
              "       [1., 0.],\n",
              "       [1., 0.],\n",
              "       [1., 0.],\n",
              "       [1., 0.],\n",
              "       [1., 0.],\n",
              "       [1., 0.],\n",
              "       [1., 0.],\n",
              "       [1., 0.],\n",
              "       [1., 0.],\n",
              "       [1., 0.],\n",
              "       [1., 0.],\n",
              "       [1., 0.],\n",
              "       [1., 0.],\n",
              "       [1., 0.],\n",
              "       [1., 0.],\n",
              "       [1., 0.],\n",
              "       [1., 0.],\n",
              "       [1., 0.],\n",
              "       [1., 0.],\n",
              "       [1., 0.],\n",
              "       [1., 0.],\n",
              "       [1., 0.],\n",
              "       [1., 0.],\n",
              "       [1., 0.],\n",
              "       [1., 0.],\n",
              "       [1., 0.],\n",
              "       [1., 0.],\n",
              "       [1., 0.],\n",
              "       [1., 0.],\n",
              "       [1., 0.],\n",
              "       [1., 0.],\n",
              "       [1., 0.],\n",
              "       [1., 0.],\n",
              "       [1., 0.],\n",
              "       [1., 0.],\n",
              "       [1., 0.],\n",
              "       [1., 0.],\n",
              "       [1., 0.],\n",
              "       [1., 0.],\n",
              "       [1., 0.],\n",
              "       [1., 0.],\n",
              "       [1., 0.],\n",
              "       [1., 0.],\n",
              "       [1., 0.],\n",
              "       [1., 0.],\n",
              "       [1., 0.],\n",
              "       [1., 0.],\n",
              "       [1., 0.],\n",
              "       [1., 0.],\n",
              "       [1., 0.],\n",
              "       [1., 0.],\n",
              "       [1., 0.],\n",
              "       [1., 0.],\n",
              "       [1., 0.],\n",
              "       [1., 0.],\n",
              "       [1., 0.],\n",
              "       [1., 0.],\n",
              "       [1., 0.],\n",
              "       [1., 0.],\n",
              "       [1., 0.],\n",
              "       [1., 0.],\n",
              "       [1., 0.],\n",
              "       [1., 0.],\n",
              "       [1., 0.],\n",
              "       [1., 0.],\n",
              "       [1., 0.],\n",
              "       [1., 0.],\n",
              "       [1., 0.],\n",
              "       [1., 0.],\n",
              "       [1., 0.],\n",
              "       [1., 0.],\n",
              "       [1., 0.],\n",
              "       [1., 0.],\n",
              "       [1., 0.],\n",
              "       [1., 0.],\n",
              "       [1., 0.],\n",
              "       [1., 0.],\n",
              "       [1., 0.],\n",
              "       [1., 0.],\n",
              "       [1., 0.],\n",
              "       [1., 0.],\n",
              "       [1., 0.],\n",
              "       [1., 0.],\n",
              "       [1., 0.],\n",
              "       [1., 0.],\n",
              "       [1., 0.],\n",
              "       [1., 0.],\n",
              "       [1., 0.],\n",
              "       [1., 0.],\n",
              "       [1., 0.],\n",
              "       [1., 0.],\n",
              "       [1., 0.],\n",
              "       [1., 0.],\n",
              "       [1., 0.],\n",
              "       [1., 0.],\n",
              "       [1., 0.],\n",
              "       [1., 0.],\n",
              "       [1., 0.],\n",
              "       [1., 0.],\n",
              "       [1., 0.],\n",
              "       [1., 0.],\n",
              "       [1., 0.],\n",
              "       [1., 0.],\n",
              "       [1., 0.],\n",
              "       [1., 0.],\n",
              "       [1., 0.],\n",
              "       [1., 0.],\n",
              "       [1., 0.],\n",
              "       [1., 0.],\n",
              "       [1., 0.],\n",
              "       [1., 0.],\n",
              "       [1., 0.],\n",
              "       [1., 0.],\n",
              "       [1., 0.],\n",
              "       [1., 0.],\n",
              "       [1., 0.],\n",
              "       [1., 0.],\n",
              "       [1., 0.],\n",
              "       [1., 0.],\n",
              "       [1., 0.],\n",
              "       [1., 0.],\n",
              "       [1., 0.],\n",
              "       [1., 0.],\n",
              "       [1., 0.],\n",
              "       [1., 0.],\n",
              "       [1., 0.],\n",
              "       [1., 0.],\n",
              "       [1., 0.],\n",
              "       [1., 0.],\n",
              "       [1., 0.],\n",
              "       [1., 0.],\n",
              "       [1., 0.],\n",
              "       [1., 0.],\n",
              "       [1., 0.],\n",
              "       [1., 0.],\n",
              "       [1., 0.],\n",
              "       [1., 0.],\n",
              "       [1., 0.],\n",
              "       [1., 0.],\n",
              "       [1., 0.],\n",
              "       [1., 0.],\n",
              "       [1., 0.],\n",
              "       [1., 0.],\n",
              "       [1., 0.],\n",
              "       [1., 0.]], dtype=float32)"
            ]
          },
          "metadata": {
            "tags": []
          },
          "execution_count": 168
        }
      ]
    },
    {
      "cell_type": "code",
      "metadata": {
        "id": "mB-TULu1HuT1",
        "colab_type": "code",
        "colab": {}
      },
      "source": [
        "from sklearn.metrics import accuracy_score"
      ],
      "execution_count": null,
      "outputs": []
    },
    {
      "cell_type": "code",
      "metadata": {
        "id": "Y-3NhvnVH5Qy",
        "colab_type": "code",
        "colab": {
          "base_uri": "https://localhost:8080/",
          "height": 306
        },
        "outputId": "26907ce8-9d0e-40d5-8040-83f5a1af7e9a"
      },
      "source": [
        "accuracy_score(Y_test,pred)"
      ],
      "execution_count": null,
      "outputs": [
        {
          "output_type": "error",
          "ename": "ValueError",
          "evalue": "ignored",
          "traceback": [
            "\u001b[0;31m---------------------------------------------------------------------------\u001b[0m",
            "\u001b[0;31mValueError\u001b[0m                                Traceback (most recent call last)",
            "\u001b[0;32m<ipython-input-166-a4916251d450>\u001b[0m in \u001b[0;36m<module>\u001b[0;34m()\u001b[0m\n\u001b[0;32m----> 1\u001b[0;31m \u001b[0maccuracy_score\u001b[0m\u001b[0;34m(\u001b[0m\u001b[0mY_test\u001b[0m\u001b[0;34m,\u001b[0m\u001b[0mpred\u001b[0m\u001b[0;34m)\u001b[0m\u001b[0;34m\u001b[0m\u001b[0;34m\u001b[0m\u001b[0m\n\u001b[0m",
            "\u001b[0;32m/usr/local/lib/python3.6/dist-packages/sklearn/metrics/_classification.py\u001b[0m in \u001b[0;36maccuracy_score\u001b[0;34m(y_true, y_pred, normalize, sample_weight)\u001b[0m\n\u001b[1;32m    183\u001b[0m \u001b[0;34m\u001b[0m\u001b[0m\n\u001b[1;32m    184\u001b[0m     \u001b[0;31m# Compute accuracy for each possible representation\u001b[0m\u001b[0;34m\u001b[0m\u001b[0;34m\u001b[0m\u001b[0;34m\u001b[0m\u001b[0m\n\u001b[0;32m--> 185\u001b[0;31m     \u001b[0my_type\u001b[0m\u001b[0;34m,\u001b[0m \u001b[0my_true\u001b[0m\u001b[0;34m,\u001b[0m \u001b[0my_pred\u001b[0m \u001b[0;34m=\u001b[0m \u001b[0m_check_targets\u001b[0m\u001b[0;34m(\u001b[0m\u001b[0my_true\u001b[0m\u001b[0;34m,\u001b[0m \u001b[0my_pred\u001b[0m\u001b[0;34m)\u001b[0m\u001b[0;34m\u001b[0m\u001b[0;34m\u001b[0m\u001b[0m\n\u001b[0m\u001b[1;32m    186\u001b[0m     \u001b[0mcheck_consistent_length\u001b[0m\u001b[0;34m(\u001b[0m\u001b[0my_true\u001b[0m\u001b[0;34m,\u001b[0m \u001b[0my_pred\u001b[0m\u001b[0;34m,\u001b[0m \u001b[0msample_weight\u001b[0m\u001b[0;34m)\u001b[0m\u001b[0;34m\u001b[0m\u001b[0;34m\u001b[0m\u001b[0m\n\u001b[1;32m    187\u001b[0m     \u001b[0;32mif\u001b[0m \u001b[0my_type\u001b[0m\u001b[0;34m.\u001b[0m\u001b[0mstartswith\u001b[0m\u001b[0;34m(\u001b[0m\u001b[0;34m'multilabel'\u001b[0m\u001b[0;34m)\u001b[0m\u001b[0;34m:\u001b[0m\u001b[0;34m\u001b[0m\u001b[0;34m\u001b[0m\u001b[0m\n",
            "\u001b[0;32m/usr/local/lib/python3.6/dist-packages/sklearn/metrics/_classification.py\u001b[0m in \u001b[0;36m_check_targets\u001b[0;34m(y_true, y_pred)\u001b[0m\n\u001b[1;32m     88\u001b[0m     \u001b[0;32mif\u001b[0m \u001b[0mlen\u001b[0m\u001b[0;34m(\u001b[0m\u001b[0my_type\u001b[0m\u001b[0;34m)\u001b[0m \u001b[0;34m>\u001b[0m \u001b[0;36m1\u001b[0m\u001b[0;34m:\u001b[0m\u001b[0;34m\u001b[0m\u001b[0;34m\u001b[0m\u001b[0m\n\u001b[1;32m     89\u001b[0m         raise ValueError(\"Classification metrics can't handle a mix of {0} \"\n\u001b[0;32m---> 90\u001b[0;31m                          \"and {1} targets\".format(type_true, type_pred))\n\u001b[0m\u001b[1;32m     91\u001b[0m \u001b[0;34m\u001b[0m\u001b[0m\n\u001b[1;32m     92\u001b[0m     \u001b[0;31m# We can't have more than one value on y_type => The set is no more needed\u001b[0m\u001b[0;34m\u001b[0m\u001b[0;34m\u001b[0m\u001b[0;34m\u001b[0m\u001b[0m\n",
            "\u001b[0;31mValueError\u001b[0m: Classification metrics can't handle a mix of binary and multilabel-indicator targets"
          ]
        }
      ]
    },
    {
      "cell_type": "code",
      "metadata": {
        "id": "u4wMpY-8H7KT",
        "colab_type": "code",
        "colab": {}
      },
      "source": [
        ""
      ],
      "execution_count": null,
      "outputs": []
    }
  ]
}